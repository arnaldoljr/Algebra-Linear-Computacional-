{
 "cells": [
  {
   "cell_type": "markdown",
   "metadata": {},
   "source": [
    "$$\\Large{ \\textit{UNIVERSIDADE FEDERAL DO CEARÁ  } }$$\n",
    "\n",
    "$$ \\large{\\textit{Departamento de Ciências da Computação }} $$\n",
    "\n",
    "\n",
    "$$ \\large{\\textit{Mestrado e Doutorado em Ciências da Computação -  MDCC }} $$\n",
    "\n",
    "<hr/>"
   ]
  },
  {
   "cell_type": "markdown",
   "metadata": {},
   "source": [
    "$$\\Large{{\\textbf{ DISCIPLINA DE ÁLGEBRA LINEAR COMPUTACIONAL}}}$$\n",
    "\n",
    "\n",
    "\n",
    "$$\\large{\\texttt{Docente: Professor Creto Vidal}}$$\n",
    "\n",
    "$$\\large{\\texttt{Discente: Arnaldo Araújo}}$$\n",
    "<hr/>\n"
   ]
  },
  {
   "cell_type": "markdown",
   "metadata": {},
   "source": [
    "# MÉTODO DA POTÊNCIA"
   ]
  },
  {
   "cell_type": "code",
   "execution_count": 1,
   "metadata": {},
   "outputs": [],
   "source": [
    "#realizando os imports para todo o projeto\n",
    "import numpy as np\n",
    "from scipy import linalg as LA ## testes\n",
    "from __future__ import print_function \n",
    "from pprint import pprint\n",
    "from math import sqrt\n",
    "from scipy import random, linalg, dot, diag, all, allclose\n",
    "from __future__ import print_function \n",
    "from pprint import pprint\n"
   ]
  },
  {
   "cell_type": "code",
   "execution_count": 4,
   "metadata": {},
   "outputs": [
    {
     "data": {
      "text/plain": [
       "array([[  12.,  -51.,    4.],\n",
       "       [   6.,  167.,  -68.],\n",
       "       [  -4.,   24.,  -41.]])"
      ]
     },
     "execution_count": 4,
     "metadata": {},
     "output_type": "execute_result"
    }
   ],
   "source": [
    "#Matriz para os testes Iniciais\n",
    "A = np.array([[12.0,-51.0,4],[6.0,167.0,-68.0],[-4.0,24.0,-41.0]])\n",
    "A"
   ]
  },
  {
   "cell_type": "code",
   "execution_count": 3,
   "metadata": {},
   "outputs": [
    {
     "data": {
      "text/plain": [
       "array([[ 4.,  0.,  0.,  0.],\n",
       "       [ 0.,  2.,  4.,  0.],\n",
       "       [ 0.,  0.,  2.,  0.],\n",
       "       [ 0.,  0.,  0.,  2.]])"
      ]
     },
     "execution_count": 3,
     "metadata": {},
     "output_type": "execute_result"
    }
   ],
   "source": [
    "#matriz do rodolfo\n",
    "MRod = np.array([[4.0, 0.,   0.,   0.],\n",
    "   [0. ,  2.,   4.,   0],\n",
    "   [0.,   0.,   2.,   0.],\n",
    "   [0.,   0.,   0.,   2.]])\n",
    "MRod"
   ]
  },
  {
   "cell_type": "code",
   "execution_count": 80,
   "metadata": {},
   "outputs": [
    {
     "name": "stdout",
     "output_type": "stream",
     "text": [
      "fator é maior\n"
     ]
    }
   ],
   "source": [
    "tol = 1.0e-6\n",
    "fator = abs((Av2-Av3)/Av3)\n",
    "if(tol>fator):\n",
    "    print(\"continua\")\n",
    "else:\n",
    "    print(\"fator é maior\")"
   ]
  },
  {
   "cell_type": "code",
   "execution_count": 81,
   "metadata": {},
   "outputs": [
    {
     "name": "stdout",
     "output_type": "stream",
     "text": [
      "5\n"
     ]
    }
   ],
   "source": [
    "k = 0\n",
    "while k<5:\n",
    "    k = k+1\n",
    "print(k)\n",
    "    "
   ]
  },
  {
   "cell_type": "code",
   "execution_count": 4,
   "metadata": {
    "collapsed": true
   },
   "outputs": [],
   "source": [
    "#AUTOVALORES E AUTOVETORES PELO MÉTODO DA POTÊNCIA\n",
    "def AA_mpot(A):   \n",
    "    l,c = A.shape\n",
    "    v = np.random.rand(l,1)\n",
    "    q_zero = v/ LA.norm(v)\n",
    "    y_zero = np.dot(A,q_zero)\n",
    "    Av_zero = np.dot(q_zero.T,y_zero)\n",
    "    #y = np.copy(y_zero)\n",
    "    k = 0\n",
    "    while(k<100):\n",
    "        q = y_zero /LA.norm(y_zero)\n",
    "        y = np.dot(A,q)\n",
    "        Av = np.dot(q.T,y)\n",
    "        #analiso a AV e o AV_zero\n",
    "        k = k+1\n",
    "        y_zero = np.copy(y) #autovetor\n",
    "        Av_zero = np.copy(Av) #autovalor\n",
    "    return (Av,y)\n",
    "    "
   ]
  },
  {
   "cell_type": "code",
   "execution_count": 86,
   "metadata": {},
   "outputs": [
    {
     "data": {
      "text/plain": [
       "(array([[ 6.]]), array([[ 4.78440288],\n",
       "        [ 3.41743063],\n",
       "        [-1.19610072]]))"
      ]
     },
     "execution_count": 86,
     "metadata": {},
     "output_type": "execute_result"
    }
   ],
   "source": [
    "AA_mpot(A)"
   ]
  },
  {
   "cell_type": "code",
   "execution_count": 5,
   "metadata": {},
   "outputs": [
    {
     "data": {
      "text/plain": [
       "(array([[ 4.]]), array([[  4.00000000e+00],\n",
       "        [  3.62771003e-28],\n",
       "        [  1.79454254e-30],\n",
       "        [  6.57050098e-31]]))"
      ]
     },
     "execution_count": 5,
     "metadata": {},
     "output_type": "execute_result"
    }
   ],
   "source": [
    "AA_mpot(MRod)"
   ]
  },
  {
   "cell_type": "markdown",
   "metadata": {
    "collapsed": true
   },
   "source": [
    "# MÉTODO DA POTÊNCIA INVERSA "
   ]
  },
  {
   "cell_type": "code",
   "execution_count": 16,
   "metadata": {},
   "outputs": [
    {
     "data": {
      "text/plain": [
       "array([[ 2.,  1.,  0.],\n",
       "       [ 2.,  5.,  3.],\n",
       "       [ 0.,  1.,  6.]])"
      ]
     },
     "execution_count": 16,
     "metadata": {},
     "output_type": "execute_result"
    }
   ],
   "source": [
    "A =  np.array([[2.0,1.0,0.0],[2.,5.,3.],[0.0,1.,6.]])\n",
    "A"
   ]
  },
  {
   "cell_type": "code",
   "execution_count": 6,
   "metadata": {},
   "outputs": [
    {
     "data": {
      "text/plain": [
       "array([[ 4.,  0.,  0.,  0.],\n",
       "       [ 0.,  2.,  4.,  0.],\n",
       "       [ 0.,  0.,  2.,  0.],\n",
       "       [ 0.,  0.,  0.,  2.]])"
      ]
     },
     "execution_count": 6,
     "metadata": {},
     "output_type": "execute_result"
    }
   ],
   "source": [
    "MRod"
   ]
  },
  {
   "cell_type": "code",
   "execution_count": 7,
   "metadata": {
    "collapsed": true
   },
   "outputs": [],
   "source": [
    "#AUTOVALORES E AUTOVETORES PELO MÉTODO DA POTÊNCIA INVERSA\n",
    "def AAInv_mpot(A):   \n",
    "    l,c = A.shape\n",
    "    v = np.random.rand(l,1)\n",
    "    q_zero = v/ LA.norm(v)\n",
    "    #A = LU \n",
    "    LU = linalg.lu_factor(A)\n",
    "    y_zero = linalg.lu_solve(LU, q_zero) \n",
    "    Av_zero = np.dot(q_zero.T,y_zero)\n",
    "    AvInv_zero = 1/(Av_zero)\n",
    "    k = 0\n",
    "    while(k<100):\n",
    "        q = y_zero /LA.norm(y_zero)\n",
    "        y = linalg.lu_solve(LU,q)\n",
    "        AvInv = np.dot(q.T,y)\n",
    "        #analiso a AV e o AV_zero\n",
    "        k = k+1\n",
    "        y_zero = np.copy(y) #autovetor\n",
    "        AvInv = 1/(AvInv)\n",
    "        AvInv_zero = np.copy(AvInv) #autovalor\n",
    "    return (AvInv,y)\n"
   ]
  },
  {
   "cell_type": "code",
   "execution_count": 26,
   "metadata": {},
   "outputs": [
    {
     "data": {
      "text/plain": [
       "(array([[ 1.3375352]]), array([[ 0.61895637],\n",
       "        [-0.41003681],\n",
       "        [ 0.08794422]]))"
      ]
     },
     "execution_count": 26,
     "metadata": {},
     "output_type": "execute_result"
    }
   ],
   "source": [
    "AAInv_mpot(A)"
   ]
  },
  {
   "cell_type": "code",
   "execution_count": 8,
   "metadata": {},
   "outputs": [
    {
     "data": {
      "text/plain": [
       "(array([[ 1.98006905]]), array([[  5.90328951e-33],\n",
       "        [ -5.04728124e-01],\n",
       "        [  2.51799614e-03],\n",
       "        [  1.73618174e-02]]))"
      ]
     },
     "execution_count": 8,
     "metadata": {},
     "output_type": "execute_result"
    }
   ],
   "source": [
    "AAInv_mpot(MRod)"
   ]
  },
  {
   "cell_type": "markdown",
   "metadata": {},
   "source": [
    "## Autovalores, ESTIMATIVAS A PRIORI"
   ]
  },
  {
   "cell_type": "markdown",
   "metadata": {},
   "source": [
    "## Teorema de Gerschgorin"
   ]
  },
  {
   "cell_type": "code",
   "execution_count": 2,
   "metadata": {},
   "outputs": [
    {
     "data": {
      "text/plain": [
       "array([[ 10. ,  -1. ,   0. ,   1. ],\n",
       "       [  0.2,   8. ,   0.2,   0.2],\n",
       "       [  1. ,   1. ,   2. ,   1. ],\n",
       "       [ -1. ,  -1. ,  -1. , -11. ]])"
      ]
     },
     "execution_count": 2,
     "metadata": {},
     "output_type": "execute_result"
    }
   ],
   "source": [
    "#Teorema de Gerschgorin\n",
    "# testes\n",
    "A = np.array([[10.0,-1.0,0.,1],[0.2,8.0,0.2,0.2],[1.,1.,2.,1.],[-1.,-1.,-1.,-11.,]])\n",
    "A"
   ]
  },
  {
   "cell_type": "code",
   "execution_count": 19,
   "metadata": {
    "collapsed": true
   },
   "outputs": [],
   "source": [
    "def Gerschgorin(A):\n",
    "    l,c = A.shape\n",
    "    x = sum(np.abs(A[0][:])) - np.abs(A[0][0])\n",
    "    piso_zero = A[0][0] - x\n",
    "    teto_zero = A[0][0] + x\n",
    "    for i in range(1,l):\n",
    "        x = sum(np.abs(A[i][:])) - np.abs(A[i][i])\n",
    "        piso = A[i][i] - x\n",
    "        teto = A[i][i] + x\n",
    "        if teto>teto_zero:\n",
    "            teto_zero = teto\n",
    "        if piso<piso_zero:\n",
    "            piso_zero = piso\n",
    "    return(piso_zero,teto_zero)\n",
    "        \n",
    "        \n",
    "    "
   ]
  },
  {
   "cell_type": "code",
   "execution_count": 10,
   "metadata": {},
   "outputs": [
    {
     "data": {
      "text/plain": [
       "(-14.0, 12.0)"
      ]
     },
     "execution_count": 10,
     "metadata": {},
     "output_type": "execute_result"
    }
   ],
   "source": [
    "Gerschgorin(A)"
   ]
  },
  {
   "cell_type": "code",
   "execution_count": 14,
   "metadata": {},
   "outputs": [
    {
     "data": {
      "text/plain": [
       "1.6435793515917752"
      ]
     },
     "execution_count": 14,
     "metadata": {},
     "output_type": "execute_result"
    }
   ],
   "source": [
    "mi = random.uniform(piso_zero, teto_zero)\n",
    "mi"
   ]
  },
  {
   "cell_type": "code",
   "execution_count": 15,
   "metadata": {},
   "outputs": [
    {
     "data": {
      "text/plain": [
       "array([[ 2.,  1.,  0.],\n",
       "       [ 2.,  5.,  3.],\n",
       "       [ 0.,  1.,  6.]])"
      ]
     },
     "execution_count": 15,
     "metadata": {},
     "output_type": "execute_result"
    }
   ],
   "source": [
    "A =  np.array([[2.0,1.0,0.0],[2.,5.,3.],[0.0,1.,6.]])\n",
    "A"
   ]
  },
  {
   "cell_type": "code",
   "execution_count": 30,
   "metadata": {},
   "outputs": [
    {
     "data": {
      "text/plain": [
       "array([[-0.25934491]])"
      ]
     },
     "execution_count": 30,
     "metadata": {},
     "output_type": "execute_result"
    }
   ],
   "source": [
    "# ESTIMATIVA DE UM AUTOVALOR entre o Autovalor Máximo e o Autovalor Mínimo\n",
    "def AAEstim(A):\n",
    "    piso,teto = Gerschgorin(A)\n",
    "    mi = random.uniform(piso, teto)\n",
    "    l,c = A.shape\n",
    "    I = np.identity(l)\n",
    "    I = I*mi\n",
    "    Abarra = A - I\n",
    "    Avmi,yEst = AAInv_mpot(Abarra)\n",
    "    AvEst = Avmi + mi \n",
    "    return(AvEst,yEst)"
   ]
  },
  {
   "cell_type": "code",
   "execution_count": 31,
   "metadata": {},
   "outputs": [
    {
     "data": {
      "text/plain": [
       "array([[ 7.44437482]])"
      ]
     },
     "execution_count": 31,
     "metadata": {},
     "output_type": "execute_result"
    }
   ],
   "source": [
    "AvEst = Avmi + mi \n",
    "AvEst"
   ]
  },
  {
   "cell_type": "code",
   "execution_count": null,
   "metadata": {
    "collapsed": true
   },
   "outputs": [],
   "source": []
  },
  {
   "cell_type": "code",
   "execution_count": null,
   "metadata": {
    "collapsed": true
   },
   "outputs": [],
   "source": []
  },
  {
   "cell_type": "code",
   "execution_count": 2,
   "metadata": {},
   "outputs": [
    {
     "data": {
      "text/plain": [
       "array([[ 1.,  2.,  6.,  8.],\n",
       "       [ 2.,  5.,  7., -3.],\n",
       "       [ 6.,  7.,  9.,  4.],\n",
       "       [ 8., -3.,  4.,  3.]])"
      ]
     },
     "execution_count": 2,
     "metadata": {},
     "output_type": "execute_result"
    }
   ],
   "source": [
    "#A deve ser simétrica\n",
    "A =  np.array([[1.,  2.,  6.,  8.], \n",
    "[2.,  5.,  7.,  -3.],\n",
    "[6.,  7.,  9.,  4.],\n",
    "[8.,  -3., 4.,  3.]])\n",
    "A"
   ]
  },
  {
   "cell_type": "code",
   "execution_count": 4,
   "metadata": {
    "collapsed": true
   },
   "outputs": [],
   "source": [
    "Q,R = np.linalg.qr(A)"
   ]
  },
  {
   "cell_type": "code",
   "execution_count": 5,
   "metadata": {},
   "outputs": [
    {
     "data": {
      "text/plain": [
       "array([[-0.09759001, -0.19357357,  0.86349608, -0.45538992],\n",
       "       [-0.19518001, -0.50006505,  0.28469563,  0.7942217 ],\n",
       "       [-0.58554004, -0.59685183, -0.39868141, -0.37678094],\n",
       "       [-0.78072006,  0.59685183,  0.11990014,  0.14095402]])"
      ]
     },
     "execution_count": 5,
     "metadata": {},
     "output_type": "execute_result"
    }
   ],
   "source": [
    "Q"
   ]
  },
  {
   "cell_type": "code",
   "execution_count": 6,
   "metadata": {},
   "outputs": [
    {
     "data": {
      "text/plain": [
       "array([[-10.24695077,  -2.92770022, -10.34454077,  -4.87950036],\n",
       "       [  0.        ,  -8.85599071,  -7.64615591,  -0.64524522],\n",
       "       [  0.        ,   0.        ,   4.06531376,   4.81885657],\n",
       "       [  0.        ,   0.        ,   0.        ,  -7.11004614]])"
      ]
     },
     "execution_count": 6,
     "metadata": {},
     "output_type": "execute_result"
    }
   ],
   "source": [
    "R"
   ]
  },
  {
   "cell_type": "code",
   "execution_count": 7,
   "metadata": {},
   "outputs": [
    {
     "data": {
      "text/plain": [
       "array([[ 11.43809524,   6.70939875,  -6.14258198,   5.55095564],\n",
       "       [  6.70939875,   8.6070778 ,   0.44975341,  -4.24364407],\n",
       "       [ -6.14258198,   0.44975341,  -1.04298344,  -0.85249554],\n",
       "       [  5.55095564,  -4.24364407,  -0.85249554,  -1.0021896 ]])"
      ]
     },
     "execution_count": 7,
     "metadata": {},
     "output_type": "execute_result"
    }
   ],
   "source": [
    "np.dot(R,Q)"
   ]
  },
  {
   "cell_type": "code",
   "execution_count": 8,
   "metadata": {},
   "outputs": [
    {
     "data": {
      "text/plain": [
       "array([[ 11.43809524,   6.70939875,  -6.14258198,   5.55095564],\n",
       "       [  6.70939875,   8.6070778 ,   0.44975341,  -4.24364407],\n",
       "       [ -6.14258198,   0.44975341,  -1.04298344,  -0.85249554],\n",
       "       [  5.55095564,  -4.24364407,  -0.85249554,  -1.0021896 ]])"
      ]
     },
     "execution_count": 8,
     "metadata": {},
     "output_type": "execute_result"
    }
   ],
   "source": [
    "np.dot(np.dot(Q.T,A),Q)"
   ]
  },
  {
   "cell_type": "code",
   "execution_count": 2,
   "metadata": {},
   "outputs": [
    {
     "data": {
      "text/plain": [
       "array([[ 1.,  2.,  6.,  8.],\n",
       "       [ 2.,  5.,  7., -3.],\n",
       "       [ 6.,  7.,  9.,  4.],\n",
       "       [ 8., -3.,  4.,  3.]])"
      ]
     },
     "execution_count": 2,
     "metadata": {},
     "output_type": "execute_result"
    }
   ],
   "source": [
    "#A deve ser simétrica\n",
    "Asimetrica =  np.array([[1.,  2.,  6.,  8.], \n",
    "[2.,  5.,  7.,  -3.],\n",
    "[6.,  7.,  9.,  4.],\n",
    "[8.,  -3., 4.,  3.]])\n",
    "Asimetrica"
   ]
  },
  {
   "cell_type": "code",
   "execution_count": 6,
   "metadata": {},
   "outputs": [
    {
     "data": {
      "text/plain": [
       "array([[ 1.,  2.,  7.,  8.],\n",
       "       [ 2.,  5.,  7., -3.],\n",
       "       [ 1.,  7.,  9.,  4.],\n",
       "       [ 8.,  4.,  2.,  3.]])"
      ]
     },
     "execution_count": 6,
     "metadata": {},
     "output_type": "execute_result"
    }
   ],
   "source": [
    "#A deve ser simétrica\n",
    "A =  np.array([[1.,  2.,  7.,  8.], \n",
    "[2.,  5.,  7.,  -3.],\n",
    "[1.,  7.,  9.,  4.],\n",
    "[8.,  4., 2.,  3.]])\n",
    "A"
   ]
  },
  {
   "cell_type": "code",
   "execution_count": 6,
   "metadata": {
    "collapsed": true
   },
   "outputs": [],
   "source": [
    "def HH_HENS(A):\n",
    "    l,c = A.shape\n",
    "    for i in range(l-2):\n",
    "        u = A[i+1:,i]\n",
    "        k = np.linalg.norm(u)\n",
    "        if u[0]<0.0:\n",
    "            k = -k  #  PQ DISSO mesmo?\n",
    "        u[0] = u[0] + k\n",
    "        h = np.dot(u,u)/2.0 # 1/2 da norma ao quadrado de u \n",
    "        v = np.dot(A[i+1:,i+1:],u)/h\n",
    "        g = np.dot(u,v)/(2*h)\n",
    "        v = v - g*u\n",
    "        A[i+1:,i+1:] = A[i+1:,i+1:] - np.outer(v,u)\n",
    "        A[i,i+1]= -k\n",
    "    return A\n",
    "        \n",
    "        \n",
    "    \n",
    "    "
   ]
  },
  {
   "cell_type": "code",
   "execution_count": 8,
   "metadata": {},
   "outputs": [
    {
     "data": {
      "text/plain": [
       "array([[  1.        , -10.19803903,   6.        ,   8.        ],\n",
       "       [ 12.19803903,   7.26923077,   5.46007698,  -1.51174061],\n",
       "       [  6.        , -10.33975259,   0.57212318,  -3.17887947],\n",
       "       [  8.        ,   2.44973602,  -4.22782128,   9.15864605]])"
      ]
     },
     "execution_count": 8,
     "metadata": {},
     "output_type": "execute_result"
    }
   ],
   "source": [
    "HH_HENS(Asimetrica)"
   ]
  },
  {
   "cell_type": "code",
   "execution_count": null,
   "metadata": {
    "collapsed": true
   },
   "outputs": [],
   "source": []
  },
  {
   "cell_type": "code",
   "execution_count": null,
   "metadata": {
    "collapsed": true
   },
   "outputs": [],
   "source": []
  },
  {
   "cell_type": "code",
   "execution_count": null,
   "metadata": {
    "collapsed": true
   },
   "outputs": [],
   "source": []
  },
  {
   "cell_type": "code",
   "execution_count": 3,
   "metadata": {},
   "outputs": [],
   "source": [
    "def TriD_HH(Mat): \n",
    "    A = np.copy(Mat)\n",
    "    l,c = A.shape\n",
    "    for i in range(l-2):\n",
    "        x = A[i+1:,i]\n",
    "        k = np.linalg.norm(x)\n",
    "        u= np.copy(x)\n",
    "        if u[0]<0.0:\n",
    "            k = -k  # PERGUNTAR AO PROFESSOR PQ DISSO\n",
    "        u[0] = u[0] + k\n",
    "        h = np.dot(u,u)/2.0 # 1/2 da norma ao quadrado de u \n",
    "        Matu = np.outer(u,u)\n",
    "        n  = len(Matu)\n",
    "        Q = np.eye(n)\n",
    "        Q = Q - (Matu/h)\n",
    "        A_HH = np.eye((n))\n",
    "        A_HH = A[i+1:,i+1:]\n",
    "        A_HH = np.dot(np.dot(Q,A_HH),Q)\n",
    "        Qx = np.dot(Q,x)\n",
    "        Qx[0] = -k\n",
    "        A[i,i+1:] = Qx.T\n",
    "        A[i+1:,i] = Qx\n",
    "        A[i+1:,i+1:] = A_HH\n",
    "    return A.round(4)\n"
   ]
  },
  {
   "cell_type": "code",
   "execution_count": 4,
   "metadata": {},
   "outputs": [
    {
     "data": {
      "text/plain": [
       "array([[ 1.,  2.,  6.,  8.],\n",
       "       [ 2.,  5.,  7., -3.],\n",
       "       [ 6.,  7.,  9.,  4.],\n",
       "       [ 8., -3.,  4.,  3.]])"
      ]
     },
     "execution_count": 4,
     "metadata": {},
     "output_type": "execute_result"
    }
   ],
   "source": [
    "Asimetrica"
   ]
  },
  {
   "cell_type": "code",
   "execution_count": 5,
   "metadata": {},
   "outputs": [
    {
     "data": {
      "text/plain": [
       "array([[  1.    , -10.198 ,   0.    ,  -0.    ],\n",
       "       [-10.198 ,   9.5385,   5.4472,  -0.    ],\n",
       "       [  0.    ,   5.4472,   5.1309,   6.3607],\n",
       "       [ -0.    ,  -0.    ,   6.3607,   2.3306]])"
      ]
     },
     "execution_count": 5,
     "metadata": {},
     "output_type": "execute_result"
    }
   ],
   "source": [
    "TriD = TriD_HH(Asimetrica)\n",
    "TriD"
   ]
  },
  {
   "cell_type": "code",
   "execution_count": 7,
   "metadata": {},
   "outputs": [
    {
     "data": {
      "text/plain": [
       "array([[ 1.    , -8.3066, -0.    , -0.    ],\n",
       "       [-8.3066,  4.5362,  6.3818, -0.    ],\n",
       "       [-0.    ,  6.3818,  4.3468,  5.1586],\n",
       "       [-0.    , -0.    ,  6.4828,  8.117 ]])"
      ]
     },
     "execution_count": 7,
     "metadata": {},
     "output_type": "execute_result"
    }
   ],
   "source": [
    "TriD_HH(A)\n"
   ]
  },
  {
   "cell_type": "code",
   "execution_count": 8,
   "metadata": {},
   "outputs": [
    {
     "data": {
      "text/plain": [
       "array([[ 1.        , -9.02893898, -5.71170077, -1.68959615],\n",
       "       [-8.30662386,  4.53623188,  2.56654974,  6.05726797],\n",
       "       [ 0.        ,  6.38176685,  4.34675479,  5.15857301],\n",
       "       [ 0.        ,  0.        ,  6.4828174 ,  8.11701332]])"
      ]
     },
     "execution_count": 8,
     "metadata": {},
     "output_type": "execute_result"
    }
   ],
   "source": [
    "linalg.hessenberg(A)"
   ]
  },
  {
   "cell_type": "markdown",
   "metadata": {
    "collapsed": true
   },
   "source": [
    "$$\\Large\\text{DIAGONALIZAÇÃO DE UMA MATRIZ TRIDIAGONAL POR QR}$$"
   ]
  },
  {
   "cell_type": "code",
   "execution_count": 130,
   "metadata": {},
   "outputs": [
    {
     "data": {
      "text/plain": [
       "array([[  1.    , -10.198 ,   0.    ,   0.    ],\n",
       "       [-10.198 ,   9.5385,   5.4472,   0.    ],\n",
       "       [  0.    ,   5.4472,   5.1309,   6.3607],\n",
       "       [  0.    ,   0.    ,   6.3607,   2.3306]])"
      ]
     },
     "execution_count": 130,
     "metadata": {},
     "output_type": "execute_result"
    }
   ],
   "source": [
    "#SEJA A SEGUINTE MATRIZ TRIDIAGONAL \n",
    "TriD"
   ]
  },
  {
   "cell_type": "code",
   "execution_count": 142,
   "metadata": {},
   "outputs": [
    {
     "data": {
      "text/plain": [
       "array([[  1.  , -10.2 ,   0.  ,   0.  ],\n",
       "       [-10.2 ,   9.54,   5.45,   0.  ],\n",
       "       [  0.  ,   5.45,   5.13,   6.36],\n",
       "       [  0.  ,   0.  ,   6.36,   2.33]])"
      ]
     },
     "execution_count": 142,
     "metadata": {},
     "output_type": "execute_result"
    }
   ],
   "source": [
    "linalg.hessenberg(Asimetrica).round(2)"
   ]
  },
  {
   "cell_type": "code",
   "execution_count": 102,
   "metadata": {
    "collapsed": true
   },
   "outputs": [],
   "source": [
    "def Diag_QR(A):\n",
    "    l,c = A.shape\n",
    "    Qfinal = np.eye((l))\n",
    "    Q,R = np.linalg.qr(A)\n",
    "    D = np.dot(R,Q)\n",
    "    for i in range(c):\n",
    "        Q,R = np.linalg.qr(D)\n",
    "        A = np.dot(R,Q)\n",
    "        Qfinal = np.dot(Qfinal,Q)\n",
    "        D = np.copy(A)\n",
    "    return D,Qfinal\n",
    "    \n",
    "    "
   ]
  },
  {
   "cell_type": "code",
   "execution_count": 106,
   "metadata": {
    "collapsed": true
   },
   "outputs": [],
   "source": [
    "MatDiag, QD = Diag_QR(MAT)"
   ]
  },
  {
   "cell_type": "code",
   "execution_count": 112,
   "metadata": {},
   "outputs": [
    {
     "name": "stdout",
     "output_type": "stream",
     "text": [
      "[ 47613.74     -0.        0.        0.  ]\n",
      "\n",
      "\n",
      "[ -0.00000000e+00   1.66990000e+02  -1.00000000e-02   0.00000000e+00]\n",
      "\n",
      "\n",
      "[  0.00000000e+00  -1.00000000e-02  -1.84100000e+01   0.00000000e+00]\n",
      "\n",
      "\n",
      "[ 0.    0.    0.    0.97]\n",
      "\n",
      "\n"
     ]
    }
   ],
   "source": [
    "MatDiag.round(2)\n",
    "l = MatDiag.shape[0]\n",
    "for i in range(l):\n",
    "    print(MatDiag[i,:].round(2))\n",
    "    print(\"\\n\")"
   ]
  },
  {
   "cell_type": "code",
   "execution_count": 108,
   "metadata": {},
   "outputs": [
    {
     "data": {
      "text/plain": [
       "array([[  2.28772562e-03,   9.50119130e-01,   2.97698773e-01,\n",
       "          9.29722848e-02],\n",
       "       [ -8.93860244e-01,  -1.37815572e-01,   4.11243260e-01,\n",
       "          1.13576904e-01],\n",
       "       [  4.48339857e-01,  -2.79611369e-01,   8.18414741e-01,\n",
       "          2.25845448e-01],\n",
       "       [  5.57276592e-05,  -9.89896963e-03,  -2.69168595e-01,\n",
       "          9.63042198e-01]])"
      ]
     },
     "execution_count": 108,
     "metadata": {},
     "output_type": "execute_result"
    }
   ],
   "source": [
    "QD"
   ]
  },
  {
   "cell_type": "markdown",
   "metadata": {},
   "source": [
    "$$\\Large\\text{DIAGONALIZAÇÃO DE MATRIZES NÃO SIMÉTRICAS}$$\n",
    "<hr/>\n",
    "$$\\Large\\text{TRIDIAGONALIZAÇÃO NÃO É POSSÍVEL - RESULTADO: MATRIZ DE HESSENBERG}$$\n",
    "\n"
   ]
  },
  {
   "cell_type": "code",
   "execution_count": 139,
   "metadata": {},
   "outputs": [
    {
     "data": {
      "text/plain": [
       "array([[  12.,  -51.,    4.],\n",
       "       [   6.,  167.,  -68.],\n",
       "       [  -4.,   24.,  -41.]])"
      ]
     },
     "execution_count": 139,
     "metadata": {},
     "output_type": "execute_result"
    }
   ],
   "source": [
    "#Matriz para os testes Iniciais\n",
    "A = np.array([[12.0,-51.0,4],[6.0,167.0,-68.0],[-4.0,24.0,-41.0]]) #UUUQQQQQ\n",
    "A"
   ]
  },
  {
   "cell_type": "code",
   "execution_count": 140,
   "metadata": {},
   "outputs": [
    {
     "data": {
      "text/plain": [
       "array([[  12.    ,   -7.2111,   -0.    ],\n",
       "       [  -7.2111,  123.3077,  -41.5385],\n",
       "       [  -0.    , -133.5385,    2.6923]])"
      ]
     },
     "execution_count": 140,
     "metadata": {},
     "output_type": "execute_result"
    }
   ],
   "source": [
    "Hen=TriD_HH(A)\n",
    "Hen"
   ]
  },
  {
   "cell_type": "code",
   "execution_count": 115,
   "metadata": {},
   "outputs": [
    {
     "data": {
      "text/plain": [
       "array([[  12.,  -51.,    4.],\n",
       "       [   6.,  167.,  -68.],\n",
       "       [  -4.,   24.,  -41.]])"
      ]
     },
     "execution_count": 115,
     "metadata": {},
     "output_type": "execute_result"
    }
   ],
   "source": [
    "A"
   ]
  },
  {
   "cell_type": "code",
   "execution_count": 117,
   "metadata": {},
   "outputs": [
    {
     "data": {
      "text/plain": [
       "array([[  12.        ,   44.6533658 ,  -24.96150883],\n",
       "       [  -7.21110255,  123.30769231,  -41.53846154],\n",
       "       [   0.        , -133.53846154,    2.69230769]])"
      ]
     },
     "execution_count": 117,
     "metadata": {},
     "output_type": "execute_result"
    }
   ],
   "source": [
    "linalg.hessenberg(A)"
   ]
  },
  {
   "cell_type": "code",
   "execution_count": null,
   "metadata": {
    "collapsed": true
   },
   "outputs": [],
   "source": []
  },
  {
   "cell_type": "code",
   "execution_count": null,
   "metadata": {
    "collapsed": true
   },
   "outputs": [],
   "source": []
  },
  {
   "cell_type": "code",
   "execution_count": null,
   "metadata": {
    "collapsed": true
   },
   "outputs": [],
   "source": []
  },
  {
   "cell_type": "markdown",
   "metadata": {
    "collapsed": true
   },
   "source": [
    "$$\\Large\\text{Autovetores e Autovalores por Decomposição QR (MÉTODO DE FRANCIS)}$$"
   ]
  },
  {
   "cell_type": "code",
   "execution_count": 21,
   "metadata": {},
   "outputs": [
    {
     "data": {
      "text/plain": [
       "array([[ 1.,  2.,  6.,  8.],\n",
       "       [ 2.,  5.,  7., -3.],\n",
       "       [ 6.,  7.,  9.,  4.],\n",
       "       [ 8., -3.,  4.,  3.]])"
      ]
     },
     "execution_count": 21,
     "metadata": {},
     "output_type": "execute_result"
    }
   ],
   "source": [
    "#A deve ser simétrica\n",
    "A =  np.array([[1.,  2.,  6.,  8.], \n",
    "[2.,  5.,  7.,  -3.],\n",
    "[6.,  7.,  9.,  4.],\n",
    "[8.,  -3., 4.,  3.]])\n",
    "A"
   ]
  },
  {
   "cell_type": "code",
   "execution_count": 4,
   "metadata": {},
   "outputs": [
    {
     "data": {
      "text/plain": [
       "array([ 18.32415517,   9.00237223,  -7.08096661,  -2.24556079])"
      ]
     },
     "execution_count": 4,
     "metadata": {},
     "output_type": "execute_result"
    }
   ],
   "source": [
    " np.linalg.eigvals(A)"
   ]
  },
  {
   "cell_type": "code",
   "execution_count": 14,
   "metadata": {},
   "outputs": [
    {
     "data": {
      "text/plain": [
       "(array([ 18.32415517,   9.00237223,  -7.08096661,  -2.24556079]),\n",
       " array([[ 0.45844793,  0.33576722,  0.69650628, -0.43813795],\n",
       "        [ 0.36968635, -0.65711263, -0.29558961, -0.58665303],\n",
       "        [ 0.72539798, -0.19471448,  0.03124555,  0.65947536],\n",
       "        [ 0.35630782,  0.6461808 , -0.65309226, -0.17019285]]))"
      ]
     },
     "execution_count": 14,
     "metadata": {},
     "output_type": "execute_result"
    }
   ],
   "source": [
    "np.linalg.eig(A)"
   ]
  },
  {
   "cell_type": "code",
   "execution_count": 30,
   "metadata": {},
   "outputs": [],
   "source": [
    "#PARA (MATRIZES SIMÉTRICAS - Matriz diagonal) NÃO-SIMÉTRICA - TRIANGULAR \n",
    "def QR_AVeAv(A,tol = 1.0e-6):\n",
    "    passos = 0\n",
    "    l,c = A.shape\n",
    "    Qfinal = np.eye((l))\n",
    "    Q,R = np.linalg.qr(A)\n",
    "    D0 = np.dot(R,Q)\n",
    "    Q,R = np.linalg.qr(D0)\n",
    "    D = np.dot(R,Q)\n",
    "    Qfinal = np.dot(Qfinal,Q)\n",
    "    fator = np.absolute((np.linalg.norm(D0,'fro')-np.linalg.norm(D,'fro')/np.linalg.norm(D,'fro')))\n",
    "    while(tol<fator):\n",
    "        D0 = np.copy(D)\n",
    "        Q,R = np.linalg.qr(D0)\n",
    "        D = np.dot(R,Q)\n",
    "        Qfinal = np.dot(Qfinal,Q)\n",
    "        passos= passos+1\n",
    "        fator = np.absolute((np.linalg.norm(D0,'fro')-np.linalg.norm(D,'fro')/np.linalg.norm(D,'fro')))\n",
    "    return (D,Qfinal,passos)\n",
    "        \n",
    "    \n",
    "    \n",
    "    \n",
    "    "
   ]
  },
  {
   "cell_type": "code",
   "execution_count": 13,
   "metadata": {},
   "outputs": [],
   "source": [
    "#PARA (MATRIZES SIMÉTRICAS - Matriz diagonal) NÃO-SIMÉTRICA - TRIANGULAR \n",
    "def QR_AVeAv(A,qtd):\n",
    "    l,c = A.shape\n",
    "    Qfinal = np.eye((l))\n",
    "    Q,R = np.linalg.qr(A)\n",
    "    D = np.dot(R,Q)\n",
    "    for i in range(qtd):\n",
    "        Q,R = np.linalg.qr(D)\n",
    "        A = np.dot(R,Q)\n",
    "        Qfinal = np.dot(Qfinal,Q)\n",
    "        D = np.copy(A)\n",
    "    return D,Qfinal\n",
    "        \n",
    "    \n",
    "    \n",
    "    \n",
    "    "
   ]
  },
  {
   "cell_type": "code",
   "execution_count": null,
   "metadata": {},
   "outputs": [],
   "source": []
  },
  {
   "cell_type": "code",
   "execution_count": null,
   "metadata": {},
   "outputs": [],
   "source": []
  },
  {
   "cell_type": "code",
   "execution_count": null,
   "metadata": {},
   "outputs": [],
   "source": []
  },
  {
   "cell_type": "code",
   "execution_count": 9,
   "metadata": {},
   "outputs": [
    {
     "data": {
      "text/plain": [
       "array([[ 18.32,  -0.  ,   0.  ,  -0.  ],\n",
       "       [  0.  ,   9.  ,   0.  ,  -0.  ],\n",
       "       [ -0.  ,   0.  ,  -7.08,  -0.  ],\n",
       "       [  0.  ,  -0.  ,   0.  ,  -2.25]])"
      ]
     },
     "execution_count": 9,
     "metadata": {},
     "output_type": "execute_result"
    }
   ],
   "source": [
    "Teste,QautVect = QR_AVeAv(A,100)\n",
    "Teste.round(2)"
   ]
  },
  {
   "cell_type": "code",
   "execution_count": 11,
   "metadata": {},
   "outputs": [
    {
     "data": {
      "text/plain": [
       "array([[ 0.81982155,  0.49390276, -0.25463475,  0.13825276],\n",
       "       [-0.29498546,  0.7654933 ,  0.2579628 , -0.51035163],\n",
       "       [ 0.48130784, -0.39545945,  0.42651451, -0.65577432],\n",
       "       [ 0.09601543,  0.11701239,  0.82867467,  0.53887607]])"
      ]
     },
     "execution_count": 11,
     "metadata": {},
     "output_type": "execute_result"
    }
   ],
   "source": [
    "QautVect"
   ]
  },
  {
   "cell_type": "code",
   "execution_count": 12,
   "metadata": {},
   "outputs": [
    {
     "data": {
      "text/plain": [
       "array([[ 1.,  3.,  6.,  8.],\n",
       "       [ 2.,  5.,  7., -3.],\n",
       "       [ 6.,  7.,  9.,  4.],\n",
       "       [ 8., -3.,  7.,  3.]])"
      ]
     },
     "execution_count": 12,
     "metadata": {},
     "output_type": "execute_result"
    }
   ],
   "source": [
    "#A Não simétrica deve ser simétrica\n",
    "A =  np.array([[1.,  3.,  6.,  8.], \n",
    "[2.,  5.,  7.,  -3.],\n",
    "[6.,  7.,  9.,  4.],\n",
    "[8.,  -3., 7.,  3.]])\n",
    "A"
   ]
  },
  {
   "cell_type": "code",
   "execution_count": 17,
   "metadata": {},
   "outputs": [
    {
     "data": {
      "text/plain": [
       "array([[ 19.19,   1.99,  -0.98,   1.23],\n",
       "       [  0.  ,   8.51,   0.03,  -0.61],\n",
       "       [ -0.  ,   0.  ,  -7.31,   1.79],\n",
       "       [  0.  ,  -0.  ,   0.  ,  -2.39]])"
      ]
     },
     "execution_count": 17,
     "metadata": {},
     "output_type": "execute_result"
    }
   ],
   "source": [
    "Tdiag,Tauto = QR_AVeAv(A,100)\n",
    "Tdiag.round(2)"
   ]
  },
  {
   "cell_type": "code",
   "execution_count": 32,
   "metadata": {},
   "outputs": [
    {
     "data": {
      "text/plain": [
       "array([ 19.19242541,   8.5110319 ,  -7.31491773,  -2.38853958])"
      ]
     },
     "execution_count": 32,
     "metadata": {},
     "output_type": "execute_result"
    }
   ],
   "source": [
    "vetDi = np.diagonal(Tdiag)\n",
    "vetDi"
   ]
  },
  {
   "cell_type": "code",
   "execution_count": 33,
   "metadata": {},
   "outputs": [
    {
     "data": {
      "text/plain": [
       "array([0, 1, 3, 2])"
      ]
     },
     "execution_count": 33,
     "metadata": {},
     "output_type": "execute_result"
    }
   ],
   "source": [
    "idx = vetDi.argsort()[::-1]\n",
    "idx"
   ]
  },
  {
   "cell_type": "code",
   "execution_count": null,
   "metadata": {},
   "outputs": [],
   "source": []
  },
  {
   "cell_type": "code",
   "execution_count": 34,
   "metadata": {},
   "outputs": [
    {
     "data": {
      "text/plain": [
       "array([[ 0.8700358 , -0.18471379,  0.44644296,  0.09801634],\n",
       "       [ 0.39701115,  0.77507305, -0.47810705,  0.1142697 ],\n",
       "       [-0.21986067,  0.15772604,  0.29234872,  0.9172328 ],\n",
       "       [ 0.19256464, -0.58332245, -0.69759197,  0.36880784]])"
      ]
     },
     "execution_count": 34,
     "metadata": {},
     "output_type": "execute_result"
    }
   ],
   "source": [
    "Tauto"
   ]
  },
  {
   "cell_type": "code",
   "execution_count": 35,
   "metadata": {},
   "outputs": [],
   "source": [
    "Tauto = Tauto[:,idx]"
   ]
  },
  {
   "cell_type": "code",
   "execution_count": 36,
   "metadata": {},
   "outputs": [
    {
     "data": {
      "text/plain": [
       "array([[ 0.8700358 , -0.18471379,  0.09801634,  0.44644296],\n",
       "       [ 0.39701115,  0.77507305,  0.1142697 , -0.47810705],\n",
       "       [-0.21986067,  0.15772604,  0.9172328 ,  0.29234872],\n",
       "       [ 0.19256464, -0.58332245,  0.36880784, -0.69759197]])"
      ]
     },
     "execution_count": 36,
     "metadata": {},
     "output_type": "execute_result"
    }
   ],
   "source": [
    "Tauto"
   ]
  },
  {
   "cell_type": "code",
   "execution_count": null,
   "metadata": {},
   "outputs": [],
   "source": []
  },
  {
   "cell_type": "code",
   "execution_count": 18,
   "metadata": {},
   "outputs": [
    {
     "data": {
      "text/plain": [
       "array([[ 0.8700358 , -0.18471379,  0.44644296,  0.09801634],\n",
       "       [ 0.39701115,  0.77507305, -0.47810705,  0.1142697 ],\n",
       "       [-0.21986067,  0.15772604,  0.29234872,  0.9172328 ],\n",
       "       [ 0.19256464, -0.58332245, -0.69759197,  0.36880784]])"
      ]
     },
     "execution_count": 18,
     "metadata": {},
     "output_type": "execute_result"
    }
   ],
   "source": [
    "Tauto"
   ]
  },
  {
   "cell_type": "code",
   "execution_count": 19,
   "metadata": {},
   "outputs": [
    {
     "data": {
      "text/plain": [
       "(array([ 19.19242541+0.j,   8.51103191+0.j,  -7.31491774+0.j,\n",
       "         -2.38853958+0.j]),\n",
       " array([[ 0.48016976,  0.33344217, -0.70937805, -0.67560199],\n",
       "        [ 0.30040825, -0.65515185,  0.28304746, -0.40756122],\n",
       "        [ 0.67470461, -0.13955805, -0.01875361,  0.61399801],\n",
       "        [ 0.47325001,  0.66341233,  0.64522493, -0.02150004]]))"
      ]
     },
     "execution_count": 19,
     "metadata": {},
     "output_type": "execute_result"
    }
   ],
   "source": [
    "linalg.eig(A)"
   ]
  },
  {
   "cell_type": "markdown",
   "metadata": {},
   "source": [
    "$$\\large\\text{OBSERVAÇÃO -  NORMA DE FROBENIUS }$$\n",
    "$$\\large{| A |_{F} = \\sum_{i,j} abs[(a_{i,j})^{2}]^{1/2}  }$$"
   ]
  },
  {
   "cell_type": "code",
   "execution_count": null,
   "metadata": {
    "collapsed": true
   },
   "outputs": [],
   "source": [
    "import numpy as np\n",
    " \n",
    "def QR_HH(A):\n",
    "    m, n = A.shape\n",
    "    Q = np.eye(m,n)\n",
    "    for i in range(n - (m == n)): #preciso operacionar sobre as colunas da matriz \"A\"\n",
    "        H = np.eye(m)\n",
    "        H[i:, i:] = Householder(A[i:, i])\n",
    "        print(\"matriz HouseHolder\",H)\n",
    "        Q = np.dot(Q, H)\n",
    "        print(\"matriz Q\",Q)\n",
    "        A = np.dot(H, A)\n",
    "        print(\"matriz A\",A.round(2))\n",
    "    return Q, A\n",
    " \n",
    "def Householder(a):\n",
    "    v = a / (a[0] + np.copysign(np.linalg.norm(a), a[0]))\n",
    "    v[0] = 1\n",
    "    H = np.eye(a.shape[0])\n",
    "    H -= (2 / np.dot(v, v)) * np.dot(v[:, None], v[None, :])\n",
    "    return H\n",
    " "
   ]
  },
  {
   "cell_type": "code",
   "execution_count": 8,
   "metadata": {},
   "outputs": [],
   "source": [
    "\n",
    "def householder(x):\n",
    "    x[0] = x[0] + np.sign(x[0]) * np.linalg.norm(x) #se for negativo ele muda o sinal do vetor de rotação\n",
    "    x /= np.linalg.norm(x)\n",
    "    return x\n",
    "\n",
    "def tridiag_qr(T):\n",
    "    R = T.copy()\n",
    "    Qt = np.eye(T.shape[0])\n",
    "\n",
    "    for i in range(T.shape[0] - 1):\n",
    "        u = householder(T[i:i+2, i])\n",
    "\n",
    "        R[i:i+2, :] = R[i:i+2, :] - 2 * np.outer(u, np.dot(u, R[i:i+2, :]))\n",
    "        Qt[i:i+2, :] = Qt[i:i+2, :] - 2 * np.outer(u, np.dot(u, Qt[i:i+2, :]))\n",
    "\n",
    "    return Qt.T, R"
   ]
  },
  {
   "cell_type": "code",
   "execution_count": 9,
   "metadata": {},
   "outputs": [
    {
     "data": {
      "text/plain": [
       "array([[ 1.,  2.,  6.,  8.],\n",
       "       [ 2.,  5.,  7., -3.],\n",
       "       [ 6.,  7.,  9.,  4.],\n",
       "       [ 8., -3.,  4.,  3.]])"
      ]
     },
     "execution_count": 9,
     "metadata": {},
     "output_type": "execute_result"
    }
   ],
   "source": [
    "#A deve ser simétrica\n",
    "Asimetrica =  np.array([[1.,  2.,  6.,  8.], \n",
    "[2.,  5.,  7.,  -3.],\n",
    "[6.,  7.,  9.,  4.],\n",
    "[8.,  -3., 4.,  3.]])\n",
    "Asimetrica"
   ]
  },
  {
   "cell_type": "code",
   "execution_count": 10,
   "metadata": {},
   "outputs": [
    {
     "data": {
      "text/plain": [
       "(array([[-0.4472136 ,  0.51987524, -0.6650952 , -0.29559787],\n",
       "        [-0.89442719, -0.25993762,  0.3325476 ,  0.14779893],\n",
       "        [ 0.        , -0.81373347, -0.53114217, -0.23606319],\n",
       "        [ 0.        ,  0.        , -0.40613847,  0.91381155]]),\n",
       " array([[-2.23606798, -5.36656315, -8.94427191, -0.89442719],\n",
       "        [-4.88240083, -5.95607192, -6.02391313,  1.68388094],\n",
       "        [-6.43596077, -2.16703222, -8.06757144, -9.66138853],\n",
       "        [ 5.89411326, -4.24607803,  0.79168283, -1.01099786]]))"
      ]
     },
     "execution_count": 10,
     "metadata": {},
     "output_type": "execute_result"
    }
   ],
   "source": [
    "tridiag_qr(Asimetrica)"
   ]
  },
  {
   "cell_type": "code",
   "execution_count": 11,
   "metadata": {},
   "outputs": [
    {
     "data": {
      "text/plain": [
       "array([[  0.85065081, -10.09121014,  -1.03976523,  -1.04228895],\n",
       "       [-10.01381012,   4.26535999,  -2.96164029,  -0.29845051],\n",
       "       [  0.        ,   2.29735222,   5.09596731,  -2.08668656],\n",
       "       [  0.        ,   0.        ,   3.33913377,  -4.49394405]])"
      ]
     },
     "execution_count": 11,
     "metadata": {},
     "output_type": "execute_result"
    }
   ],
   "source": [
    "linalg.hessenberg(Asimetrica)"
   ]
  },
  {
   "cell_type": "code",
   "execution_count": null,
   "metadata": {
    "collapsed": true
   },
   "outputs": [],
   "source": []
  },
  {
   "cell_type": "code",
   "execution_count": null,
   "metadata": {
    "collapsed": true
   },
   "outputs": [],
   "source": []
  },
  {
   "cell_type": "code",
   "execution_count": null,
   "metadata": {
    "collapsed": true
   },
   "outputs": [],
   "source": [
    "import numpy as np\n",
    "\n",
    "def householder(x):\n",
    "    x[0] = x[0] + np.sign(x[0]) * np.linalg.norm(x)\n",
    "    x /= np.linalg.norm(x)\n",
    "    return x\n",
    "\n",
    "def tridiag_qr(T):\n",
    "    R = T.copy()\n",
    "    Qt = np.eye(T.shape[0])\n",
    "\n",
    "    for i in xrange(T.shape[0] - 1):\n",
    "        u = householder(T[i:i+2, i])\n",
    "\n",
    "        R[i:i+2, :] = R[i:i+2, :] - 2 * np.outer(u, np.dot(u, R[i:i+2, :]))\n",
    "        Qt[i:i+2, :] = Qt[i:i+2, :] - 2 * np.outer(u, np.dot(u, Qt[i:i+2, :]))\n",
    "\n",
    "    return Qt.T, R\n",
    "\n"
   ]
  },
  {
   "cell_type": "code",
   "execution_count": 10,
   "metadata": {},
   "outputs": [
    {
     "data": {
      "text/plain": [
       "array([[  1.  , -10.2 ,   0.  ,   0.  ],\n",
       "       [-10.2 ,   9.54,   5.45,   0.  ],\n",
       "       [  0.  ,   5.45,   5.13,   6.36],\n",
       "       [  0.  ,   0.  ,   6.36,   2.33]])"
      ]
     },
     "execution_count": 10,
     "metadata": {},
     "output_type": "execute_result"
    }
   ],
   "source": [
    "linalg.hessenberg(Asimetrica).round(2)"
   ]
  },
  {
   "cell_type": "code",
   "execution_count": null,
   "metadata": {
    "collapsed": true
   },
   "outputs": [],
   "source": []
  },
  {
   "cell_type": "code",
   "execution_count": null,
   "metadata": {
    "collapsed": true
   },
   "outputs": [],
   "source": []
  },
  {
   "cell_type": "code",
   "execution_count": null,
   "metadata": {
    "collapsed": true
   },
   "outputs": [],
   "source": []
  }
 ],
 "metadata": {
  "kernelspec": {
   "display_name": "Python 3",
   "language": "python",
   "name": "python3"
  },
  "language_info": {
   "codemirror_mode": {
    "name": "ipython",
    "version": 3
   },
   "file_extension": ".py",
   "mimetype": "text/x-python",
   "name": "python",
   "nbconvert_exporter": "python",
   "pygments_lexer": "ipython3",
   "version": "3.5.2"
  }
 },
 "nbformat": 4,
 "nbformat_minor": 2
}
