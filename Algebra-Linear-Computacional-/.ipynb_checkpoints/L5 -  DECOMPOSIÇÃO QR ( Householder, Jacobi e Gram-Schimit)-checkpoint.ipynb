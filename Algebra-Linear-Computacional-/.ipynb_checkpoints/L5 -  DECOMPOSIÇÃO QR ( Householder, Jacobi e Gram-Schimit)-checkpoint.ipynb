{
 "cells": [
  {
   "cell_type": "markdown",
   "metadata": {},
   "source": [
    "$$\\Large{ \\textit{UNIVERSIDADE FEDERAL DO CEARÁ  } }$$\n",
    "\n",
    "$$ \\large{\\textit{Departamento de Ciências da Computação }} $$\n",
    "\n",
    "\n",
    "$$ \\large{\\textit{Mestrado e Doutorado em Ciências da Computação -  MDCC }} $$\n",
    "\n",
    "<hr/>"
   ]
  },
  {
   "cell_type": "markdown",
   "metadata": {},
   "source": [
    "\n",
    "$$\\Large{{\\textbf{ DISCIPLINA DE ÁLGEBRA LINEAR COMPUTACIONAL}}}$$\n",
    "\n",
    "\n",
    "\n",
    "$$\\large{\\texttt{Docente: Professor Creto Vidal}}$$\n",
    "\n",
    "$$\\large{\\texttt{Discente: Arnaldo Araújo}}$$\n",
    "<hr/>\n"
   ]
  },
  {
   "cell_type": "markdown",
   "metadata": {},
   "source": [
    "# DECOMPOSIÇÃO QR ( HOUSEHOLDER )"
   ]
  },
  {
   "cell_type": "markdown",
   "metadata": {},
   "source": [
    "<hr/>\n",
    "\n",
    "$$\\Large{\\text{Dado: } A_{nxm} \\rightarrow  R = A_{n-1} = H_{n-1} H_{n-2} \\ldots H_{2} H_{1} A \\\\\n",
    "\\ \\ \\ \\ \\ \\ \\ \\ \\ \\ \\ \\ \\ \\ \\ \\\\\n",
    "\\text{HOUSEHOLDER:  }  H_{mxm}  = I_{mxm} - 2nn^{T} }$$\n",
    "<hr/>\n",
    "$$\\Large{QR = QQ^{T}A \\therefore QR = A}$$\n",
    "<hr/>\n",
    "$$\\large{\\text{A essência do método é encontrar R tal que:}}$$\n",
    "<hr/>\n",
    "$$ \\Large{QA = R} $$\n",
    "<hr/>\n",
    "\n",
    "$$\\large{\\text{ONDE: } Q \\text{ será encontrada pelas operações sobres os H's encontrados} }$$\n",
    "<hr/>\n"
   ]
  },
  {
   "cell_type": "code",
   "execution_count": 1,
   "metadata": {
    "collapsed": true
   },
   "outputs": [],
   "source": [
    "#realizando os imports para todo o projeto\n",
    "import numpy as np\n",
    "from scipy import linalg as LA ## testes\n",
    "from __future__ import print_function \n",
    "from pprint import pprint\n",
    "from math import sqrt\n",
    "from scipy import random, linalg, dot, diag, all, allclose\n",
    "from __future__ import print_function \n",
    "from pprint import pprint\n"
   ]
  },
  {
   "cell_type": "code",
   "execution_count": 2,
   "metadata": {},
   "outputs": [
    {
     "data": {
      "text/plain": [
       "array([[  12.,  -51.,    4.],\n",
       "       [   6.,  167.,  -68.],\n",
       "       [  -4.,   24.,  -41.]])"
      ]
     },
     "execution_count": 2,
     "metadata": {},
     "output_type": "execute_result"
    }
   ],
   "source": [
    "#Matriz para os testes Iniciais\n",
    "A = np.array([[12.0,-51.0,4],[6.0,167.0,-68.0],[-4.0,24.0,-41.0]])\n",
    "A"
   ]
  },
  {
   "cell_type": "code",
   "execution_count": 2,
   "metadata": {
    "collapsed": true
   },
   "outputs": [],
   "source": [
    "import numpy as np\n",
    " \n",
    "def QR_HH(A):\n",
    "    m, n = A.shape\n",
    "    Q = np.eye(m,n)\n",
    "    for i in range(n - (m == n)): #preciso operacionar sobre as colunas da matriz \"A\"\n",
    "        H = np.eye(m)\n",
    "        H[i:, i:] = Householder(A[i:, i])\n",
    "        print(\"matriz HouseHolder\",H)\n",
    "        Q = np.dot(Q, H)\n",
    "        print(\"matriz Q\",Q)\n",
    "        A = np.dot(H, A)\n",
    "        print(\"matriz A\",A.round(2))\n",
    "    return Q, A\n",
    " \n",
    "def Householder(a):\n",
    "    v = a / (a[0] + np.copysign(np.linalg.norm(a), a[0]))\n",
    "    v[0] = 1\n",
    "    H = np.eye(a.shape[0])\n",
    "    H -= (2 / np.dot(v, v)) * np.dot(v[:, None], v[None, :])\n",
    "    return H\n",
    " "
   ]
  },
  {
   "cell_type": "code",
   "execution_count": 151,
   "metadata": {},
   "outputs": [
    {
     "data": {
      "text/plain": [
       "array([[  12.,  -51.,    4.],\n",
       "       [   6.,  167.,  -68.],\n",
       "       [  -4.,   24.,  -41.]])"
      ]
     },
     "execution_count": 151,
     "metadata": {},
     "output_type": "execute_result"
    }
   ],
   "source": [
    "A"
   ]
  },
  {
   "cell_type": "code",
   "execution_count": 152,
   "metadata": {},
   "outputs": [
    {
     "name": "stdout",
     "output_type": "stream",
     "text": [
      "matriz HouseHolder [[-0.85714286 -0.42857143  0.28571429]\n",
      " [-0.42857143  0.9010989   0.06593407]\n",
      " [ 0.28571429  0.06593407  0.95604396]]\n",
      "matriz Q [[-0.85714286 -0.42857143  0.28571429]\n",
      " [-0.42857143  0.9010989   0.06593407]\n",
      " [ 0.28571429  0.06593407  0.95604396]]\n",
      "matriz A [[ -14.    -21.     14.  ]\n",
      " [  -0.    173.92  -65.69]\n",
      " [   0.     19.38  -42.54]]\n",
      "matriz HouseHolder [[ 1.          0.          0.        ]\n",
      " [ 0.         -0.99384615 -0.11076923]\n",
      " [ 0.         -0.11076923  0.99384615]]\n",
      "matriz Q [[-0.85714286  0.39428571  0.33142857]\n",
      " [-0.42857143 -0.90285714 -0.03428571]\n",
      " [ 0.28571429 -0.17142857  0.94285714]]\n",
      "matriz A [[ -14.  -21.   14.]\n",
      " [   0. -175.   70.]\n",
      " [   0.    0.  -35.]]\n"
     ]
    }
   ],
   "source": [
    "Q1,A1 = qr(A)\n"
   ]
  },
  {
   "cell_type": "code",
   "execution_count": 105,
   "metadata": {},
   "outputs": [
    {
     "name": "stdout",
     "output_type": "stream",
     "text": [
      "[ 0.46153846  0.23076923 -0.15384615]\n",
      "[ 0.49845679  0.05555556]\n"
     ]
    },
    {
     "data": {
      "text/plain": [
       "array([[ -14.,  -21.,   14.],\n",
       "       [   0., -175.,   70.],\n",
       "       [   0.,    0.,  -35.]])"
      ]
     },
     "execution_count": 105,
     "metadata": {},
     "output_type": "execute_result"
    }
   ],
   "source": [
    "Q1,A1 = qr(A) #A1 é a matriz R\n",
    "AVolta = np.dot(Q1,A1)\n",
    "A1.round(2)"
   ]
  },
  {
   "cell_type": "code",
   "execution_count": 103,
   "metadata": {},
   "outputs": [
    {
     "data": {
      "text/plain": [
       "array([[  12.,  -51.,    4.],\n",
       "       [   6.,  167.,  -68.],\n",
       "       [  -4.,   24.,  -41.]])"
      ]
     },
     "execution_count": 103,
     "metadata": {},
     "output_type": "execute_result"
    }
   ],
   "source": [
    "AVolta"
   ]
  },
  {
   "cell_type": "code",
   "execution_count": 37,
   "metadata": {},
   "outputs": [
    {
     "data": {
      "text/plain": [
       "array([[  12.,  -51.,    4.],\n",
       "       [   6.,  167.,  -68.],\n",
       "       [  -4.,   24.,  -41.]])"
      ]
     },
     "execution_count": 37,
     "metadata": {},
     "output_type": "execute_result"
    }
   ],
   "source": [
    "A"
   ]
  },
  {
   "cell_type": "markdown",
   "metadata": {},
   "source": [
    "$$ \\large\\text{ DECOMPOSIÇÃO QR por JACOBI( MATRIZES DE ROTAÇÃO DE GIVENS ) }$$\n",
    "<hr/>\n"
   ]
  },
  {
   "cell_type": "code",
   "execution_count": 3,
   "metadata": {},
   "outputs": [
    {
     "data": {
      "text/plain": [
       "array([[  12.,  -51.,    4.],\n",
       "       [   6.,  167.,  -68.],\n",
       "       [  -4.,   24.,  -41.]])"
      ]
     },
     "execution_count": 3,
     "metadata": {},
     "output_type": "execute_result"
    }
   ],
   "source": [
    "A = np.array([[12.0,-51.0,4],[6.0,167.0,-68.0],[-4.0,24.0,-41.0]])\n",
    "A"
   ]
  },
  {
   "cell_type": "code",
   "execution_count": 5,
   "metadata": {},
   "outputs": [
    {
     "data": {
      "text/plain": [
       "array([[ 1.,  0.,  0.],\n",
       "       [ 0.,  1.,  0.],\n",
       "       [ 0.,  0.,  1.]])"
      ]
     },
     "execution_count": 5,
     "metadata": {},
     "output_type": "execute_result"
    }
   ],
   "source": [
    "m,n = A.shape\n",
    "H = np.eye(m)\n",
    "H"
   ]
  },
  {
   "cell_type": "code",
   "execution_count": 143,
   "metadata": {},
   "outputs": [
    {
     "data": {
      "text/plain": [
       "array([[  12.,  -51.,    4.],\n",
       "       [   6.,  167.,  -68.],\n",
       "       [  -4.,   24.,  -41.]])"
      ]
     },
     "execution_count": 143,
     "metadata": {},
     "output_type": "execute_result"
    }
   ],
   "source": [
    "A"
   ]
  },
  {
   "cell_type": "code",
   "execution_count": 6,
   "metadata": {},
   "outputs": [
    {
     "data": {
      "text/plain": [
       "3"
      ]
     },
     "execution_count": 6,
     "metadata": {},
     "output_type": "execute_result"
    }
   ],
   "source": [
    "m,n=A.shape\n",
    "n"
   ]
  },
  {
   "cell_type": "code",
   "execution_count": 8,
   "metadata": {},
   "outputs": [
    {
     "data": {
      "text/plain": [
       "array([[ 1.,  0.,  0.],\n",
       "       [ 0.,  1.,  0.],\n",
       "       [ 0.,  0.,  1.]])"
      ]
     },
     "execution_count": 8,
     "metadata": {},
     "output_type": "execute_result"
    }
   ],
   "source": [
    "J"
   ]
  },
  {
   "cell_type": "code",
   "execution_count": 9,
   "metadata": {},
   "outputs": [
    {
     "data": {
      "text/plain": [
       "3"
      ]
     },
     "execution_count": 9,
     "metadata": {},
     "output_type": "execute_result"
    }
   ],
   "source": [
    "m = A.shape[0]\n",
    "m"
   ]
  },
  {
   "cell_type": "code",
   "execution_count": 121,
   "metadata": {
    "collapsed": true
   },
   "outputs": [],
   "source": [
    "def jacobi_qr(A): #matrizes de rotação de Givens\n",
    "    l,c = A.shape\n",
    "    Q = np.eye(l,c)\n",
    "    R = np.copy(A)\n",
    "    for j in range(0,c):\n",
    "        for i in range(j+1,l):\n",
    "            J = np.eye(l)\n",
    "            theta = np.arctan(A[i,j]/A[j,j])\n",
    "            J[j,j] = np.cos(theta)\n",
    "            J[i,j] = -(np.sin(theta))\n",
    "            J[j,i] = np.sin(theta)\n",
    "            J[i,i] = np.cos(theta)\n",
    "            R = np.dot(J,R)\n",
    "            Q = np.dot(Q,J.T)\n",
    "    return (Q,R)\n",
    "\n"
   ]
  },
  {
   "cell_type": "code",
   "execution_count": 134,
   "metadata": {},
   "outputs": [
    {
     "data": {
      "text/plain": [
       "array([[  12.,  -51.,    4.],\n",
       "       [   6.,  167.,  -68.],\n",
       "       [  -4.,   24.,  -41.]])"
      ]
     },
     "execution_count": 134,
     "metadata": {},
     "output_type": "execute_result"
    }
   ],
   "source": [
    "A"
   ]
  },
  {
   "cell_type": "code",
   "execution_count": 130,
   "metadata": {
    "collapsed": true
   },
   "outputs": [],
   "source": [
    "Qteste = []\n",
    "Rteste = []\n",
    "Qteste,Rteste =  jacobi_qr(A)"
   ]
  },
  {
   "cell_type": "code",
   "execution_count": 131,
   "metadata": {},
   "outputs": [
    {
     "data": {
      "text/plain": [
       "array([[ 0.84852814, -0.40243101,  0.343583  ],\n",
       "       [ 0.42426407,  0.90544875,  0.01274993],\n",
       "       [-0.31622777,  0.13495125,  0.93903576]])"
      ]
     },
     "execution_count": 131,
     "metadata": {},
     "output_type": "execute_result"
    }
   ],
   "source": [
    "Qteste"
   ]
  },
  {
   "cell_type": "code",
   "execution_count": 133,
   "metadata": {},
   "outputs": [
    {
     "data": {
      "text/plain": [
       "array([[  12.,  -51.,    4.],\n",
       "       [   6.,  167.,  -68.],\n",
       "       [  -4.,   24.,  -41.]])"
      ]
     },
     "execution_count": 133,
     "metadata": {},
     "output_type": "execute_result"
    }
   ],
   "source": [
    "np.dot(Qteste,Rteste)"
   ]
  },
  {
   "cell_type": "code",
   "execution_count": 6,
   "metadata": {},
   "outputs": [
    {
     "data": {
      "text/plain": [
       "array([[  12.64911064,  -55.97231458,   16.7600716 ],\n",
       "       [   6.        ,  167.        ,  -68.        ],\n",
       "       [   0.        ,    6.64078309,  -37.63110416]])"
      ]
     },
     "execution_count": 6,
     "metadata": {},
     "output_type": "execute_result"
    }
   ],
   "source": [
    "A = np.array([[12.0,-51.0,4],[6.0,167.0,-68.0],[-4.0,24.0,-41.0]])\n",
    "G= np.eye(3)\n",
    "theta = np.arctan((-A[2,0])/A[0,0])\n",
    "G[0,0] = np.cos(theta)\n",
    "G[m-1,0] = np.sin(theta)\n",
    "G[0,n-1] = -(np.sin(theta))\n",
    "G[m-1,n-1] = np.cos(theta)\n",
    "TesteJACOB = np.dot(G,A)\n",
    "TesteJACOB"
   ]
  },
  {
   "cell_type": "code",
   "execution_count": 35,
   "metadata": {},
   "outputs": [
    {
     "data": {
      "text/plain": [
       "array([[  12.,  -51.,    4.],\n",
       "       [   6.,  167.,  -68.],\n",
       "       [  -4.,   24.,  -41.]])"
      ]
     },
     "execution_count": 35,
     "metadata": {},
     "output_type": "execute_result"
    }
   ],
   "source": [
    "A"
   ]
  },
  {
   "cell_type": "code",
   "execution_count": 10,
   "metadata": {},
   "outputs": [
    {
     "data": {
      "text/plain": [
       "array([[  12.64911064,  -55.97231458,   16.7600716 ],\n",
       "       [   6.        ,  167.        ,  -68.        ],\n",
       "       [   0.        ,    6.64078309,  -37.63110416]])"
      ]
     },
     "execution_count": 10,
     "metadata": {},
     "output_type": "execute_result"
    }
   ],
   "source": [
    "A_2 = np.copy(TesteJACOB)\n",
    "A_2"
   ]
  },
  {
   "cell_type": "code",
   "execution_count": 7,
   "metadata": {},
   "outputs": [
    {
     "data": {
      "text/plain": [
       "array([[ 0.9486833 ,  0.        , -0.31622777],\n",
       "       [ 0.        ,  1.        ,  0.        ],\n",
       "       [ 0.31622777,  0.        ,  0.9486833 ]])"
      ]
     },
     "execution_count": 7,
     "metadata": {},
     "output_type": "execute_result"
    }
   ],
   "source": [
    "G"
   ]
  },
  {
   "cell_type": "code",
   "execution_count": 11,
   "metadata": {},
   "outputs": [
    {
     "data": {
      "text/plain": [
       "array([[ 0.9035079 ,  0.        ,  0.42857143],\n",
       "       [ 0.        ,  1.        ,  0.        ],\n",
       "       [-0.42857143,  0.        ,  0.9035079 ]])"
      ]
     },
     "execution_count": 11,
     "metadata": {},
     "output_type": "execute_result"
    }
   ],
   "source": [
    "G_2= np.eye(3)\n",
    "theta = np.arctan((-A_2[1,0])/A_2[0,0])\n",
    "G_2[0,0] = np.cos(theta)\n",
    "G_2[m-1,0] = np.sin(theta)\n",
    "G_2[0,n-1] = -(np.sin(theta))\n",
    "G_2[m-1,n-1] = np.cos(theta)\n",
    "G_2"
   ]
  },
  {
   "cell_type": "markdown",
   "metadata": {
    "collapsed": true
   },
   "source": [
    "<hr/>\n",
    "\n",
    "$$\\Large{\\text{Decomposição QR por Gram-Schimit}}$$\n",
    "\n",
    "<hr/>\n"
   ]
  },
  {
   "cell_type": "code",
   "execution_count": 3,
   "metadata": {},
   "outputs": [
    {
     "data": {
      "text/plain": [
       "array([[  12.,  -51.,    4.],\n",
       "       [   6.,  167.,  -68.],\n",
       "       [  -4.,   24.,  -41.]])"
      ]
     },
     "execution_count": 3,
     "metadata": {},
     "output_type": "execute_result"
    }
   ],
   "source": [
    "A"
   ]
  },
  {
   "cell_type": "code",
   "execution_count": 15,
   "metadata": {},
   "outputs": [
    {
     "data": {
      "text/plain": [
       "array([[ 0.85714286,  0.        ,  0.        ],\n",
       "       [ 0.42857143,  0.        ,  0.        ],\n",
       "       [-0.28571429,  0.        ,  0.        ]])"
      ]
     },
     "execution_count": 15,
     "metadata": {},
     "output_type": "execute_result"
    }
   ],
   "source": [
    "l,c = A.shape\n",
    "Q = np.zeros((l,c))\n",
    "x = A[:,0]\n",
    "e = x/(LA.norm(x))\n",
    "Q[:,0] = np.copy(e)\n",
    "Q"
   ]
  },
  {
   "cell_type": "code",
   "execution_count": 31,
   "metadata": {},
   "outputs": [
    {
     "data": {
      "text/plain": [
       "array([[ 0.85714286, -0.39428571,  0.        ],\n",
       "       [ 0.42857143,  0.90285714,  0.        ],\n",
       "       [-0.28571429,  0.17142857,  0.        ]])"
      ]
     },
     "execution_count": 31,
     "metadata": {},
     "output_type": "execute_result"
    }
   ],
   "source": [
    "x = A[:,1]\n",
    "x = x - (np.dot(np.dot(x,Q[:,0]),Q[:,0]))\n",
    "e = x/(LA.norm(x))\n",
    "Q[:,1] = np.copy(e)\n",
    "Q\n"
   ]
  },
  {
   "cell_type": "code",
   "execution_count": 32,
   "metadata": {},
   "outputs": [
    {
     "data": {
      "text/plain": [
       "array([ 12.,   6.,  -4.])"
      ]
     },
     "execution_count": 32,
     "metadata": {},
     "output_type": "execute_result"
    }
   ],
   "source": [
    "A[:,0]"
   ]
  },
  {
   "cell_type": "code",
   "execution_count": 50,
   "metadata": {},
   "outputs": [
    {
     "name": "stdout",
     "output_type": "stream",
     "text": [
      "0\n"
     ]
    }
   ],
   "source": [
    "for p in range(1,0,-1):\n",
    "    print(p-1)"
   ]
  },
  {
   "cell_type": "code",
   "execution_count": null,
   "metadata": {
    "collapsed": true
   },
   "outputs": [],
   "source": [
    "#para k =1\n"
   ]
  },
  {
   "cell_type": "code",
   "execution_count": 66,
   "metadata": {
    "collapsed": true
   },
   "outputs": [],
   "source": [
    "def GramShimit(A):\n",
    "    l,c = A.shape\n",
    "    Q = np.zeros((l,c))\n",
    "    x = A[:,0]\n",
    "    e = x/(LA.norm(x))\n",
    "    Q[:,0] = np.copy(e)\n",
    "    for i in range(1,c):\n",
    "        s = 0\n",
    "        for k in range(i,0,-1):\n",
    "            s = s + np.dot(np.dot(A[:,i],Q[:,k-1]),Q[:,k-1])\n",
    "        x = A[:,i] - s\n",
    "        e = x/(LA.norm(x))\n",
    "        Q[:,i] = np.copy(e)\n",
    "        R = np.dot(Q.T,A)\n",
    "    \n",
    "    return (Q,R)\n",
    "        \n",
    "\n",
    "    "
   ]
  },
  {
   "cell_type": "code",
   "execution_count": 67,
   "metadata": {
    "collapsed": true
   },
   "outputs": [],
   "source": [
    "Q1,R1 = GramShimit(A)\n"
   ]
  },
  {
   "cell_type": "code",
   "execution_count": 68,
   "metadata": {},
   "outputs": [
    {
     "data": {
      "text/plain": [
       "array([[ 0.85714286, -0.39428571, -0.33142857],\n",
       "       [ 0.42857143,  0.90285714,  0.03428571],\n",
       "       [-0.28571429,  0.17142857, -0.94285714]])"
      ]
     },
     "execution_count": 68,
     "metadata": {},
     "output_type": "execute_result"
    }
   ],
   "source": [
    "Q1"
   ]
  },
  {
   "cell_type": "code",
   "execution_count": 70,
   "metadata": {},
   "outputs": [
    {
     "data": {
      "text/plain": [
       "array([[  14.,   21.,  -14.],\n",
       "       [  -0.,  175.,  -70.],\n",
       "       [  -0.,   -0.,   35.]])"
      ]
     },
     "execution_count": 70,
     "metadata": {},
     "output_type": "execute_result"
    }
   ],
   "source": [
    "R1.round(2)"
   ]
  },
  {
   "cell_type": "code",
   "execution_count": 60,
   "metadata": {},
   "outputs": [
    {
     "data": {
      "text/plain": [
       "array([[ 0.85714286,  0.42857143, -0.28571429],\n",
       "       [-0.39428571,  0.90285714,  0.17142857],\n",
       "       [-0.33142857,  0.03428571, -0.94285714]])"
      ]
     },
     "execution_count": 60,
     "metadata": {},
     "output_type": "execute_result"
    }
   ],
   "source": [
    "QTeste.T"
   ]
  },
  {
   "cell_type": "code",
   "execution_count": 63,
   "metadata": {},
   "outputs": [
    {
     "data": {
      "text/plain": [
       "array([[  14.,   21.,  -14.],\n",
       "       [  -0.,  175.,  -70.],\n",
       "       [  -0.,   -0.,   35.]])"
      ]
     },
     "execution_count": 63,
     "metadata": {},
     "output_type": "execute_result"
    }
   ],
   "source": [
    "RTeste = np.dot(QTeste.T,A)\n",
    "RTeste.round(2)"
   ]
  },
  {
   "cell_type": "code",
   "execution_count": null,
   "metadata": {
    "collapsed": true
   },
   "outputs": [],
   "source": []
  },
  {
   "cell_type": "code",
   "execution_count": null,
   "metadata": {
    "collapsed": true
   },
   "outputs": [],
   "source": []
  },
  {
   "cell_type": "code",
   "execution_count": null,
   "metadata": {
    "collapsed": true
   },
   "outputs": [],
   "source": []
  },
  {
   "cell_type": "code",
   "execution_count": null,
   "metadata": {
    "collapsed": true
   },
   "outputs": [],
   "source": []
  },
  {
   "cell_type": "code",
   "execution_count": null,
   "metadata": {
    "collapsed": true
   },
   "outputs": [],
   "source": []
  },
  {
   "cell_type": "code",
   "execution_count": null,
   "metadata": {
    "collapsed": true
   },
   "outputs": [],
   "source": []
  },
  {
   "cell_type": "code",
   "execution_count": null,
   "metadata": {
    "collapsed": true
   },
   "outputs": [],
   "source": []
  },
  {
   "cell_type": "code",
   "execution_count": null,
   "metadata": {
    "collapsed": true
   },
   "outputs": [],
   "source": []
  },
  {
   "cell_type": "code",
   "execution_count": null,
   "metadata": {
    "collapsed": true
   },
   "outputs": [],
   "source": []
  },
  {
   "cell_type": "code",
   "execution_count": null,
   "metadata": {
    "collapsed": true
   },
   "outputs": [],
   "source": []
  },
  {
   "cell_type": "code",
   "execution_count": null,
   "metadata": {
    "collapsed": true
   },
   "outputs": [],
   "source": []
  },
  {
   "cell_type": "code",
   "execution_count": null,
   "metadata": {
    "collapsed": true
   },
   "outputs": [],
   "source": []
  },
  {
   "cell_type": "code",
   "execution_count": null,
   "metadata": {
    "collapsed": true
   },
   "outputs": [],
   "source": []
  },
  {
   "cell_type": "code",
   "execution_count": null,
   "metadata": {
    "collapsed": true
   },
   "outputs": [],
   "source": []
  },
  {
   "cell_type": "code",
   "execution_count": null,
   "metadata": {
    "collapsed": true
   },
   "outputs": [],
   "source": []
  },
  {
   "cell_type": "code",
   "execution_count": 37,
   "metadata": {},
   "outputs": [
    {
     "data": {
      "text/plain": [
       "0"
      ]
     },
     "execution_count": 37,
     "metadata": {},
     "output_type": "execute_result"
    }
   ],
   "source": [
    "sum( P[:,k] for k in range(3,0))"
   ]
  },
  {
   "cell_type": "code",
   "execution_count": null,
   "metadata": {
    "collapsed": true
   },
   "outputs": [],
   "source": [
    "def gs(X, row_vecs=True, norm = True):\n",
    "    if not row_vecs:\n",
    "        X = X.T\n",
    "    Y = X[0:1,:].copy()\n",
    "    for i in range(1, X.shape[0]):\n",
    "        proj = np.diag((X[i,:].dot(Y.T)/np.linalg.norm(Y,axis=1)**2).flat).dot(Y)\n",
    "        Y = np.vstack((Y, X[i,:] - proj.sum(0)))\n",
    "    if norm:\n",
    "        Y = np.diag(1/np.linalg.norm(Y,axis=1)).dot(Y)\n",
    "    if row_vecs:\n",
    "        return Y\n",
    "    else:\n",
    "        return Y.T"
   ]
  },
  {
   "cell_type": "code",
   "execution_count": null,
   "metadata": {
    "collapsed": true
   },
   "outputs": [],
   "source": []
  },
  {
   "cell_type": "code",
   "execution_count": null,
   "metadata": {
    "collapsed": true
   },
   "outputs": [],
   "source": []
  },
  {
   "cell_type": "code",
   "execution_count": null,
   "metadata": {
    "collapsed": true
   },
   "outputs": [],
   "source": []
  },
  {
   "cell_type": "code",
   "execution_count": null,
   "metadata": {
    "collapsed": true
   },
   "outputs": [],
   "source": []
  },
  {
   "cell_type": "code",
   "execution_count": null,
   "metadata": {
    "collapsed": true
   },
   "outputs": [],
   "source": []
  },
  {
   "cell_type": "markdown",
   "metadata": {},
   "source": [
    "$$\\Large{\\text{RESOLVENDO SISTEMAS DE EQUAÇÕES POR QR}}$$"
   ]
  },
  {
   "cell_type": "markdown",
   "metadata": {},
   "source": [
    "$$\\Large{Ax = b}$$\n",
    "<hr/>\n",
    "$$\\Large{A = QR \\therefore QRx = b}$$\n",
    "<hr/>\n",
    "$$\\large{\\text{Multiplicando pela transposta de Q nos dois lados temos que:}}$$\n",
    "<hr/>\n",
    "$$ \\Large{ Q^{T}QRx = Q^{T}b \\therefore Rx = Q^{T}b} $$\n",
    "<hr/>\n",
    "\n",
    "$$\\large{\\text{Desenvolvendo o lado esquerdo da equação temos finalmente que :}}$$\n",
    "<hr/>\n",
    "$$ \\Large{Rx = \\tilde{b},onde \\ \\  \\tilde{b}=Q^{T}b } $$"
   ]
  },
  {
   "cell_type": "code",
   "execution_count": 99,
   "metadata": {
    "collapsed": true
   },
   "outputs": [],
   "source": [
    "#Retrosubstituição para encontrar o x \n",
    "def SubsRetrR(R,b):\n",
    "    l,c = R.shape\n",
    "    x = np.zeros((l,1))#criar o vetor y\n",
    "    for i in range(l-1,-1,-1):\n",
    "        soma= 0\n",
    "        for k in range(i+1,l):\n",
    "            soma = soma + R[i,k]*x[k]\n",
    "        x[i] = (b[i][0] - soma)/ R[i,i]\n",
    "    return x\n"
   ]
  },
  {
   "cell_type": "code",
   "execution_count": 112,
   "metadata": {
    "collapsed": true
   },
   "outputs": [],
   "source": [
    "def solverQR(A,b): # o vetor b deve ser um vetor coluna b_nx1\n",
    "    l,c = A.shape\n",
    "    x = np.zeros((l,1))\n",
    "    Q,R = GramShimit(A)\n",
    "    bMod = np.dot(Q.T,b.T)\n",
    "    x= SubsRetrR(R,bMod)\n",
    "    return(x)\n",
    "    \n",
    "        \n",
    "        "
   ]
  },
  {
   "cell_type": "code",
   "execution_count": 113,
   "metadata": {},
   "outputs": [
    {
     "data": {
      "text/plain": [
       "(3, 1)"
      ]
     },
     "execution_count": 113,
     "metadata": {},
     "output_type": "execute_result"
    }
   ],
   "source": [
    "b = np.array([[2.0,1.0,5.0]])\n",
    "b.T.shape"
   ]
  },
  {
   "cell_type": "code",
   "execution_count": 114,
   "metadata": {},
   "outputs": [
    {
     "data": {
      "text/plain": [
       "array([[  12.,  -51.,    4.],\n",
       "       [   6.,  167.,  -68.],\n",
       "       [  -4.,   24.,  -41.]])"
      ]
     },
     "execution_count": 114,
     "metadata": {},
     "output_type": "execute_result"
    }
   ],
   "source": [
    "A"
   ]
  },
  {
   "cell_type": "code",
   "execution_count": 115,
   "metadata": {},
   "outputs": [
    {
     "data": {
      "text/plain": [
       "array([[ 0.85714286, -0.39428571, -0.33142857],\n",
       "       [ 0.42857143,  0.90285714,  0.03428571],\n",
       "       [-0.28571429,  0.17142857, -0.94285714]])"
      ]
     },
     "execution_count": 115,
     "metadata": {},
     "output_type": "execute_result"
    }
   ],
   "source": [
    "Q_1,R_1 = GramShimit(A)\n",
    "Q_1"
   ]
  },
  {
   "cell_type": "code",
   "execution_count": 116,
   "metadata": {},
   "outputs": [
    {
     "data": {
      "text/plain": [
       "array([[  14.,   21.,  -14.],\n",
       "       [  -0.,  175.,  -70.],\n",
       "       [  -0.,   -0.,   35.]])"
      ]
     },
     "execution_count": 116,
     "metadata": {},
     "output_type": "execute_result"
    }
   ],
   "source": [
    "R_1.round(2)"
   ]
  },
  {
   "cell_type": "code",
   "execution_count": 117,
   "metadata": {},
   "outputs": [
    {
     "data": {
      "text/plain": [
       "array([[-0.01836735],\n",
       "       [-0.0555102 ],\n",
       "       [-0.15265306]])"
      ]
     },
     "execution_count": 117,
     "metadata": {},
     "output_type": "execute_result"
    }
   ],
   "source": [
    "x = solverQR(A,b)\n",
    "x"
   ]
  },
  {
   "cell_type": "code",
   "execution_count": null,
   "metadata": {
    "collapsed": true
   },
   "outputs": [],
   "source": []
  }
 ],
 "metadata": {
  "kernelspec": {
   "display_name": "Python 3",
   "language": "python",
   "name": "python3"
  },
  "language_info": {
   "codemirror_mode": {
    "name": "ipython",
    "version": 3
   },
   "file_extension": ".py",
   "mimetype": "text/x-python",
   "name": "python",
   "nbconvert_exporter": "python",
   "pygments_lexer": "ipython3",
   "version": "3.5.2"
  }
 },
 "nbformat": 4,
 "nbformat_minor": 2
}
