{
 "cells": [
  {
   "cell_type": "code",
   "execution_count": 1,
   "metadata": {
    "collapsed": true
   },
   "outputs": [],
   "source": [
    "#realizando os imports para todo o projeto\n",
    "import numpy as np\n",
    "from scipy import linalg ## testes\n"
   ]
  },
  {
   "cell_type": "code",
   "execution_count": 3,
   "metadata": {},
   "outputs": [
    {
     "data": {
      "text/plain": [
       "array([[25, 15, -5],\n",
       "       [15, 18,  0],\n",
       "       [-5,  0, 11]])"
      ]
     },
     "execution_count": 3,
     "metadata": {},
     "output_type": "execute_result"
    }
   ],
   "source": [
    "A = np.array([[25, 15, -5], [15, 18,  0],[-5,  0, 11]])\n",
    "A"
   ]
  },
  {
   "cell_type": "code",
   "execution_count": 13,
   "metadata": {},
   "outputs": [
    {
     "data": {
      "text/plain": [
       "array([[ 5.,  3., -1.],\n",
       "       [ 0.,  3.,  1.],\n",
       "       [ 0.,  0.,  3.]])"
      ]
     },
     "execution_count": 13,
     "metadata": {},
     "output_type": "execute_result"
    }
   ],
   "source": [
    "TesteS = np.linalg.cholesky(A)\n",
    "TesteS\n",
    "TesteST = np.transpose(TesteS)\n",
    "TesteST"
   ]
  },
  {
   "cell_type": "code",
   "execution_count": 9,
   "metadata": {},
   "outputs": [
    {
     "data": {
      "text/plain": [
       "array([1, 2, 7])"
      ]
     },
     "execution_count": 9,
     "metadata": {},
     "output_type": "execute_result"
    }
   ],
   "source": [
    "B = np.array([1,2,7])\n",
    "B\n",
    "BT = np.transpose(B)\n",
    "BT"
   ]
  },
  {
   "cell_type": "markdown",
   "metadata": {},
   "source": [
    "## CHOSOLVE"
   ]
  },
  {
   "cell_type": "code",
   "execution_count": 6,
   "metadata": {
    "collapsed": true
   },
   "outputs": [],
   "source": [
    "def cho_solve(c_and_lower, b, overwrite_b=False, check_finite=True):\n",
    "    \"\"\"Solve the linear equations A x = b, given the Cholesky factorization of A.\n",
    "    Parameters\n",
    "    ----------\n",
    "    (c, lower) : tuple, (array, bool)\n",
    "        Cholesky factorization of a, as given by cho_factor\n",
    "    b : array\n",
    "        Right-hand side\n",
    "    check_finite : boolean, optional\n",
    "        Whether to check that the input matrices contain only finite numbers.\n",
    "        Disabling may give a performance gain, but may result in problems\n",
    "        (crashes, non-termination) if the inputs do contain infinities or NaNs.\n",
    "    Returns\n",
    "    -------\n",
    "    x : array\n",
    "        The solution to the system A x = b\n",
    "    See also\n",
    "    --------\n",
    "    cho_factor : Cholesky factorization of a matrix\n",
    "    \"\"\"\n",
    "    (c, lower) = c_and_lower\n",
    "    if check_finite:\n",
    "        b1 = asarray_chkfinite(b)\n",
    "        c = asarray_chkfinite(c)\n",
    "    else:\n",
    "        b1 = asarray(b)\n",
    "        c = asarray(c)\n",
    "    if c.ndim != 2 or c.shape[0] != c.shape[1]:\n",
    "        raise ValueError(\"The factored matrix c is not square.\")\n",
    "    if c.shape[1] != b1.shape[0]:\n",
    "        raise ValueError(\"incompatible dimensions.\")\n",
    "\n",
    "    overwrite_b = overwrite_b or _datacopied(b1, b)\n",
    "\n",
    "    potrs, = get_lapack_funcs(('potrs',), (c, b1))\n",
    "    x, info = potrs(c, b1, lower=lower, overwrite_b=overwrite_b)\n",
    "    if info != 0:\n",
    "        raise ValueError('illegal value in %d-th argument of internal potrs'\n",
    "                                                                    % -info)\n",
    "    return x"
   ]
  },
  {
   "cell_type": "code",
   "execution_count": 16,
   "metadata": {},
   "outputs": [
    {
     "ename": "NameError",
     "evalue": "name 'lower' is not defined",
     "output_type": "error",
     "traceback": [
      "\u001b[0;31m---------------------------------------------------------------------------\u001b[0m",
      "\u001b[0;31mNameError\u001b[0m                                 Traceback (most recent call last)",
      "\u001b[0;32m<ipython-input-16-9f154c07430e>\u001b[0m in \u001b[0;36m<module>\u001b[0;34m()\u001b[0m\n\u001b[0;32m----> 1\u001b[0;31m \u001b[0mTesteSOL\u001b[0m \u001b[0;34m=\u001b[0m \u001b[0mcho_solve\u001b[0m\u001b[0;34m(\u001b[0m\u001b[0;34m(\u001b[0m\u001b[0mTesteST\u001b[0m\u001b[0;34m,\u001b[0m\u001b[0mlower\u001b[0m\u001b[0;34m)\u001b[0m\u001b[0;34m,\u001b[0m\u001b[0mB\u001b[0m\u001b[0;34m)\u001b[0m\u001b[0;34m\u001b[0m\u001b[0m\n\u001b[0m",
      "\u001b[0;31mNameError\u001b[0m: name 'lower' is not defined"
     ]
    }
   ],
   "source": [
    "TesteSOL = cho_solve((,B)"
   ]
  },
  {
   "cell_type": "code",
   "execution_count": null,
   "metadata": {
    "collapsed": true
   },
   "outputs": [],
   "source": []
  }
 ],
 "metadata": {
  "kernelspec": {
   "display_name": "Python 3",
   "language": "python",
   "name": "python3"
  },
  "language_info": {
   "codemirror_mode": {
    "name": "ipython",
    "version": 3
   },
   "file_extension": ".py",
   "mimetype": "text/x-python",
   "name": "python",
   "nbconvert_exporter": "python",
   "pygments_lexer": "ipython3",
   "version": "3.6.2"
  }
 },
 "nbformat": 4,
 "nbformat_minor": 2
}
