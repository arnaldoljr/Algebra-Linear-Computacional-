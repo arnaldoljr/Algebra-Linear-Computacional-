{
 "cells": [
  {
   "cell_type": "markdown",
   "metadata": {},
   "source": [
    "$$\\Large{ \\textit{UNIVERSIDADE FEDERAL DO CEARÁ  } }$$\n",
    "\n",
    "$$ \\large{\\textit{Departamento de Ciências da Computação }} $$\n",
    "\n",
    "\n",
    "$$ \\large{\\textit{Mestrado e Doutorado em Ciências da Computação -  MDCC }} $$\n",
    "\n",
    "<hr/>"
   ]
  },
  {
   "cell_type": "markdown",
   "metadata": {},
   "source": [
    "\n",
    "$$\\Large{{\\textbf{ DISCIPLINA DE ÁLGEBRA LINEAR COMPUTACIONAL}}}$$\n",
    "\n",
    "$$\\large{\\texttt{Docente: Professor Creto Vidal}}$$\n",
    "\n",
    "$$\\large{\\texttt{Discente: Arnaldo Araújo}}$$\n",
    "<hr/>\n",
    "\n"
   ]
  },
  {
   "cell_type": "markdown",
   "metadata": {},
   "source": [
    "### Método de Gauss"
   ]
  },
  {
   "cell_type": "markdown",
   "metadata": {},
   "source": [
    "* Definir as funções preliminares da Álgebra Linear\n",
    "\n",
    "* Fazer o método de Gauss com pivoteamento Total e Parcial\n",
    "\n",
    "* Método de Gauss-Jordan\n",
    "\n",
    "    * Retorno do vetor solução \n",
    "    \n",
    "    * Retorno da matriz inversa\n"
   ]
  },
  {
   "cell_type": "code",
   "execution_count": 2,
   "metadata": {
    "collapsed": true,
    "scrolled": false
   },
   "outputs": [],
   "source": [
    "#realizando os imports para todo o projeto\n",
    "import numpy as np\n",
    "from scipy import linalg ## testes\n",
    "from pprint import pprint\n",
    "\n"
   ]
  },
  {
   "cell_type": "code",
   "execution_count": 10,
   "metadata": {
    "collapsed": true,
    "scrolled": false
   },
   "outputs": [],
   "source": [
    "#função para criar uma matriz NxN\n",
    "def CriarMatriz(n):\n",
    "    Matriz = np.mat(np.random.rand(n,n))\n",
    "    return Matriz*100"
   ]
  },
  {
   "cell_type": "code",
   "execution_count": 11,
   "metadata": {
    "scrolled": false
   },
   "outputs": [
    {
     "data": {
      "text/plain": [
       "matrix([[ 11.83283406,  84.00049102,  52.13999293],\n",
       "        [ 12.06589814,  64.92761969,  30.33320803],\n",
       "        [  4.59574044,  54.55152626,  44.0257932 ]])"
      ]
     },
     "execution_count": 11,
     "metadata": {},
     "output_type": "execute_result"
    }
   ],
   "source": [
    "M = []\n",
    "#b = numpy.append(a,numpy.zeros([len(a),1]),1)\n",
    "M = CriarMatriz(3)\n",
    "M"
   ]
  },
  {
   "cell_type": "markdown",
   "metadata": {},
   "source": [
    "$$ \\large{\\text{Um bom exemplo para testes:}} $$"
   ]
  },
  {
   "cell_type": "code",
   "execution_count": 12,
   "metadata": {
    "collapsed": true,
    "scrolled": false
   },
   "outputs": [],
   "source": [
    "# C = np.matrix([[1,2],[32,2]])\n",
    "'''\n",
    "MT2 = ([[ 61.50590283,  56.43918485,  52.9191633        ],\n",
    "        [ 68.56200343,  32.71798998,  90.51044105        ],\n",
    "       [ 78.41504003,  66.89005693,  94.36484943        ]])\n",
    "''''\n"
   ]
  },
  {
   "cell_type": "markdown",
   "metadata": {},
   "source": [
    "## Entrar com o vetor b tal que Ax=b"
   ]
  },
  {
   "cell_type": "code",
   "execution_count": 5,
   "metadata": {
    "scrolled": false
   },
   "outputs": [
    {
     "data": {
      "text/plain": [
       "matrix([[ 20.,  10.,   0.,   0.,   0.,   0.],\n",
       "        [ 10.,  20.,  10.,   0.,   0.,   0.],\n",
       "        [  0.,  10.,  20.,  10.,   0.,   0.],\n",
       "        [  0.,   0.,  10.,  20.,  10.,   0.],\n",
       "        [  0.,   0.,   0.,  10.,  20.,  10.],\n",
       "        [  0.,   0.,   0.,   0.,  10.,  20.]])"
      ]
     },
     "execution_count": 5,
     "metadata": {},
     "output_type": "execute_result"
    }
   ],
   "source": [
    "A = np.mat([[20.,  10.0,  0.0,0.0,0.0,0.0       ],\n",
    "        [ 10.0,  20.0,  10.0,0.0,0.0,0.0        ],\n",
    "            [ 0.0,10.0,  20.0,  10.0,0.0,0.0        ],\n",
    "            [ 0.0,  0,  10.0,20.0,10.0,0.0        ],\n",
    "            [ 0.0,0.0,0.0, 10.0,  20.0,  10.0        ],\n",
    "       [0.0,0.0,0.0,0.0,10.0,20.0]])\n",
    "A"
   ]
  },
  {
   "cell_type": "code",
   "execution_count": 4,
   "metadata": {
    "scrolled": false
   },
   "outputs": [
    {
     "data": {
      "text/plain": [
       "array([[-10.],\n",
       "       [ 10.],\n",
       "       [ 20.],\n",
       "       [ 20.],\n",
       "       [ 10.],\n",
       "       [-10.]])"
      ]
     },
     "execution_count": 4,
     "metadata": {},
     "output_type": "execute_result"
    }
   ],
   "source": [
    "b = np.ones((6,1),dtype = float)\n",
    "b[0,0] = -10. \n",
    "b[1,0] = 10. \n",
    "b[2,0]= 20.\n",
    "b[3,0] = 20.\n",
    "b[4,0] = 10.\n",
    "b[5,0] = -10.\n",
    "b"
   ]
  },
  {
   "cell_type": "code",
   "execution_count": 7,
   "metadata": {
    "scrolled": false
   },
   "outputs": [
    {
     "data": {
      "text/plain": [
       "array([[ 20.,  10.,   0.,   0.,   0.,   0.],\n",
       "       [ 10.,  20.,  10.,   0.,   0.,   0.],\n",
       "       [  0.,  10.,  20.,  10.,   0.,   0.],\n",
       "       [  0.,   0.,  10.,  20.,  10.,   0.],\n",
       "       [  0.,   0.,   0.,  10.,  20.,  10.],\n",
       "       [  0.,   0.,   0.,   0.,  10.,  20.]])"
      ]
     },
     "execution_count": 7,
     "metadata": {},
     "output_type": "execute_result"
    }
   ],
   "source": [
    "MT = np.copy(A)\n",
    "MT"
   ]
  },
  {
   "cell_type": "markdown",
   "metadata": {},
   "source": [
    "## Criar a matriz estendida ( A | b)"
   ]
  },
  {
   "cell_type": "code",
   "execution_count": 8,
   "metadata": {
    "collapsed": true,
    "scrolled": false
   },
   "outputs": [],
   "source": [
    "MT= []\n",
    "MT = np.concatenate((A,b),axis = 1)\n"
   ]
  },
  {
   "cell_type": "code",
   "execution_count": 9,
   "metadata": {
    "scrolled": false
   },
   "outputs": [
    {
     "data": {
      "text/plain": [
       "array([[ 20.,  10.,   0.,   0.,   0.,   0., -10.],\n",
       "       [ 10.,  20.,  10.,   0.,   0.,   0.,  10.],\n",
       "       [  0.,  10.,  20.,  10.,   0.,   0.,  20.],\n",
       "       [  0.,   0.,  10.,  20.,  10.,   0.,  20.],\n",
       "       [  0.,   0.,   0.,  10.,  20.,  10.,  10.],\n",
       "       [  0.,   0.,   0.,   0.,  10.,  20., -10.]])"
      ]
     },
     "execution_count": 9,
     "metadata": {},
     "output_type": "execute_result"
    }
   ],
   "source": [
    "MT = MT.round(2)\n",
    "MT"
   ]
  },
  {
   "cell_type": "code",
   "execution_count": 10,
   "metadata": {
    "collapsed": true,
    "scrolled": false
   },
   "outputs": [],
   "source": [
    "# verificar se a matriz tem inversa antes de testar\n",
    "# OPÇÃO - np.linalg.inv(M)"
   ]
  },
  {
   "cell_type": "code",
   "execution_count": 11,
   "metadata": {
    "collapsed": true,
    "scrolled": false
   },
   "outputs": [],
   "source": [
    "#função que verifica se tem inversa\n",
    "def Tem_Inversa(M):\n",
    "    try:\n",
    "        inverse = np.linalg.inv(M)\n",
    "    except np.linalg.LinAlgError:\n",
    "            print(\"OOOPAA.....A matriz não possui inversa\")\n",
    "            \n",
    "            pass\n",
    "    else:\n",
    "            print(\"A matriz possui inversa. Vai na fé :) \")\n",
    "    # continue with what you were doing"
   ]
  },
  {
   "cell_type": "code",
   "execution_count": 12,
   "metadata": {
    "scrolled": false
   },
   "outputs": [
    {
     "name": "stdout",
     "output_type": "stream",
     "text": [
      "A matriz possui inversa. Vai na fé :) \n"
     ]
    }
   ],
   "source": [
    "Tem_Inversa(A)"
   ]
  },
  {
   "cell_type": "code",
   "execution_count": 17,
   "metadata": {
    "scrolled": false
   },
   "outputs": [
    {
     "data": {
      "text/plain": [
       "array([[ 20.,  10.,   0.,   0.,   0.,   0., -10.],\n",
       "       [ 10.,  20.,  10.,   0.,   0.,   0.,  10.],\n",
       "       [  0.,  10.,  20.,  10.,   0.,   0.,  20.],\n",
       "       [  0.,   0.,  10.,  20.,  10.,   0.,  20.],\n",
       "       [  0.,   0.,   0.,  10.,  20.,  10.,  10.],\n",
       "       [  0.,   0.,   0.,   0.,  10.,  20., -10.]])"
      ]
     },
     "execution_count": 17,
     "metadata": {},
     "output_type": "execute_result"
    }
   ],
   "source": [
    "MPP = np.copy(MT)\n",
    "MPP"
   ]
  },
  {
   "cell_type": "markdown",
   "metadata": {},
   "source": [
    "## PIVOTEAMENTO PARCIAL"
   ]
  },
  {
   "cell_type": "code",
   "execution_count": 15,
   "metadata": {
    "collapsed": true,
    "scrolled": false
   },
   "outputs": [],
   "source": [
    "#FUNÇÃO que faz o pivotemanento parcial\n",
    "\n",
    "def Pivot_Parcial(M,j):\n",
    "    aux = np.zeros(j)\n",
    "    aux2 = []\n",
    "    Mat = np.copy(M)\n",
    "    aux = np.copy(Mat[0:,j])\n",
    "    for i in range(0,j):\n",
    "        aux[i] = 0\n",
    "    maxindex = np.argmax(aux) #pego o maior index da coluna\n",
    "    if Mat[maxindex,j]>Mat[j,j]: #se não for o maior index já está no pivô\n",
    "        aux2 = np.copy(Mat[j,0:]) #copio a linha do pivô\n",
    "        Mat[j,:] = Mat[maxindex,:] #mando para a linha do pivô a linha que contém o maior index\n",
    "        Mat[maxindex,0:] = np.copy(aux2) #jogo na linha de maior index o pivô antigo de volta\n",
    "    return Mat\n",
    "            \n"
   ]
  },
  {
   "cell_type": "code",
   "execution_count": 18,
   "metadata": {
    "scrolled": false
   },
   "outputs": [
    {
     "data": {
      "text/plain": [
       "array([[ 20.,  10.,   0.,   0.,   0.,   0., -10.],\n",
       "       [ 10.,  20.,  10.,   0.,   0.,   0.,  10.],\n",
       "       [  0.,  10.,  20.,  10.,   0.,   0.,  20.],\n",
       "       [  0.,   0.,  10.,  20.,  10.,   0.,  20.],\n",
       "       [  0.,   0.,   0.,  10.,  20.,  10.,  10.],\n",
       "       [  0.,   0.,   0.,   0.,  10.,  20., -10.]])"
      ]
     },
     "execution_count": 18,
     "metadata": {},
     "output_type": "execute_result"
    }
   ],
   "source": [
    "MPP"
   ]
  },
  {
   "cell_type": "code",
   "execution_count": 19,
   "metadata": {
    "scrolled": false
   },
   "outputs": [
    {
     "data": {
      "text/plain": [
       "array([[ 20.,  10.,   0.,   0.,   0.,   0., -10.],\n",
       "       [ 10.,  20.,  10.,   0.,   0.,   0.,  10.],\n",
       "       [  0.,  10.,  20.,  10.,   0.,   0.,  20.],\n",
       "       [  0.,   0.,  10.,  20.,  10.,   0.,  20.],\n",
       "       [  0.,   0.,   0.,  10.,  20.,  10.,  10.],\n",
       "       [  0.,   0.,   0.,   0.,  10.,  20., -10.]])"
      ]
     },
     "execution_count": 19,
     "metadata": {},
     "output_type": "execute_result"
    }
   ],
   "source": [
    "MtGP=[]\n",
    "MtGP = Pivot_Parcial(MPP,0)\n",
    "MtGP"
   ]
  },
  {
   "cell_type": "markdown",
   "metadata": {},
   "source": [
    "## Método de GAUSS com Pivoteamento Parcial"
   ]
  },
  {
   "cell_type": "code",
   "execution_count": 20,
   "metadata": {
    "collapsed": true,
    "scrolled": false
   },
   "outputs": [],
   "source": [
    "#resolver o sistema agora \n",
    "#entro com a matriz e o tamanho dela\n",
    "def Gauss_Parcial(M):\n",
    "    tam = M.shape[0]-1\n",
    "    Ind = np.ones(M.shape[0])\n",
    "    #M_I = Ind.transpose()\n",
    "    Mat = np.copy(M)\n",
    "    for j in range(tam):\n",
    "        #faço o pivoteamento para cada coluna\n",
    "        Mat = Pivot_Parcial(Mat,j)\n",
    "        for i in range(tam,j,-1):\n",
    "            Mat[i,:] =  Mat[i,:] - Mat[j,:] * (Mat[i,j]/Mat[j,j])\n",
    "    return Mat"
   ]
  },
  {
   "cell_type": "code",
   "execution_count": 21,
   "metadata": {
    "scrolled": false
   },
   "outputs": [
    {
     "data": {
      "text/plain": [
       "array([[ 20.,  10.,   0.,   0.,   0.,   0., -10.],\n",
       "       [ 10.,  20.,  10.,   0.,   0.,   0.,  10.],\n",
       "       [  0.,  10.,  20.,  10.,   0.,   0.,  20.],\n",
       "       [  0.,   0.,  10.,  20.,  10.,   0.,  20.],\n",
       "       [  0.,   0.,   0.,  10.,  20.,  10.,  10.],\n",
       "       [  0.,   0.,   0.,   0.,  10.,  20., -10.]])"
      ]
     },
     "execution_count": 21,
     "metadata": {},
     "output_type": "execute_result"
    }
   ],
   "source": [
    "MPP"
   ]
  },
  {
   "cell_type": "code",
   "execution_count": 22,
   "metadata": {
    "scrolled": false
   },
   "outputs": [
    {
     "data": {
      "text/html": [
       "<style>.container { width:100% !important; }</style>"
      ],
      "text/plain": [
       "<IPython.core.display.HTML object>"
      ]
     },
     "metadata": {},
     "output_type": "display_data"
    },
    {
     "data": {
      "text/plain": [
       "array([[ 20.  ,  10.  ,   0.  ,   0.  ,   0.  ,   0.  , -10.  ],\n",
       "       [  0.  ,  15.  ,  10.  ,   0.  ,   0.  ,   0.  ,  15.  ],\n",
       "       [  0.  ,   0.  ,  13.33,  10.  ,   0.  ,   0.  ,  10.  ],\n",
       "       [  0.  ,   0.  ,   0.  ,  12.5 ,  10.  ,   0.  ,  12.5 ],\n",
       "       [  0.  ,   0.  ,   0.  ,   0.  ,  12.  ,  10.  ,   0.  ],\n",
       "       [  0.  ,   0.  ,   0.  ,   0.  ,   0.  ,  11.67, -10.  ]])"
      ]
     },
     "execution_count": 22,
     "metadata": {},
     "output_type": "execute_result"
    }
   ],
   "source": [
    "from IPython.core.display import display, HTML #aumentar tamanho da celular\n",
    "display(HTML(\"<style>.container { width:100% !important; }</style>\"))\n",
    "MtGPP=[]\n",
    "MtGPP = Gauss_Parcial(MPP)\n",
    "MtGPP = MtGPP.round(2)\n",
    "MtGPP\n"
   ]
  },
  {
   "cell_type": "markdown",
   "metadata": {},
   "source": [
    "## Função de Substituição Retroativa\n",
    "\n",
    "* Resolução do Sistema Propriamente Dito"
   ]
  },
  {
   "cell_type": "code",
   "execution_count": 23,
   "metadata": {
    "scrolled": false
   },
   "outputs": [
    {
     "data": {
      "text/plain": [
       "array([[ 20.  ,  10.  ,   0.  ,   0.  ,   0.  ,   0.  , -10.  ],\n",
       "       [  0.  ,  15.  ,  10.  ,   0.  ,   0.  ,   0.  ,  15.  ],\n",
       "       [  0.  ,   0.  ,  13.33,  10.  ,   0.  ,   0.  ,  10.  ],\n",
       "       [  0.  ,   0.  ,   0.  ,  12.5 ,  10.  ,   0.  ,  12.5 ],\n",
       "       [  0.  ,   0.  ,   0.  ,   0.  ,  12.  ,  10.  ,   0.  ],\n",
       "       [  0.  ,   0.  ,   0.  ,   0.  ,   0.  ,  11.67, -10.  ]])"
      ]
     },
     "execution_count": 23,
     "metadata": {},
     "output_type": "execute_result"
    }
   ],
   "source": [
    "MtGPP"
   ]
  },
  {
   "cell_type": "code",
   "execution_count": 24,
   "metadata": {
    "scrolled": false
   },
   "outputs": [
    {
     "data": {
      "text/plain": [
       "matrix([[ 20.,  10.,   0.,   0.,   0.,   0.],\n",
       "        [ 10.,  20.,  10.,   0.,   0.,   0.],\n",
       "        [  0.,  10.,  20.,  10.,   0.,   0.],\n",
       "        [  0.,   0.,  10.,  20.,  10.,   0.],\n",
       "        [  0.,   0.,   0.,  10.,  20.,  10.],\n",
       "        [  0.,   0.,   0.,   0.,  10.,  20.]])"
      ]
     },
     "execution_count": 24,
     "metadata": {},
     "output_type": "execute_result"
    }
   ],
   "source": [
    "A"
   ]
  },
  {
   "cell_type": "code",
   "execution_count": 44,
   "metadata": {
    "scrolled": false
   },
   "outputs": [
    {
     "name": "stdout",
     "output_type": "stream",
     "text": [
      "['x0', 'x1', 'x2', 'x3', 'x4', 'x5']\n"
     ]
    }
   ],
   "source": [
    "#crio o vetor X de variáveis\n",
    "Xv = []\n",
    "for i in range(A.shape[0]):\n",
    "    Xv.append('x'+str(i)) \n",
    "print(Xv)"
   ]
  },
  {
   "cell_type": "code",
   "execution_count": 47,
   "metadata": {
    "scrolled": false
   },
   "outputs": [
    {
     "data": {
      "text/plain": [
       "-10.0"
      ]
     },
     "execution_count": 47,
     "metadata": {},
     "output_type": "execute_result"
    }
   ],
   "source": [
    "MtGPP[5,6]"
   ]
  },
  {
   "cell_type": "code",
   "execution_count": 48,
   "metadata": {
    "collapsed": true,
    "scrolled": false
   },
   "outputs": [],
   "source": [
    "## Função de substituição retroativa \n",
    "def SubsRetr(Mat1,Vx):\n",
    "    #criar o vetor X\n",
    "    #vx = np.copy(Vx)\n",
    "    tamLi = Mat1.shape[0]\n",
    "    tamCo = Mat1.shape[1]-1\n",
    "    vx = np.zeros(tamLi)\n",
    "    for i in range(tamLi-1,-1,-1):\n",
    "        soma = 0\n",
    "        for k in range(i,tamLi):\n",
    "            soma =  soma + Mat1[i,k]*vx[k]\n",
    "        vx[i] = (Mat1[i,tamCo] - soma)/ Mat1[i,i]\n",
    "    return vx\n",
    "\n",
    "    "
   ]
  },
  {
   "cell_type": "code",
   "execution_count": 50,
   "metadata": {
    "scrolled": false
   },
   "outputs": [
    {
     "data": {
      "text/plain": [
       "array([-0.85714795,  0.7142959 ,  0.42855615,  0.42873465,  0.71408169,\n",
       "       -0.85689803])"
      ]
     },
     "execution_count": 50,
     "metadata": {},
     "output_type": "execute_result"
    }
   ],
   "source": [
    "x = []\n",
    "x = SubsRetr(MtGPP,Xv)\n",
    "x"
   ]
  },
  {
   "cell_type": "markdown",
   "metadata": {},
   "source": [
    "## PIVOTEAMENTO TOTAL\n",
    "\n",
    "* ** Observações: **\n",
    "    * Pivoteamento sobre colunas deve  mudar o vetor de variáveis (VETOR - X's)\n",
    "    \n"
   ]
  },
  {
   "cell_type": "code",
   "execution_count": 52,
   "metadata": {
    "scrolled": false
   },
   "outputs": [
    {
     "name": "stdout",
     "output_type": "stream",
     "text": [
      "['x0', 'x1', 'x2', 'x3', 'x4', 'x5']\n"
     ]
    }
   ],
   "source": [
    "#crio o vetor X de variáveis\n",
    "Xv = []\n",
    "for i in range(MT.shape[0]):\n",
    "    Xv.append('x'+str(i)) \n",
    "print(Xv)"
   ]
  },
  {
   "cell_type": "code",
   "execution_count": 53,
   "metadata": {
    "collapsed": true,
    "scrolled": false
   },
   "outputs": [],
   "source": [
    "def Pivot_Total(M,Xv,j):\n",
    "    ## ações auxiliares\n",
    "    aux = np.zeros(j)\n",
    "    tam_c = M.shape[1]-1\n",
    "    aux2 = []\n",
    "    X = np.copy(Xv)\n",
    "    Mat = np.copy(M)\n",
    "    aux = np.copy(Mat[:,j]) # auxiliar que verifica as linhas\n",
    "    aux2 = np.copy(Mat[j,:])    #auxiliar que verifica as colunas \n",
    "    for i in range(0,j):     \n",
    "        aux[i] = 0\n",
    "        aux2[i] = 0\n",
    "    maxindex_l = np.argmax(aux) #pego o maior index da linha\n",
    "    maxindex_c = np.argmax(aux2)\n",
    "    if(Mat[maxindex_l,j]>Mat[j,j]):\n",
    "        if(Mat[j,maxindex_c]>Mat[maxindex_l,j]):\n",
    "            aux3 = np.copy(Mat[:,j]) #copio a coluna do pivô\n",
    "            Mat[:,j] = Mat[:,maxindex_c] # troco as colunas\n",
    "            Mat[:,maxindex_c] = np.copy(aux3)\n",
    "            #troco os valores do vetor-coluna x\n",
    "            aux4 = X[j]\n",
    "            X[j] = X[maxindex_c]\n",
    "            X[maxindex_c] = aux4\n",
    "        else:\n",
    "            aux3 = np.copy(Mat[j,:]) #copio a linha  do pivô\n",
    "            Mat[j,:] = Mat[maxindex_l,:] #mando para a linha do pivô a linha que contém o maior index\n",
    "            Mat[maxindex_l,:] = np.copy(aux3) #jogo na linha de maior index o pivô antigo de volta\n",
    "    if(Mat[j,maxindex_c]>Mat[j,j]):\n",
    "        aux3 = np.copy(Mat[:,j]) #copio a coluna do pivô\n",
    "        Mat[:,j] = Mat[:,maxindex_c] # troco as colunas\n",
    "        Mat[:,maxindex_c] = np.copy(aux3)\n",
    "        #troco os valores do vetor x\n",
    "        aux4 = np.copy(X)\n",
    "        aux4[j] = X[j]\n",
    "        X[j] = X[maxindex_c]\n",
    "        X[maxindex_c] = aux4[j]\n",
    "    return Mat , X \n",
    "\n",
    "        \n",
    "        \n",
    "       \n"
   ]
  },
  {
   "cell_type": "code",
   "execution_count": 54,
   "metadata": {
    "scrolled": false
   },
   "outputs": [
    {
     "data": {
      "text/plain": [
       "array([[ 20.,  10.,   0.,   0.,   0.,   0., -10.],\n",
       "       [ 10.,  20.,  10.,   0.,   0.,   0.,  10.],\n",
       "       [  0.,  10.,  20.,  10.,   0.,   0.,  20.],\n",
       "       [  0.,   0.,  10.,  20.,  10.,   0.,  20.],\n",
       "       [  0.,   0.,   0.,  10.,  20.,  10.,  10.],\n",
       "       [  0.,   0.,   0.,   0.,  10.,  20., -10.]])"
      ]
     },
     "execution_count": 54,
     "metadata": {},
     "output_type": "execute_result"
    }
   ],
   "source": [
    "MT"
   ]
  },
  {
   "cell_type": "markdown",
   "metadata": {},
   "source": [
    "## Método de GAUSS com Pivoteamento Total"
   ]
  },
  {
   "cell_type": "code",
   "execution_count": 66,
   "metadata": {
    "collapsed": true,
    "scrolled": false
   },
   "outputs": [],
   "source": [
    "#resolver o sistema agora \n",
    "#entro com a matriz \n",
    "def Gauss_Total(M,X):\n",
    "    tam = M.shape[0]-1\n",
    "    Mat = np.copy(M)\n",
    "    for j in range(tam):\n",
    "        #faço o pivoteamento total para cada coluna \n",
    "        Mat,vetx = Pivot_Total(Mat,X,j)\n",
    "        for i in range(tam,j,-1):\n",
    "            Mat[i,:] =  Mat[i,:] - Mat[j,:] * (Mat[i,j]/Mat[j,j])\n",
    "    return Mat,vetx\n",
    "   \n",
    "    \n",
    "        \n"
   ]
  },
  {
   "cell_type": "code",
   "execution_count": 67,
   "metadata": {
    "scrolled": false
   },
   "outputs": [
    {
     "data": {
      "text/plain": [
       "array([[ 20.,  10.,   0.,   0.,   0.,   0., -10.],\n",
       "       [ 10.,  20.,  10.,   0.,   0.,   0.,  10.],\n",
       "       [  0.,  10.,  20.,  10.,   0.,   0.,  20.],\n",
       "       [  0.,   0.,  10.,  20.,  10.,   0.,  20.],\n",
       "       [  0.,   0.,   0.,  10.,  20.,  10.,  10.],\n",
       "       [  0.,   0.,   0.,   0.,  10.,  20., -10.]])"
      ]
     },
     "execution_count": 67,
     "metadata": {},
     "output_type": "execute_result"
    }
   ],
   "source": [
    "MT"
   ]
  },
  {
   "cell_type": "code",
   "execution_count": 68,
   "metadata": {
    "scrolled": false
   },
   "outputs": [
    {
     "data": {
      "text/plain": [
       "['x0', 'x1', 'x2', 'x3', 'x4', 'x5']"
      ]
     },
     "execution_count": 68,
     "metadata": {},
     "output_type": "execute_result"
    }
   ],
   "source": [
    "Xv"
   ]
  },
  {
   "cell_type": "code",
   "execution_count": 72,
   "metadata": {
    "scrolled": false
   },
   "outputs": [
    {
     "data": {
      "text/plain": [
       "array([[ 20.        ,  10.        ,   0.        ,   0.        ,\n",
       "          0.        ,   0.        , -10.        ],\n",
       "       [  0.        ,  15.        ,  10.        ,   0.        ,\n",
       "          0.        ,   0.        ,  15.        ],\n",
       "       [  0.        ,   0.        ,  13.33333333,  10.        ,\n",
       "          0.        ,   0.        ,  10.        ],\n",
       "       [  0.        ,   0.        ,   0.        ,  12.5       ,\n",
       "         10.        ,   0.        ,  12.5       ],\n",
       "       [  0.        ,   0.        ,   0.        ,   0.        ,\n",
       "         12.        ,  10.        ,   0.        ],\n",
       "       [  0.        ,   0.        ,   0.        ,   0.        ,\n",
       "          0.        ,  11.66666667, -10.        ]])"
      ]
     },
     "execution_count": 72,
     "metadata": {},
     "output_type": "execute_result"
    }
   ],
   "source": [
    "MtGPT = []\n",
    "xGPT =[]\n",
    "MtGPT2,xGPT2 = Gauss_Total(MT,Xv)\n",
    "MtGPT2"
   ]
  },
  {
   "cell_type": "markdown",
   "metadata": {},
   "source": [
    "$\\large{\\text{Para encontrar os valores finais de X iremos fazer a substituição retroativa completa.}}$"
   ]
  },
  {
   "cell_type": "code",
   "execution_count": 73,
   "metadata": {
    "scrolled": false
   },
   "outputs": [
    {
     "data": {
      "text/plain": [
       "array(['x0', 'x1', 'x2', 'x3', 'x4', 'x5'],\n",
       "      dtype='<U2')"
      ]
     },
     "execution_count": 73,
     "metadata": {},
     "output_type": "execute_result"
    }
   ],
   "source": [
    "xGPT2"
   ]
  },
  {
   "cell_type": "code",
   "execution_count": 75,
   "metadata": {
    "scrolled": true
   },
   "outputs": [
    {
     "data": {
      "text/plain": [
       "array([-0.85714286,  0.71428571,  0.42857143,  0.42857143,  0.71428571,\n",
       "       -0.85714286])"
      ]
     },
     "execution_count": 75,
     "metadata": {},
     "output_type": "execute_result"
    }
   ],
   "source": [
    "X_sol = []\n",
    "X_sol = SubsRetr(MtGPT2,xGPT2)\n",
    "X_sol"
   ]
  },
  {
   "cell_type": "markdown",
   "metadata": {
    "collapsed": true
   },
   "source": [
    "## Método  GAUSS_JORDAN\n",
    "\n",
    "* M1 - Retorno: vetor solução \n",
    "\n",
    "* M2 - Retorno: matriz inversa"
   ]
  },
  {
   "cell_type": "markdown",
   "metadata": {},
   "source": [
    "### Algoritmo\n",
    "* **Entrada: A matriz b e concatenada com a matriz de entrada**\n",
    "* ** Saída: A matriz identidade com o vetor-coluna b solução  **\n"
   ]
  },
  {
   "cell_type": "markdown",
   "metadata": {},
   "source": [
    "<hr/>\n",
    "$$ \\large{\\text{GAUSS-JORDAN RETORNANDO O VETOR SOLUÇÃO }} $$\n",
    "<hr/>\n",
    "\n"
   ]
  },
  {
   "cell_type": "code",
   "execution_count": 76,
   "metadata": {
    "collapsed": true,
    "scrolled": false
   },
   "outputs": [],
   "source": [
    "# ESSE RETORNA UMA TRIANGULAR SUPERIOR\n",
    "#resolver o sistema agora \n",
    "#entro com a matriz e o tamanho dela\n",
    "def Gauss_Jordan(M,X):\n",
    "    tam = M.shape[0]-1\n",
    "    Ind = np.ones(M.shape[0])\n",
    "    #M_I = Ind.transpose()\n",
    "    Mat = np.copy(M)\n",
    "    for j in range(tam):\n",
    "        #faço o pivoteamento para cada coluna\n",
    "        Mat,vetx = Pivot_Total(Mat,X,j)\n",
    "        for i in range(tam,j,-1):\n",
    "            Mat[i,:] =  Mat[i,:] - Mat[j,:] * (Mat[i,j]/Mat[j,j])\n",
    "    for c in range(tam,-1,-1): #já tenho uma triangular superior. Agora vou zerar a parte de cima.\n",
    "        for l in range(c-1,-1,-1):\n",
    "            Mat[l,:] =  Mat[l,:] - Mat[c,:] * (Mat[l,c]/Mat[c,c])\n",
    "    for p in range(tam+1):\n",
    "        Mat[p,:] = Mat[p,:] * ( 1 / Mat[p,p])\n",
    "\n",
    "    \n",
    "    return Mat,vetx"
   ]
  },
  {
   "cell_type": "code",
   "execution_count": 77,
   "metadata": {
    "scrolled": false
   },
   "outputs": [
    {
     "data": {
      "text/plain": [
       "array([[ 20.,  10.,   0.,   0.,   0.,   0., -10.],\n",
       "       [ 10.,  20.,  10.,   0.,   0.,   0.,  10.],\n",
       "       [  0.,  10.,  20.,  10.,   0.,   0.,  20.],\n",
       "       [  0.,   0.,  10.,  20.,  10.,   0.,  20.],\n",
       "       [  0.,   0.,   0.,  10.,  20.,  10.,  10.],\n",
       "       [  0.,   0.,   0.,   0.,  10.,  20., -10.]])"
      ]
     },
     "execution_count": 77,
     "metadata": {},
     "output_type": "execute_result"
    }
   ],
   "source": [
    "MT"
   ]
  },
  {
   "cell_type": "code",
   "execution_count": 78,
   "metadata": {
    "scrolled": false
   },
   "outputs": [
    {
     "data": {
      "text/plain": [
       "['x0', 'x1', 'x2', 'x3', 'x4', 'x5']"
      ]
     },
     "execution_count": 78,
     "metadata": {},
     "output_type": "execute_result"
    }
   ],
   "source": [
    "Xv"
   ]
  },
  {
   "cell_type": "code",
   "execution_count": 79,
   "metadata": {
    "scrolled": false
   },
   "outputs": [
    {
     "data": {
      "text/plain": [
       "array([[ 1.        ,  0.        ,  0.        ,  0.        ,  0.        ,\n",
       "         0.        , -0.85714286],\n",
       "       [ 0.        ,  1.        ,  0.        ,  0.        ,  0.        ,\n",
       "         0.        ,  0.71428571],\n",
       "       [ 0.        ,  0.        ,  1.        ,  0.        ,  0.        ,\n",
       "         0.        ,  0.42857143],\n",
       "       [ 0.        ,  0.        ,  0.        ,  1.        ,  0.        ,\n",
       "         0.        ,  0.42857143],\n",
       "       [ 0.        ,  0.        ,  0.        ,  0.        ,  1.        ,\n",
       "         0.        ,  0.71428571],\n",
       "       [ 0.        ,  0.        ,  0.        ,  0.        ,  0.        ,\n",
       "         1.        , -0.85714286]])"
      ]
     },
     "execution_count": 79,
     "metadata": {},
     "output_type": "execute_result"
    }
   ],
   "source": [
    "%%time\n",
    "MtGJ = []\n",
    "vetorx = []\n",
    "MtGJ,vetorx = Gauss_Jordan(MT,Xv)\n",
    "MtGJ"
   ]
  },
  {
   "cell_type": "markdown",
   "metadata": {},
   "source": [
    "<hr/>\n",
    "$$ \\large{\\text{RETORNANDO A MATRIZ INVERSA}} $$\n",
    "<hr/>"
   ]
  },
  {
   "cell_type": "code",
   "execution_count": 80,
   "metadata": {
    "scrolled": false
   },
   "outputs": [
    {
     "data": {
      "text/plain": [
       "array([[ 20.,  10.,   0.,   0.,   0.,   0.],\n",
       "       [ 10.,  20.,  10.,   0.,   0.,   0.],\n",
       "       [  0.,  10.,  20.,  10.,   0.,   0.],\n",
       "       [  0.,   0.,  10.,  20.,  10.,   0.],\n",
       "       [  0.,   0.,   0.,  10.,  20.,  10.],\n",
       "       [  0.,   0.,   0.,   0.,  10.,  20.]])"
      ]
     },
     "execution_count": 80,
     "metadata": {},
     "output_type": "execute_result"
    }
   ],
   "source": [
    "A = A.round(2)\n",
    "A\n"
   ]
  },
  {
   "cell_type": "code",
   "execution_count": 81,
   "metadata": {
    "scrolled": false
   },
   "outputs": [
    {
     "data": {
      "text/plain": [
       "array([[ 1.,  0.,  0.,  0.,  0.,  0.],\n",
       "       [ 0.,  1.,  0.,  0.,  0.,  0.],\n",
       "       [ 0.,  0.,  1.,  0.,  0.,  0.],\n",
       "       [ 0.,  0.,  0.,  1.,  0.,  0.],\n",
       "       [ 0.,  0.,  0.,  0.,  1.,  0.],\n",
       "       [ 0.,  0.,  0.,  0.,  0.,  1.]])"
      ]
     },
     "execution_count": 81,
     "metadata": {},
     "output_type": "execute_result"
    }
   ],
   "source": [
    "tamInd = A.shape[0]\n",
    "I = np.identity(tamInd)\n",
    "I"
   ]
  },
  {
   "cell_type": "code",
   "execution_count": 82,
   "metadata": {
    "scrolled": false
   },
   "outputs": [
    {
     "data": {
      "text/plain": [
       "array([[ 20.,  10.,   0.,   0.,   0.,   0.,   1.,   0.,   0.,   0.,   0.,\n",
       "          0.],\n",
       "       [ 10.,  20.,  10.,   0.,   0.,   0.,   0.,   1.,   0.,   0.,   0.,\n",
       "          0.],\n",
       "       [  0.,  10.,  20.,  10.,   0.,   0.,   0.,   0.,   1.,   0.,   0.,\n",
       "          0.],\n",
       "       [  0.,   0.,  10.,  20.,  10.,   0.,   0.,   0.,   0.,   1.,   0.,\n",
       "          0.],\n",
       "       [  0.,   0.,   0.,  10.,  20.,  10.,   0.,   0.,   0.,   0.,   1.,\n",
       "          0.],\n",
       "       [  0.,   0.,   0.,   0.,  10.,  20.,   0.,   0.,   0.,   0.,   0.,\n",
       "          1.]])"
      ]
     },
     "execution_count": 82,
     "metadata": {},
     "output_type": "execute_result"
    }
   ],
   "source": [
    "MTxx= []\n",
    "MTxx = np.concatenate((A,I),axis = 1)\n",
    "MTxx"
   ]
  },
  {
   "cell_type": "code",
   "execution_count": 83,
   "metadata": {
    "scrolled": false
   },
   "outputs": [
    {
     "data": {
      "text/plain": [
       "['x0', 'x1', 'x2', 'x3', 'x4', 'x5']"
      ]
     },
     "execution_count": 83,
     "metadata": {},
     "output_type": "execute_result"
    }
   ],
   "source": [
    "Xv"
   ]
  },
  {
   "cell_type": "code",
   "execution_count": 85,
   "metadata": {
    "scrolled": false
   },
   "outputs": [
    {
     "data": {
      "text/plain": [
       "(array([[ 1.        ,  0.        ,  0.        ,  0.        ,  0.        ,\n",
       "          0.        ,  0.08571429, -0.07142857,  0.05714286, -0.04285714,\n",
       "          0.02857143, -0.01428571],\n",
       "        [ 0.        ,  1.        ,  0.        ,  0.        ,  0.        ,\n",
       "          0.        , -0.07142857,  0.14285714, -0.11428571,  0.08571429,\n",
       "         -0.05714286,  0.02857143],\n",
       "        [ 0.        ,  0.        ,  1.        ,  0.        ,  0.        ,\n",
       "          0.        ,  0.05714286, -0.11428571,  0.17142857, -0.12857143,\n",
       "          0.08571429, -0.04285714],\n",
       "        [ 0.        ,  0.        ,  0.        ,  1.        ,  0.        ,\n",
       "          0.        , -0.04285714,  0.08571429, -0.12857143,  0.17142857,\n",
       "         -0.11428571,  0.05714286],\n",
       "        [ 0.        ,  0.        ,  0.        ,  0.        ,  1.        ,\n",
       "          0.        ,  0.02857143, -0.05714286,  0.08571429, -0.11428571,\n",
       "          0.14285714, -0.07142857],\n",
       "        [ 0.        ,  0.        ,  0.        ,  0.        ,  0.        ,\n",
       "          1.        , -0.01428571,  0.02857143, -0.04285714,  0.05714286,\n",
       "         -0.07142857,  0.08571429]]),\n",
       " array(['x0', 'x1', 'x2', 'x3', 'x4', 'x5'],\n",
       "       dtype='<U2'))"
      ]
     },
     "execution_count": 85,
     "metadata": {},
     "output_type": "execute_result"
    }
   ],
   "source": [
    "%%time\n",
    "MtGJInv = []\n",
    "MtGJInv = Gauss_Jordan(MTxx,Xv)\n",
    "MtGJInv"
   ]
  },
  {
   "cell_type": "code",
   "execution_count": null,
   "metadata": {
    "collapsed": true,
    "scrolled": true
   },
   "outputs": [],
   "source": []
  }
 ],
 "metadata": {
  "kernelspec": {
   "display_name": "Python 3",
   "language": "python",
   "name": "python3"
  },
  "language_info": {
   "codemirror_mode": {
    "name": "ipython",
    "version": 3
   },
   "file_extension": ".py",
   "mimetype": "text/x-python",
   "name": "python",
   "nbconvert_exporter": "python",
   "pygments_lexer": "ipython3",
   "version": "3.6.2"
  }
 },
 "nbformat": 4,
 "nbformat_minor": 2
}
