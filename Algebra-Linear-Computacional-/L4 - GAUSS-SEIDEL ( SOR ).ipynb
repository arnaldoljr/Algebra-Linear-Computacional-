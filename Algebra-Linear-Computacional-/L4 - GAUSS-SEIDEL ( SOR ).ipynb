{
 "cells": [
  {
   "cell_type": "markdown",
   "metadata": {},
   "source": [
    "$$\\Large{ \\textit{UNIVERSIDADE FEDERAL DO CEARÁ  } }$$\n",
    "\n",
    "$$ \\large{\\textit{Departamento de Ciências da Computação }} $$\n",
    "\n",
    "\n",
    "$$ \\large{\\textit{Mestrado e Doutorado em Ciências da Computação -  MDCC }} $$\n",
    "\n",
    "<hr/>"
   ]
  },
  {
   "cell_type": "markdown",
   "metadata": {},
   "source": [
    "\n",
    "$$\\Large{{\\textbf{ DISCIPLINA DE ÁLGEBRA LINEAR COMPUTACIONAL}}}$$\n",
    "\n",
    "$$\\large{\\texttt{Docente: Professor Creto Vidal}}$$\n",
    "\n",
    "$$\\large{\\texttt{Discente: Arnaldo Araújo}}$$\n",
    "<hr/>\n"
   ]
  },
  {
   "cell_type": "markdown",
   "metadata": {},
   "source": [
    "# MÉTODO DE GAUSS-SEIDEL"
   ]
  },
  {
   "cell_type": "code",
   "execution_count": 149,
   "metadata": {
    "collapsed": true
   },
   "outputs": [],
   "source": [
    "#realizando os imports para todo o projeto\n",
    "import numpy as np\n",
    "from scipy import linalg ## testes\n",
    "from numpy import linalg as LA\n",
    "from __future__ import print_function \n",
    "from pprint import pprint\n",
    "from math import sqrt\n",
    "import matplotlib\n",
    "import matplotlib.pyplot as plt\n",
    "import matplotlib.lines as mlines\n",
    "from matplotlib.font_manager import FontProperties\n",
    "import skfuzzy as fuzz\n",
    "%matplotlib inline"
   ]
  },
  {
   "cell_type": "code",
   "execution_count": 137,
   "metadata": {},
   "outputs": [
    {
     "data": {
      "text/plain": [
       "matrix([[ 20.,  10.,   0.,   0.,   0.,   0.],\n",
       "        [ 10.,  20.,  10.,   0.,   0.,   0.],\n",
       "        [  0.,  10.,  20.,  10.,   0.,   0.],\n",
       "        [  0.,   0.,  10.,  20.,  10.,   0.],\n",
       "        [  0.,   0.,   0.,  10.,  20.,  10.],\n",
       "        [  0.,   0.,   0.,   0.,  10.,  20.]], dtype=float32)"
      ]
     },
     "execution_count": 137,
     "metadata": {},
     "output_type": "execute_result"
    }
   ],
   "source": [
    "A = np.mat([[20.,  10.0,  0.0,0.0,0.0,0.0       ],\n",
    "        [ 10.0,  20.0,  10.0,0.0,0.0,0.0        ],\n",
    "            [ 0.0,10.0,  20.0,  10.0,0.0,0.0        ],\n",
    "            [ 0.0,  0,  10.0,20.0,10.0,0.0        ],\n",
    "            [ 0.0,0.0,0.0, 10.0,  20.0,  10.0        ],\n",
    "       [0.0,0.0,0.0,0.0,10.0,20.0]],dtype='f')\n",
    "A"
   ]
  },
  {
   "cell_type": "code",
   "execution_count": 138,
   "metadata": {},
   "outputs": [
    {
     "data": {
      "text/plain": [
       "array([[ 20.,  10.,   0.,   0.,   0.,   0.],\n",
       "       [ 10.,  20.,  10.,   0.,   0.,   0.],\n",
       "       [  0.,  10.,  20.,  10.,   0.,   0.],\n",
       "       [  0.,   0.,  10.,  20.,  10.,   0.],\n",
       "       [  0.,   0.,   0.,  10.,  20.,  10.],\n",
       "       [  0.,   0.,   0.,   0.,  10.,  20.]], dtype=float32)"
      ]
     },
     "execution_count": 138,
     "metadata": {},
     "output_type": "execute_result"
    }
   ],
   "source": [
    "Ateste = np.copy(A)\n",
    "Ateste"
   ]
  },
  {
   "cell_type": "code",
   "execution_count": 139,
   "metadata": {},
   "outputs": [
    {
     "data": {
      "text/plain": [
       "array([ 20.,  10.,   0.,   0.,   0.], dtype=float32)"
      ]
     },
     "execution_count": 139,
     "metadata": {},
     "output_type": "execute_result"
    }
   ],
   "source": [
    "Ateste[1:,1]"
   ]
  },
  {
   "cell_type": "code",
   "execution_count": 140,
   "metadata": {},
   "outputs": [
    {
     "data": {
      "text/plain": [
       "array([[-10.],\n",
       "       [ 10.],\n",
       "       [ 20.],\n",
       "       [ 20.],\n",
       "       [ 10.],\n",
       "       [-10.]])"
      ]
     },
     "execution_count": 140,
     "metadata": {},
     "output_type": "execute_result"
    }
   ],
   "source": [
    "b = np.ones((6,1),dtype = float)\n",
    "b[0,0] = -10. \n",
    "b[1,0] = 10. \n",
    "b[2,0]= 20.\n",
    "b[3,0] = 20.\n",
    "b[4,0] = 10.\n",
    "b[5,0] = -10.\n",
    "b"
   ]
  },
  {
   "cell_type": "code",
   "execution_count": 141,
   "metadata": {},
   "outputs": [
    {
     "data": {
      "text/plain": [
       "array([ 300.])"
      ]
     },
     "execution_count": 141,
     "metadata": {},
     "output_type": "execute_result"
    }
   ],
   "source": [
    "np.dot(Ateste[:,1],b)"
   ]
  },
  {
   "cell_type": "code",
   "execution_count": 142,
   "metadata": {},
   "outputs": [
    {
     "data": {
      "text/plain": [
       "1.7320508075688774"
      ]
     },
     "execution_count": 142,
     "metadata": {},
     "output_type": "execute_result"
    }
   ],
   "source": [
    "np.cos(np.pi/6)*2"
   ]
  },
  {
   "cell_type": "code",
   "execution_count": 143,
   "metadata": {},
   "outputs": [
    {
     "data": {
      "text/plain": [
       "1.7320508075688774"
      ]
     },
     "execution_count": 143,
     "metadata": {},
     "output_type": "execute_result"
    }
   ],
   "source": [
    "m,n = Ateste.shape\n",
    "C = np.cos(np.pi/m) + np.cos(np.pi/n)\n",
    "C"
   ]
  },
  {
   "cell_type": "code",
   "execution_count": 144,
   "metadata": {},
   "outputs": [
    {
     "data": {
      "text/plain": [
       "0.86100174808612073"
      ]
     },
     "execution_count": 144,
     "metadata": {},
     "output_type": "execute_result"
    }
   ],
   "source": [
    "4/(np.sqrt((1.7320508075688774)**(2) + 4)+2)"
   ]
  },
  {
   "cell_type": "code",
   "execution_count": 145,
   "metadata": {},
   "outputs": [
    {
     "data": {
      "text/plain": [
       "0.86100174808612073"
      ]
     },
     "execution_count": 145,
     "metadata": {},
     "output_type": "execute_result"
    }
   ],
   "source": [
    "wopt = 4 /( 2 + np.sqrt( 4 + (C)**(2) ))\n",
    "wopt"
   ]
  },
  {
   "cell_type": "code",
   "execution_count": 146,
   "metadata": {},
   "outputs": [
    {
     "data": {
      "text/plain": [
       "'\\n#solucao otima dos outros metodos\\n\\narray([[-0.85714286],\\n       [ 0.71428571],\\n       [ 0.42857143],\\n       [ 0.42857143],\\n       [ 0.71428571],\\n       [-0.85714286]])\\n\\n\\n'"
      ]
     },
     "execution_count": 146,
     "metadata": {},
     "output_type": "execute_result"
    }
   ],
   "source": [
    "'''\n",
    "#solucao otima dos outros metodos\n",
    "\n",
    "array([[-0.85714286],\n",
    "       [ 0.71428571],\n",
    "       [ 0.42857143],\n",
    "       [ 0.42857143],\n",
    "       [ 0.71428571],\n",
    "       [-0.85714286]])\n",
    "\n",
    "\n",
    "'''"
   ]
  },
  {
   "cell_type": "code",
   "execution_count": 147,
   "metadata": {},
   "outputs": [
    {
     "ename": "SyntaxError",
     "evalue": "invalid syntax (<ipython-input-147-b138a900710d>, line 12)",
     "output_type": "error",
     "traceback": [
      "\u001b[0;36m  File \u001b[0;32m\"<ipython-input-147-b138a900710d>\"\u001b[0;36m, line \u001b[0;32m12\u001b[0m\n\u001b[0;31m    Vk1[i,0] = (1-w)*Vk0[i,0] +  (w*(b[i] - s1 - s2))/Ateste[i,i])\u001b[0m\n\u001b[0m                                                                 ^\u001b[0m\n\u001b[0;31mSyntaxError\u001b[0m\u001b[0;31m:\u001b[0m invalid syntax\n"
     ]
    }
   ],
   "source": [
    "#w = wopt\n",
    "#w = 1.6457513110645907\n",
    "w=0.0001\n",
    "Vk0 = np.zeros((Ateste.shape[0],1))\n",
    "Vk1  = np.zeros((Ateste.shape[0],1))\n",
    "for i in range(0,Ateste.shape[0]):\n",
    "    Vk0[i,0] = b[i]/Ateste[i,i]#settar a solucao inicial \n",
    "for _ in range(10000):\n",
    "    for i in range(0,Ateste.shape[0]):\n",
    "        s1  = np.dot(Ateste[i,:i-1],Vk1[:i-1])\n",
    "        s2 = np.dot(Ateste[i,i+1:],Vk0[i+1:])\n",
    "        Vk1[i,0] = (1-w)*Vk0[i,0] +  (w*(b[i] - s1 - s2))/Ateste[i,i])\n"
   ]
  },
  {
   "cell_type": "code",
   "execution_count": 22,
   "metadata": {},
   "outputs": [
    {
     "data": {
      "text/plain": [
       "array([[-0.5     ],\n",
       "       [ 0.49995 ],\n",
       "       [ 0.99995 ],\n",
       "       [ 0.999975],\n",
       "       [ 0.500025],\n",
       "       [-0.5     ]])"
      ]
     },
     "execution_count": 22,
     "metadata": {},
     "output_type": "execute_result"
    }
   ],
   "source": [
    "Vk1"
   ]
  },
  {
   "cell_type": "code",
   "execution_count": 148,
   "metadata": {
    "collapsed": true
   },
   "outputs": [],
   "source": [
    "# Passo a Matriz\n",
    "A = np.array([[10., -1., 2., 0.],\n",
    "              [-1., 11., -1., 3.],\n",
    "              [2., -1., 10., -1.],\n",
    "              [0., 3., -1., 8.]])\n",
    "# Vetor Resultado\n",
    "b = np.array([6., 25., -11., 15.])\n",
    "\n",
    "ITERATION_LIMIT = 1000 \n",
    "epocas = ITERATION_LIMIT "
   ]
  },
  {
   "cell_type": "code",
   "execution_count": 150,
   "metadata": {},
   "outputs": [
    {
     "data": {
      "text/plain": [
       "array([[ 10.,  -1.,   2.,   0.],\n",
       "       [ -1.,  11.,  -1.,   3.],\n",
       "       [  2.,  -1.,  10.,  -1.],\n",
       "       [  0.,   3.,  -1.,   8.]])"
      ]
     },
     "execution_count": 150,
     "metadata": {},
     "output_type": "execute_result"
    }
   ],
   "source": [
    "A"
   ]
  },
  {
   "cell_type": "code",
   "execution_count": 151,
   "metadata": {},
   "outputs": [
    {
     "data": {
      "text/plain": [
       "array([  6.,  25., -11.,  15.])"
      ]
     },
     "execution_count": 151,
     "metadata": {},
     "output_type": "execute_result"
    }
   ],
   "source": [
    "b"
   ]
  },
  {
   "cell_type": "code",
   "execution_count": 153,
   "metadata": {},
   "outputs": [
    {
     "data": {
      "text/plain": [
       "-7.0"
      ]
     },
     "execution_count": 153,
     "metadata": {},
     "output_type": "execute_result"
    }
   ],
   "source": [
    "b[0] - np.dot(A[0,:],b[:])"
   ]
  },
  {
   "cell_type": "code",
   "execution_count": 155,
   "metadata": {},
   "outputs": [
    {
     "data": {
      "text/plain": [
       "7.1999999999999993"
      ]
     },
     "execution_count": 155,
     "metadata": {},
     "output_type": "execute_result"
    }
   ],
   "source": [
    "1.2*b[0]"
   ]
  },
  {
   "cell_type": "code",
   "execution_count": null,
   "metadata": {
    "collapsed": true
   },
   "outputs": [],
   "source": []
  },
  {
   "cell_type": "code",
   "execution_count": null,
   "metadata": {
    "collapsed": true
   },
   "outputs": [],
   "source": []
  },
  {
   "cell_type": "code",
   "execution_count": 21,
   "metadata": {
    "collapsed": true
   },
   "outputs": [],
   "source": [
    "# GAUSS SEIDEL \n",
    "from numpy import linalg as LA\n",
    "\n",
    "def GAUSSSEIDEL(A,b,epocas):\n",
    "    Verro = []\n",
    "    #printar o sistema de equações\n",
    "    print(\"Sistema: \")\n",
    "    for i in range(A.shape[0]):\n",
    "        row = [\"{0:3g}*x{1}\".format(A[i, j], j + 1) for j in range(A.shape[1])]\n",
    "        print(\"[{0}] = [{1:3g}]\".format(\" + \".join(row), b[i]))\n",
    "   \n",
    "    x = np.zeros_like(b) \n",
    "    for k in range(A.shape[0]):\n",
    "        x[k] = b[k]/A[k,k]  #settar a solucao inicial \n",
    "        \n",
    "    \n",
    "    #x = np.zeros_like(b) # teste se eu inicializo o vetor solução com zeros????\n",
    "    \n",
    "    #laço epocas\n",
    "    \n",
    "    for it_count in range(1, epocas): \n",
    "        x_new = np.zeros_like(x) # Receber a solucao \"melhorada\"\n",
    "        print(\"Epoca {0}: {1}\".format(it_count, x))\n",
    "        for i in range(A.shape[0]): # Laço GAUSS SEIDEL\n",
    "            s1 = np.dot(A[i, :i], x_new[:i])\n",
    "            s2 = np.dot(A[i, i + 1:], x[i + 1:])\n",
    "            x_new[i] = (b[i] - s1 - s2) / A[i, i]\n",
    "        \n",
    "        error = np.dot(A, x_new) - b\n",
    "        NormaVetor = LA.norm(error)   # Tentar com o Erro Quadrático médio.\n",
    "        Verro.append(NormaVetor) \n",
    "        if np.allclose(x, x_new, rtol=1e-5): \n",
    "            break\n",
    "        x = x_new\n",
    "\n",
    "    print(\"Solucao: {0}\".format(x))\n",
    "    error = np.dot(A, x) - b\n",
    "    print(\"Erro: {0}\".format(error))\n",
    "    return( x,error,Verro )\n",
    "    \n",
    "    \n",
    "    "
   ]
  },
  {
   "cell_type": "code",
   "execution_count": 22,
   "metadata": {},
   "outputs": [
    {
     "name": "stdout",
     "output_type": "stream",
     "text": [
      "Sistema: \n",
      "[ 10*x1 +  -1*x2 +   2*x3 +   0*x4] = [  6]\n",
      "[ -1*x1 +  11*x2 +  -1*x3 +   3*x4] = [ 25]\n",
      "[  2*x1 +  -1*x2 +  10*x3 +  -1*x4] = [-11]\n",
      "[  0*x1 +   3*x2 +  -1*x3 +   8*x4] = [ 15]\n",
      "Epoca 1: [ 0.6         2.27272727 -1.1         1.875     ]\n",
      "Epoca 2: [ 1.04727273  1.75657025 -0.94629752  1.09799897]\n",
      "Epoca 3: [ 0.96491653  1.97496565 -0.98568684  1.01117703]\n",
      "Epoca 4: [ 0.99463393  1.99776509 -0.99803257  1.00108402]\n",
      "Epoca 5: [ 0.99938302  1.99982713 -0.99978549  1.00009164]\n",
      "Epoca 6: [ 0.99993981  1.99998904 -0.99997989  1.00000662]\n",
      "Epoca 7: [ 0.99999488  1.99999956 -0.99999836  1.00000037]\n",
      "Solucao: [ 0.99999488  1.99999956 -0.99999836  1.00000037]\n",
      "Erro: [ -4.74478236e-05  -2.94703337e-07   6.25291250e-06   0.00000000e+00]\n"
     ]
    }
   ],
   "source": [
    "vetorx,erroFinal,vertorErros = GAUSSSEIDEL(A,b,epocas)\n"
   ]
  },
  {
   "cell_type": "code",
   "execution_count": 50,
   "metadata": {},
   "outputs": [
    {
     "data": {
      "text/plain": [
       "array([  2.73052133e+00,   3.80427759e-01,   5.17576858e-02,\n",
       "         5.78659245e-03,   5.60531609e-04,   4.78589776e-05,\n",
       "         3.56095470e-06])"
      ]
     },
     "execution_count": 50,
     "metadata": {},
     "output_type": "execute_result"
    }
   ],
   "source": [
    "vertorErros = np.asanyarray(vertorErros)\n",
    "indices = np.asanyarray(np.arange(0,vertorErros.shape[0]))\n",
    "vertorErros"
   ]
  },
  {
   "cell_type": "code",
   "execution_count": 54,
   "metadata": {},
   "outputs": [
    {
     "data": {
      "image/png": "[encoded data removed]",
      "text/plain": [
       "<matplotlib.figure.Figure at 0x105c9c358>"
      ]
     },
     "metadata": {},
     "output_type": "display_data"
    }
   ],
   "source": [
    "fig,ax = plt.subplots()\n",
    "ax.plot(indices,vertorErros,'b--',linewidth=3,label='Converência do Erro')\n",
    "\n",
    "ax.set_ylabel('Norma do Vetor')\n",
    "ax.set_xlabel(' Épocas para a convergência ')\n",
    "ax.set_ylim(-0.05, 3.05);\n",
    "\n",
    "ax.legend(loc='upper right')\n",
    "ax.legend(bbox_to_anchor=(1.60, 1.15))\n",
    "plt.grid(True)\n",
    "plt.show()"
   ]
  },
  {
   "cell_type": "markdown",
   "metadata": {},
   "source": [
    "## GAUSS-SEIDEL com SOR ( successive over relaxation )"
   ]
  },
  {
   "cell_type": "code",
   "execution_count": 134,
   "metadata": {
    "collapsed": true
   },
   "outputs": [],
   "source": [
    "# GAUSS SEIDEL \n",
    "from numpy import linalg as LA\n",
    "\n",
    "def GS_SOR(A,b,w,epocas):\n",
    "    Verro = []\n",
    "    #printar o sistema de equações\n",
    "    print(\"Sistema: \")\n",
    "    for i in range(A.shape[0]):\n",
    "        row = [\"{0:3g}*x{1}\".format(A[i, j], j + 1) for j in range(A.shape[1])]\n",
    "        print(\"[{0}] = [{1:3g}]\".format(\" + \".join(row), b[i]))\n",
    "   \n",
    "    x = np.zeros_like(b) \n",
    "    for k in range(A.shape[0]):\n",
    "        x[k] = b[k]/A[k,k]  #settar a solucao inicial \n",
    "        \n",
    "    \n",
    "    #x = np.zeros_like(b) # teste se eu inicializo o vetor solução com zeros????\n",
    "    x_new = np.zeros_like(x) # Receber a solucao \"melhorada\"\n",
    "    \n",
    "    #laço epocas\n",
    "    \n",
    "    for it_count in range(1, epocas): \n",
    "        print(\"Epoca {0}: {1}\".format(it_count, x))\n",
    "        for i in range(A.shape[0]): # Laco GAUSS SEIDEL\n",
    "            s1 = np.dot(A[i, :i], x_new[:i])\n",
    "            print(\"Soma primeira metade {0}\".format(s1))\n",
    "            s2 = np.dot(A[i, i + 1:], x[i + 1:])\n",
    "            print(\"Soma segunda metade{0}\".format(s2))\n",
    "            x_new[i] = (w*(b[i] - s1 - s2) / A[i, i]) + (1-w)*x[i]\n",
    "        \n",
    "        error = np.dot(A, x_new) - b\n",
    "        NormaVetor = LA.norm(error)   # Tentar com o Erro Quadrático médio ao ínves da norma\n",
    "        Verro.append(NormaVetor) \n",
    "        if np.allclose(x, x_new, rtol=1e-5): \n",
    "            break\n",
    "        x = x_new\n",
    "\n",
    "    print(\"Solucao: {0}\".format(x))\n",
    "    error = np.dot(A, x) - b\n",
    "    print(\"Erro: {0}\".format(error))\n",
    "    return( x,error,Verro )\n"
   ]
  },
  {
   "cell_type": "code",
   "execution_count": 135,
   "metadata": {},
   "outputs": [
    {
     "name": "stdout",
     "output_type": "stream",
     "text": [
      "Sistema: \n"
     ]
    },
    {
     "ename": "TypeError",
     "evalue": "unsupported format string passed to matrix.__format__",
     "output_type": "error",
     "traceback": [
      "\u001b[0;31m---------------------------------------------------------------------------\u001b[0m",
      "\u001b[0;31mTypeError\u001b[0m                                 Traceback (most recent call last)",
      "\u001b[0;32m<ipython-input-135-5ea52b91168b>\u001b[0m in \u001b[0;36m<module>\u001b[0;34m()\u001b[0m\n\u001b[0;32m----> 1\u001b[0;31m \u001b[0mvetorx2\u001b[0m\u001b[0;34m,\u001b[0m\u001b[0merroFinal2\u001b[0m\u001b[0;34m,\u001b[0m\u001b[0mvertorErros2\u001b[0m \u001b[0;34m=\u001b[0m \u001b[0mGS_SOR\u001b[0m\u001b[0;34m(\u001b[0m\u001b[0mA\u001b[0m\u001b[0;34m,\u001b[0m\u001b[0mb\u001b[0m\u001b[0;34m,\u001b[0m\u001b[0;36m1.1\u001b[0m\u001b[0;34m,\u001b[0m\u001b[0mepocas\u001b[0m\u001b[0;34m)\u001b[0m\u001b[0;34m\u001b[0m\u001b[0m\n\u001b[0m",
      "\u001b[0;32m<ipython-input-134-73a6f86e78a4>\u001b[0m in \u001b[0;36mGS_SOR\u001b[0;34m(A, b, w, epocas)\u001b[0m\n\u001b[1;32m      8\u001b[0m     \u001b[0;32mfor\u001b[0m \u001b[0mi\u001b[0m \u001b[0;32min\u001b[0m \u001b[0mrange\u001b[0m\u001b[0;34m(\u001b[0m\u001b[0mA\u001b[0m\u001b[0;34m.\u001b[0m\u001b[0mshape\u001b[0m\u001b[0;34m[\u001b[0m\u001b[0;36m0\u001b[0m\u001b[0;34m]\u001b[0m\u001b[0;34m)\u001b[0m\u001b[0;34m:\u001b[0m\u001b[0;34m\u001b[0m\u001b[0m\n\u001b[1;32m      9\u001b[0m         \u001b[0mrow\u001b[0m \u001b[0;34m=\u001b[0m \u001b[0;34m[\u001b[0m\u001b[0;34m\"{0:3g}*x{1}\"\u001b[0m\u001b[0;34m.\u001b[0m\u001b[0mformat\u001b[0m\u001b[0;34m(\u001b[0m\u001b[0mA\u001b[0m\u001b[0;34m[\u001b[0m\u001b[0mi\u001b[0m\u001b[0;34m,\u001b[0m \u001b[0mj\u001b[0m\u001b[0;34m]\u001b[0m\u001b[0;34m,\u001b[0m \u001b[0mj\u001b[0m \u001b[0;34m+\u001b[0m \u001b[0;36m1\u001b[0m\u001b[0;34m)\u001b[0m \u001b[0;32mfor\u001b[0m \u001b[0mj\u001b[0m \u001b[0;32min\u001b[0m \u001b[0mrange\u001b[0m\u001b[0;34m(\u001b[0m\u001b[0mA\u001b[0m\u001b[0;34m.\u001b[0m\u001b[0mshape\u001b[0m\u001b[0;34m[\u001b[0m\u001b[0;36m1\u001b[0m\u001b[0;34m]\u001b[0m\u001b[0;34m)\u001b[0m\u001b[0;34m]\u001b[0m\u001b[0;34m\u001b[0m\u001b[0m\n\u001b[0;32m---> 10\u001b[0;31m         \u001b[0mprint\u001b[0m\u001b[0;34m(\u001b[0m\u001b[0;34m\"[{0}] = [{1:3g}]\"\u001b[0m\u001b[0;34m.\u001b[0m\u001b[0mformat\u001b[0m\u001b[0;34m(\u001b[0m\u001b[0;34m\" + \"\u001b[0m\u001b[0;34m.\u001b[0m\u001b[0mjoin\u001b[0m\u001b[0;34m(\u001b[0m\u001b[0mrow\u001b[0m\u001b[0;34m)\u001b[0m\u001b[0;34m,\u001b[0m \u001b[0mb\u001b[0m\u001b[0;34m[\u001b[0m\u001b[0mi\u001b[0m\u001b[0;34m]\u001b[0m\u001b[0;34m)\u001b[0m\u001b[0;34m)\u001b[0m\u001b[0;34m\u001b[0m\u001b[0m\n\u001b[0m\u001b[1;32m     11\u001b[0m \u001b[0;34m\u001b[0m\u001b[0m\n\u001b[1;32m     12\u001b[0m     \u001b[0mx\u001b[0m \u001b[0;34m=\u001b[0m \u001b[0mnp\u001b[0m\u001b[0;34m.\u001b[0m\u001b[0mzeros_like\u001b[0m\u001b[0;34m(\u001b[0m\u001b[0mb\u001b[0m\u001b[0;34m)\u001b[0m\u001b[0;34m\u001b[0m\u001b[0m\n",
      "\u001b[0;31mTypeError\u001b[0m: unsupported format string passed to matrix.__format__"
     ]
    }
   ],
   "source": [
    "vetorx2,erroFinal2,vertorErros2 = GS_SOR(A,b,1.1,epocas)\n"
   ]
  },
  {
   "cell_type": "code",
   "execution_count": 84,
   "metadata": {},
   "outputs": [
    {
     "ename": "ValueError",
     "evalue": "all the input arrays must have same number of dimensions",
     "output_type": "error",
     "traceback": [
      "\u001b[0;31m---------------------------------------------------------------------------\u001b[0m",
      "\u001b[0;31mValueError\u001b[0m                                Traceback (most recent call last)",
      "\u001b[0;32m<ipython-input-84-4070c8c54f64>\u001b[0m in \u001b[0;36m<module>\u001b[0;34m()\u001b[0m\n\u001b[1;32m      1\u001b[0m \u001b[0mMT\u001b[0m \u001b[0;34m=\u001b[0m \u001b[0;34m[\u001b[0m\u001b[0;34m]\u001b[0m\u001b[0;34m\u001b[0m\u001b[0m\n\u001b[0;32m----> 2\u001b[0;31m \u001b[0mMT\u001b[0m \u001b[0;34m=\u001b[0m \u001b[0mnp\u001b[0m\u001b[0;34m.\u001b[0m\u001b[0mconcatenate\u001b[0m\u001b[0;34m(\u001b[0m\u001b[0;34m(\u001b[0m\u001b[0mA\u001b[0m\u001b[0;34m,\u001b[0m\u001b[0mb\u001b[0m\u001b[0;34m)\u001b[0m\u001b[0;34m,\u001b[0m\u001b[0maxis\u001b[0m \u001b[0;34m=\u001b[0m \u001b[0;36m1\u001b[0m\u001b[0;34m)\u001b[0m\u001b[0;34m\u001b[0m\u001b[0m\n\u001b[0m",
      "\u001b[0;31mValueError\u001b[0m: all the input arrays must have same number of dimensions"
     ]
    }
   ],
   "source": [
    "MT = []\n",
    "MT = np.concatenate((A,b),axis = 1)\n"
   ]
  },
  {
   "cell_type": "code",
   "execution_count": 87,
   "metadata": {},
   "outputs": [
    {
     "data": {
      "text/plain": [
       "matrix([[ 10.,  -1.,   2.,   0.],\n",
       "        [ -1.,  11.,  -1.,   3.],\n",
       "        [  2.,  -1.,  10.,  -1.],\n",
       "        [  0.,   3.,  -1.,   8.]])"
      ]
     },
     "execution_count": 87,
     "metadata": {},
     "output_type": "execute_result"
    }
   ],
   "source": [
    "A = np.asmatrix(A)\n",
    "A"
   ]
  },
  {
   "cell_type": "code",
   "execution_count": 92,
   "metadata": {},
   "outputs": [
    {
     "data": {
      "text/plain": [
       "matrix([[  6.],\n",
       "        [ 25.],\n",
       "        [-11.],\n",
       "        [ 15.]])"
      ]
     },
     "execution_count": 92,
     "metadata": {},
     "output_type": "execute_result"
    }
   ],
   "source": [
    "b = np.asmatrix(b)\n",
    "b = np.transpose(b)\n",
    "b"
   ]
  },
  {
   "cell_type": "code",
   "execution_count": 94,
   "metadata": {},
   "outputs": [
    {
     "data": {
      "text/plain": [
       "matrix([[ 10.,  -1.,   2.,   0.,   6.],\n",
       "        [ -1.,  11.,  -1.,   3.,  25.],\n",
       "        [  2.,  -1.,  10.,  -1., -11.],\n",
       "        [  0.,   3.,  -1.,   8.,  15.]])"
      ]
     },
     "execution_count": 94,
     "metadata": {},
     "output_type": "execute_result"
    }
   ],
   "source": [
    "m = np.concatenate((A,b),axis=1)\n",
    "m"
   ]
  },
  {
   "cell_type": "code",
   "execution_count": 101,
   "metadata": {},
   "outputs": [
    {
     "data": {
      "text/plain": [
       "array([[ 10.,  -1.,   2.,   0.,   6.],\n",
       "       [ -1.,  11.,  -1.,   3.,  25.],\n",
       "       [  2.,  -1.,  10.,  -1., -11.],\n",
       "       [  0.,   3.,  -1.,   8.,  15.]])"
      ]
     },
     "execution_count": 101,
     "metadata": {},
     "output_type": "execute_result"
    }
   ],
   "source": [
    "m = np.asarray(m)\n",
    "m"
   ]
  },
  {
   "cell_type": "code",
   "execution_count": 128,
   "metadata": {
    "collapsed": true
   },
   "outputs": [],
   "source": [
    "# successive over-relaxation\n",
    "#(m, w=1.25, x0=None, eps=1e-5, max_iteration=100)\n",
    "def sor(m, w ,eps, max_iteration):\n",
    "    n  = m.shape[0]\n",
    "    x0 = np.ones_like(b) \n",
    "    for k in range(A.shape[0]):\n",
    "        x0[k] = m[k,n-1]/A[k,k]  #settar a solucao inicial \n",
    "    x1 = x0[:]\n",
    "\n",
    "    for it_count in range(max_iteration):\n",
    "        print(\"Epoca {0}: Vetor encontrado:\\n {1}\".format(it_count, x1))\n",
    "\n",
    "        for i in range(n):\n",
    "            s = sum(-m[i][j] * x1[j] for j in range(n) if i != j)\n",
    "            x1[i] = w*(m[i][n]+s)/m[i][i] + (1-w)*x0[i]\n",
    "        if all(abs(x1[i]-x0[i]) < eps for i in range(n)):\n",
    "            print(\"Valor encontrado na Época {0}\".format(it_count))\n",
    "            return x1 \n",
    "        x0 = x1[:]\n",
    "        raise ValueError('Solução não converge')\n",
    "\n",
    "   "
   ]
  },
  {
   "cell_type": "code",
   "execution_count": null,
   "metadata": {
    "collapsed": true
   },
   "outputs": [],
   "source": []
  },
  {
   "cell_type": "code",
   "execution_count": 129,
   "metadata": {},
   "outputs": [
    {
     "name": "stdout",
     "output_type": "stream",
     "text": [
      "Epoca 0: Vetor encontrado:\n",
      " [[ 0.        ]\n",
      " [ 0.27272727]\n",
      " [-0.1       ]\n",
      " [ 1.        ]]\n",
      "Valor encontrado na Época 0\n"
     ]
    },
    {
     "data": {
      "text/plain": [
       "matrix([[ 0.80909091],\n",
       "        [ 2.51239669],\n",
       "        [-1.11322314],\n",
       "        [ 0.74212293]])"
      ]
     },
     "execution_count": 129,
     "metadata": {},
     "output_type": "execute_result"
    }
   ],
   "source": [
    "sor(m,1.25,1e-5,100)"
   ]
  },
  {
   "cell_type": "code",
   "execution_count": null,
   "metadata": {
    "collapsed": true
   },
   "outputs": [],
   "source": []
  },
  {
   "cell_type": "code",
   "execution_count": null,
   "metadata": {
    "collapsed": true
   },
   "outputs": [],
   "source": []
  },
  {
   "cell_type": "code",
   "execution_count": null,
   "metadata": {
    "collapsed": true
   },
   "outputs": [],
   "source": []
  },
  {
   "cell_type": "code",
   "execution_count": null,
   "metadata": {
    "collapsed": true
   },
   "outputs": [],
   "source": []
  },
  {
   "cell_type": "code",
   "execution_count": null,
   "metadata": {
    "collapsed": true
   },
   "outputs": [],
   "source": []
  },
  {
   "cell_type": "code",
   "execution_count": null,
   "metadata": {
    "collapsed": true
   },
   "outputs": [],
   "source": [
    "## module gaussSeidel\n",
    "      ’’’ x,numIter,omega = gaussSeidel(iterEqs,x,tol = 1.0e-9)\n",
    "          Gauss-Seidel method for solving [A]{x} = {b}.\n",
    "          The matrix [A] should be sparse. User must supply the\n",
    "          function iterEqs(x,omega) that returns the improved {x},\n",
    "          given the current {x} (’omega’ is the relaxation factor).\n",
    "      ’’’\n",
    "      import numpy as np\n",
    "      import math\n",
    "      def gaussSeidel(iterEqs,x,tol = 1.0e-9):\n",
    "          omega = 1.0\n",
    "k = 10\n",
    "p=1\n",
    "for i in range(1,501):\n",
    "              xOld = x.copy()\n",
    "              x = iterEqs(x,omega)\n",
    "              dx = math.sqrt(np.dot(x-xOld,x-xOld))\n",
    "              if dx < tol: return x,i,omega\n",
    "            # Compute relaxation factor after k+p iterations\n",
    "              if i == k: dx1 = dx\n",
    "              if i == k + p:\n",
    "                  dx2 = dx\n",
    "                  omega = 2.0/(1.0 + math.sqrt(1.0  \\\n",
    "                        - (dx2/dx1)**(1.0/p)))\n",
    "          print(’Gauss-Seidel failed to converge’)"
   ]
  },
  {
   "cell_type": "code",
   "execution_count": null,
   "metadata": {
    "collapsed": true
   },
   "outputs": [],
   "source": []
  },
  {
   "cell_type": "code",
   "execution_count": null,
   "metadata": {
    "collapsed": true
   },
   "outputs": [],
   "source": []
  },
  {
   "cell_type": "code",
   "execution_count": null,
   "metadata": {
    "collapsed": true
   },
   "outputs": [],
   "source": []
  },
  {
   "cell_type": "code",
   "execution_count": null,
   "metadata": {
    "collapsed": true
   },
   "outputs": [],
   "source": []
  },
  {
   "cell_type": "code",
   "execution_count": null,
   "metadata": {
    "collapsed": true
   },
   "outputs": [],
   "source": [
    "import numpy as np\n",
    "\n",
    "ITERATION_LIMIT = 1000 \n",
    "\n",
    "# Passo a Matriz\n",
    "A = np.array([[10., -1., 2., 0.],\n",
    "              [-1., 11., -1., 3.],\n",
    "              [2., -1., 10., -1.],\n",
    "              [0., 3., -1., 8.]])\n",
    "# Vetor Resulta\n",
    "b = np.array([6., 25., -11., 15.])\n",
    "\n",
    "print(\"System of equations:\")\n",
    "for i in range(A.shape[0]):\n",
    "    row = [\"{0:3g}*x{1}\".format(A[i, j], j + 1) for j in range(A.shape[1])]\n",
    "    print(\"[{0}] = [{1:3g}]\".format(\" + \".join(row), b[i]))\n",
    "\n",
    "x = np.zeros_like(b)\n",
    "for it_count in range(1, ITERATION_LIMIT):\n",
    "    x_new = np.zeros_like(x)\n",
    "    print(\"Iteration {0}: {1}\".format(it_count, x))\n",
    "    for i in range(A.shape[0]):\n",
    "        s1 = np.dot(A[i, :i], x_new[:i])\n",
    "        s2 = np.dot(A[i, i + 1:], x[i + 1:])\n",
    "        x_new[i] = (b[i] - s1 - s2) / A[i, i]\n",
    "    if np.allclose(x, x_new, rtol=1e-8):\n",
    "        break\n",
    "    x = x_new\n",
    "\n",
    "print(\"Solution: {0}\".format(x))\n",
    "error = np.dot(A, x) - b\n",
    "print(\"Error: {0}\".format(error))"
   ]
  },
  {
   "cell_type": "code",
   "execution_count": null,
   "metadata": {
    "collapsed": true
   },
   "outputs": [],
   "source": []
  },
  {
   "cell_type": "code",
   "execution_count": null,
   "metadata": {
    "collapsed": true
   },
   "outputs": [],
   "source": []
  },
  {
   "cell_type": "code",
   "execution_count": null,
   "metadata": {
    "collapsed": true
   },
   "outputs": [],
   "source": []
  },
  {
   "cell_type": "code",
   "execution_count": null,
   "metadata": {
    "collapsed": true
   },
   "outputs": [],
   "source": []
  },
  {
   "cell_type": "code",
   "execution_count": null,
   "metadata": {
    "collapsed": true
   },
   "outputs": [],
   "source": []
  },
  {
   "cell_type": "code",
   "execution_count": null,
   "metadata": {
    "collapsed": true
   },
   "outputs": [],
   "source": []
  },
  {
   "cell_type": "code",
   "execution_count": null,
   "metadata": {
    "collapsed": true
   },
   "outputs": [],
   "source": []
  },
  {
   "cell_type": "code",
   "execution_count": null,
   "metadata": {
    "collapsed": true
   },
   "outputs": [],
   "source": []
  },
  {
   "cell_type": "code",
   "execution_count": null,
   "metadata": {
    "collapsed": true
   },
   "outputs": [],
   "source": []
  },
  {
   "cell_type": "code",
   "execution_count": null,
   "metadata": {
    "collapsed": true
   },
   "outputs": [],
   "source": []
  }
 ],
 "metadata": {
  "kernelspec": {
   "display_name": "Python 3",
   "language": "python",
   "name": "python3"
  },
  "language_info": {
   "codemirror_mode": {
    "name": "ipython",
    "version": 3
   },
   "file_extension": ".py",
   "mimetype": "text/x-python",
   "name": "python",
   "nbconvert_exporter": "python",
   "pygments_lexer": "ipython3",
   "version": "3.6.2"
  }
 },
 "nbformat": 4,
 "nbformat_minor": 2
}
