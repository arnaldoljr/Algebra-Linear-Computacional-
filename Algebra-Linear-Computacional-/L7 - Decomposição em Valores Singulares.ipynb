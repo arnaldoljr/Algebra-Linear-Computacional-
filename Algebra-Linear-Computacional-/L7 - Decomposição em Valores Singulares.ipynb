{
 "cells": [
  {
   "cell_type": "markdown",
   "metadata": {},
   "source": [
    "$$\\Large{ \\textit{UNIVERSIDADE FEDERAL DO CEARÁ  } }$$\n",
    "\n",
    "$$ \\large{\\textit{Departamento de Ciências da Computação }} $$\n",
    "\n",
    "\n",
    "$$ \\large{\\textit{Mestrado e Doutorado em Ciências da Computação -  MDCC }} $$\n",
    "\n",
    "<hr/>"
   ]
  },
  {
   "cell_type": "markdown",
   "metadata": {},
   "source": [
    "$$\\Large{{\\textbf{ DISCIPLINA DE ÁLGEBRA LINEAR COMPUTACIONAL}}}$$\n",
    "\n",
    "\n",
    "\n",
    "$$\\large{\\texttt{Docente: Professor Dr. Creto Vidal}}$$\n",
    "\n",
    "$$\\large{\\texttt{Discente: Arnaldo Araújo}}$$\n",
    "<hr/>\n"
   ]
  },
  {
   "cell_type": "markdown",
   "metadata": {},
   "source": [
    "# Decomposição em Valores Singulares"
   ]
  },
  {
   "cell_type": "markdown",
   "metadata": {},
   "source": [
    "**A decomposição em valores singulares de uma matriz $M$ é uma fatoração da forma $M=U \\Sigma V^{*}$ onde:**\n",
    "* $U$ é uma matriz unitária $mxm$. As $m$ colunas de $U$ são os vetores singulares à esquerda de $M$.\n",
    "\n",
    "    * Os vetores singulares à esquerda de $M$ são os autovetores de $MM^{*}$\n",
    "\n",
    "<hr/>\n",
    "\n",
    "* $\\Sigma$ é uma matriz diagonal $mxn$ com números reais não-negativos na diagonal. Tais valores $\\Sigma_{i,i}$ são os chamados valores singulares de M.\n",
    "    * Os valores singulares não-nulos de $M$ (ao longo da diagonal de $\\Sigma$) são as raízes quadradas dos autovalores não-nulos de $ M^{*}M$  ou $ MM^{*}$ \n",
    "\n",
    "<hr/>\n",
    "\n",
    "\n",
    "\n",
    "*  $V^{*}$(conjugada transposta de $V$) é uma matriz unitária $nxn$ As $n$ colunas de $V$ são os vetores singulares à direita de $M$.\n",
    "    * Os vetores singulares à direita de $M$ são os autovetores de $M^{*}M$\n",
    "\n",
    "<hr/>\n"
   ]
  },
  {
   "cell_type": "markdown",
   "metadata": {},
   "source": [
    "$$\\large{\\text{OBS: Matriz Unitária } U \\\\ \n",
    " U^{*}U=UU^{*}=I}\\\\\\text{Sabendo que $U^{*}$ é a conjugada transposta, ou seja, $ U^{-1}=U^{*} $}$$"
   ]
  },
  {
   "cell_type": "code",
   "execution_count": 1,
   "metadata": {},
   "outputs": [],
   "source": [
    "#realizando os imports para todo o projeto\n",
    "import numpy as np\n",
    "from scipy import linalg as LA ## testes\n",
    "from __future__ import print_function \n",
    "from pprint import pprint\n",
    "from math import sqrt\n",
    "from scipy import random, linalg, dot, diag, all, allclose\n",
    "from __future__ import print_function \n",
    "from pprint import pprint\n"
   ]
  },
  {
   "cell_type": "code",
   "execution_count": 3,
   "metadata": {},
   "outputs": [
    {
     "data": {
      "text/plain": [
       "array([[1, 1, 1, 0, 0],\n",
       "       [3, 3, 3, 0, 0],\n",
       "       [4, 4, 4, 0, 0],\n",
       "       [5, 5, 5, 0, 0],\n",
       "       [0, 2, 0, 4, 4],\n",
       "       [0, 0, 0, 5, 5],\n",
       "       [0, 1, 0, 2, 2]])"
      ]
     },
     "execution_count": 3,
     "metadata": {},
     "output_type": "execute_result"
    }
   ],
   "source": [
    "A = np.array([[1, 1, 1, 0, 0],\n",
    "              [3, 3, 3, 0, 0],\n",
    "              [4, 4, 4, 0, 0],\n",
    "              [5, 5, 5, 0, 0],\n",
    "              [0, 2, 0, 4, 4],\n",
    "              [0, 0, 0, 5, 5],\n",
    "              [0, 1, 0, 2, 2]])\n",
    "A"
   ]
  },
  {
   "cell_type": "code",
   "execution_count": 11,
   "metadata": {},
   "outputs": [
    {
     "data": {
      "text/plain": [
       "array([[51, 51, 51,  0,  0],\n",
       "       [51, 56, 51, 10, 10],\n",
       "       [51, 51, 51,  0,  0],\n",
       "       [ 0, 10,  0, 45, 45],\n",
       "       [ 0, 10,  0, 45, 45]])"
      ]
     },
     "execution_count": 11,
     "metadata": {},
     "output_type": "execute_result"
    }
   ],
   "source": [
    "Mata = np.dot(A.T,A)\n",
    "Mata"
   ]
  },
  {
   "cell_type": "code",
   "execution_count": 12,
   "metadata": {},
   "outputs": [
    {
     "name": "stdout",
     "output_type": "stream",
     "text": [
      "7 5\n"
     ]
    }
   ],
   "source": [
    "l,c = A.shape\n",
    "print(l,c)"
   ]
  },
  {
   "cell_type": "code",
   "execution_count": 16,
   "metadata": {},
   "outputs": [
    {
     "name": "stdout",
     "output_type": "stream",
     "text": [
      "[[51 51 51  0  0]\n",
      " [51 56 51 10 10]\n",
      " [51 51 51  0  0]\n",
      " [ 0 10  0 45 45]\n",
      " [ 0 10  0 45 45]]\n"
     ]
    }
   ],
   "source": [
    "if l > c:\n",
    "    B = np.dot(A.T, A)\n",
    "else:\n",
    "    B = np.dot(A, A.T)\n",
    "print(B)"
   ]
  },
  {
   "cell_type": "code",
   "execution_count": 18,
   "metadata": {},
   "outputs": [],
   "source": [
    "e,v = np.linalg.eig(B)"
   ]
  },
  {
   "cell_type": "code",
   "execution_count": 23,
   "metadata": {},
   "outputs": [
    {
     "data": {
      "text/plain": [
       "array([  87.58621229,   19.72765342, -110.15007346,  -63.8162502 ,\n",
       "         -6.0155036 ])"
      ]
     },
     "execution_count": 23,
     "metadata": {},
     "output_type": "execute_result"
    }
   ],
   "source": [
    "np.dot(e[0],v[0])"
   ]
  },
  {
   "cell_type": "code",
   "execution_count": 24,
   "metadata": {},
   "outputs": [
    {
     "data": {
      "text/plain": [
       "(5, 5)"
      ]
     },
     "execution_count": 24,
     "metadata": {},
     "output_type": "execute_result"
    }
   ],
   "source": [
    "B.shape"
   ]
  },
  {
   "cell_type": "code",
   "execution_count": 25,
   "metadata": {},
   "outputs": [
    {
     "data": {
      "text/plain": [
       "array([[ 0.,  0.,  0.,  0.,  0.,  0.,  0.],\n",
       "       [ 0.,  0.,  0.,  0.,  0.,  0.,  0.],\n",
       "       [ 0.,  0.,  0.,  0.,  0.,  0.,  0.],\n",
       "       [ 0.,  0.,  0.,  0.,  0.,  0.,  0.],\n",
       "       [ 0.,  0.,  0.,  0.,  0.,  0.,  0.],\n",
       "       [ 0.,  0.,  0.,  0.,  0.,  0.,  0.],\n",
       "       [ 0.,  0.,  0.,  0.,  0.,  0.,  0.]])"
      ]
     },
     "execution_count": 25,
     "metadata": {},
     "output_type": "execute_result"
    }
   ],
   "source": [
    "U = np.zeros((l,l))\n",
    "U"
   ]
  },
  {
   "cell_type": "code",
   "execution_count": 28,
   "metadata": {},
   "outputs": [
    {
     "data": {
      "text/plain": [
       "array([[ 0.,  0.,  0.,  0.,  0.],\n",
       "       [ 0.,  0.,  0.,  0.,  0.],\n",
       "       [ 0.,  0.,  0.,  0.,  0.],\n",
       "       [ 0.,  0.,  0.,  0.,  0.],\n",
       "       [ 0.,  0.,  0.,  0.,  0.]])"
      ]
     },
     "execution_count": 28,
     "metadata": {},
     "output_type": "execute_result"
    }
   ],
   "source": [
    "V = np.zeros((c,c))\n",
    "V"
   ]
  },
  {
   "cell_type": "code",
   "execution_count": 29,
   "metadata": {},
   "outputs": [
    {
     "data": {
      "text/plain": [
       "array([51, 51, 51,  0,  0])"
      ]
     },
     "execution_count": 29,
     "metadata": {},
     "output_type": "execute_result"
    }
   ],
   "source": [
    "B[:,0]"
   ]
  },
  {
   "cell_type": "code",
   "execution_count": 30,
   "metadata": {},
   "outputs": [
    {
     "data": {
      "text/plain": [
       "array([ 0.56225841,  0.12664138, -0.70710678, -0.40966748, -0.03861644])"
      ]
     },
     "execution_count": 30,
     "metadata": {},
     "output_type": "execute_result"
    }
   ],
   "source": [
    "v[0]"
   ]
  },
  {
   "cell_type": "code",
   "execution_count": 31,
   "metadata": {},
   "outputs": [
    {
     "data": {
      "text/plain": [
       "155.77572778136977"
      ]
     },
     "execution_count": 31,
     "metadata": {},
     "output_type": "execute_result"
    }
   ],
   "source": [
    "e[0]"
   ]
  },
  {
   "cell_type": "code",
   "execution_count": 32,
   "metadata": {},
   "outputs": [
    {
     "data": {
      "text/plain": [
       "array([  87.58621229,   19.72765342, -110.15007346,  -63.8162502 ,\n",
       "         -6.0155036 ])"
      ]
     },
     "execution_count": 32,
     "metadata": {},
     "output_type": "execute_result"
    }
   ],
   "source": [
    "e[0]*v[0]"
   ]
  },
  {
   "cell_type": "code",
   "execution_count": 33,
   "metadata": {},
   "outputs": [
    {
     "name": "stderr",
     "output_type": "stream",
     "text": [
      "/usr/local/lib/python3.5/dist-packages/ipykernel_launcher.py:1: RuntimeWarning: divide by zero encountered in true_divide\n",
      "  \"\"\"Entry point for launching an IPython kernel.\n"
     ]
    },
    {
     "data": {
      "text/plain": [
       "array([ 1.71737671,  0.38681673, -2.15980536,        -inf,        -inf])"
      ]
     },
     "execution_count": 33,
     "metadata": {},
     "output_type": "execute_result"
    }
   ],
   "source": [
    "e[0]*v[0]/B[:,0]"
   ]
  },
  {
   "cell_type": "code",
   "execution_count": 36,
   "metadata": {},
   "outputs": [
    {
     "name": "stderr",
     "output_type": "stream",
     "text": [
      "/usr/local/lib/python3.5/dist-packages/ipykernel_launcher.py:1: RuntimeWarning: divide by zero encountered in true_divide\n",
      "  \"\"\"Entry point for launching an IPython kernel.\n"
     ]
    },
    {
     "data": {
      "text/plain": [
       "array([ 1.71737671,  0.38681673, -2.15980536,        -inf,        -inf])"
      ]
     },
     "execution_count": 36,
     "metadata": {},
     "output_type": "execute_result"
    }
   ],
   "source": [
    "V[0]=(e[0]*v[0])*(1/B[:,0])\n",
    "V[0]"
   ]
  },
  {
   "cell_type": "code",
   "execution_count": null,
   "metadata": {},
   "outputs": [],
   "source": []
  },
  {
   "cell_type": "code",
   "execution_count": null,
   "metadata": {},
   "outputs": [],
   "source": []
  },
  {
   "cell_type": "code",
   "execution_count": 5,
   "metadata": {},
   "outputs": [
    {
     "name": "stdout",
     "output_type": "stream",
     "text": [
      "--- FULL ---\n",
      "U:\n",
      " [[ -1.37599126e-01  -2.36114514e-02  -1.08084718e-02   5.60112034e-01\n",
      "   -3.75734575e-01  -7.00140042e-01  -1.87867287e-01]\n",
      " [ -4.12797378e-01  -7.08343543e-02  -3.24254153e-02   2.06393278e-01\n",
      "    7.55974371e-01  -2.57991597e-01   3.77987186e-01]\n",
      " [ -5.50396503e-01  -9.44458057e-02  -4.32338870e-02  -7.24808963e-01\n",
      "   -1.84603760e-01  -3.43988797e-01  -9.23018799e-02]\n",
      " [ -6.87995629e-01  -1.18057257e-01  -5.40423588e-02   3.43988797e-01\n",
      "   -2.30754700e-01   5.70014004e-01  -1.15377350e-01]\n",
      " [ -1.52775087e-01   5.91100963e-01   6.53650843e-01   2.58497890e-16\n",
      "    2.00000000e-01   0.00000000e+00  -4.00000000e-01]\n",
      " [ -7.22165140e-02   7.31311857e-01  -6.78209218e-01   0.00000000e+00\n",
      "    0.00000000e+00   0.00000000e+00   0.00000000e+00]\n",
      " [ -7.63875433e-02   2.95550482e-01   3.26825421e-01   1.29248945e-16\n",
      "   -4.00000000e-01   0.00000000e+00   8.00000000e-01]]\n",
      "s:\n",
      " [  1.24810147e+01   9.50861406e+00   1.34555971e+00   3.04642685e-16\n",
      "   0.00000000e+00]\n",
      "VT:\n",
      " [[ -5.62258405e-01  -5.92859901e-01  -5.62258405e-01  -9.01335372e-02\n",
      "   -9.01335372e-02]\n",
      " [ -1.26641382e-01   2.87705846e-02  -1.26641382e-01   6.95376220e-01\n",
      "    6.95376220e-01]\n",
      " [ -4.09667482e-01   8.04791520e-01  -4.09667482e-01  -9.12571001e-02\n",
      "   -9.12571001e-02]\n",
      " [ -7.07106781e-01   1.11022302e-16   7.07106781e-01   5.55111512e-17\n",
      "    0.00000000e+00]\n",
      " [  0.00000000e+00  -4.87723954e-17   4.87723954e-17  -7.07106781e-01\n",
      "    7.07106781e-01]]\n"
     ]
    }
   ],
   "source": [
    "print(\"--- FULL ---\")\n",
    "Uteste, steste, VTteste = np.linalg.svd(A, full_matrices=True)\n",
    "\n",
    "print(\"U:\\n {}\".format(U))\n",
    "print( \"s:\\n {}\".format(s))\n",
    "print (\"VT:\\n {}\".format(VT))"
   ]
  },
  {
   "cell_type": "code",
   "execution_count": 6,
   "metadata": {},
   "outputs": [
    {
     "name": "stdout",
     "output_type": "stream",
     "text": [
      "[[ -1.37599126e-01  -2.36114514e-02  -1.08084718e-02   5.60112034e-01\n",
      "   -3.75734575e-01  -7.00140042e-01  -1.87867287e-01]\n",
      " [ -4.12797378e-01  -7.08343543e-02  -3.24254153e-02   2.06393278e-01\n",
      "    7.55974371e-01  -2.57991597e-01   3.77987186e-01]\n",
      " [ -5.50396503e-01  -9.44458057e-02  -4.32338870e-02  -7.24808963e-01\n",
      "   -1.84603760e-01  -3.43988797e-01  -9.23018799e-02]\n",
      " [ -6.87995629e-01  -1.18057257e-01  -5.40423588e-02   3.43988797e-01\n",
      "   -2.30754700e-01   5.70014004e-01  -1.15377350e-01]\n",
      " [ -1.52775087e-01   5.91100963e-01   6.53650843e-01   2.58497890e-16\n",
      "    2.00000000e-01   0.00000000e+00  -4.00000000e-01]\n",
      " [ -7.22165140e-02   7.31311857e-01  -6.78209218e-01   0.00000000e+00\n",
      "    0.00000000e+00   0.00000000e+00   0.00000000e+00]\n",
      " [ -7.63875433e-02   2.95550482e-01   3.26825421e-01   1.29248945e-16\n",
      "   -4.00000000e-01   0.00000000e+00   8.00000000e-01]]\n"
     ]
    }
   ],
   "source": [
    "print(U)"
   ]
  },
  {
   "cell_type": "code",
   "execution_count": 7,
   "metadata": {},
   "outputs": [
    {
     "name": "stdout",
     "output_type": "stream",
     "text": [
      "--- REDUCED ---\n",
      "U:\n",
      " [[ -1.37599126e-01  -2.36114514e-02  -1.08084718e-02   5.60112034e-01\n",
      "   -3.75734575e-01]\n",
      " [ -4.12797378e-01  -7.08343543e-02  -3.24254153e-02   2.06393278e-01\n",
      "    7.55974371e-01]\n",
      " [ -5.50396503e-01  -9.44458057e-02  -4.32338870e-02  -7.24808963e-01\n",
      "   -1.84603760e-01]\n",
      " [ -6.87995629e-01  -1.18057257e-01  -5.40423588e-02   3.43988797e-01\n",
      "   -2.30754700e-01]\n",
      " [ -1.52775087e-01   5.91100963e-01   6.53650843e-01   2.58497890e-16\n",
      "    2.00000000e-01]\n",
      " [ -7.22165140e-02   7.31311857e-01  -6.78209218e-01   0.00000000e+00\n",
      "    0.00000000e+00]\n",
      " [ -7.63875433e-02   2.95550482e-01   3.26825421e-01   1.29248945e-16\n",
      "   -4.00000000e-01]]\n",
      "s:\n",
      " [  1.24810147e+01   9.50861406e+00   1.34555971e+00   3.04642685e-16\n",
      "   0.00000000e+00]\n",
      "VT:\n",
      " [[ -5.62258405e-01  -5.92859901e-01  -5.62258405e-01  -9.01335372e-02\n",
      "   -9.01335372e-02]\n",
      " [ -1.26641382e-01   2.87705846e-02  -1.26641382e-01   6.95376220e-01\n",
      "    6.95376220e-01]\n",
      " [ -4.09667482e-01   8.04791520e-01  -4.09667482e-01  -9.12571001e-02\n",
      "   -9.12571001e-02]\n",
      " [ -7.07106781e-01   1.11022302e-16   7.07106781e-01   5.55111512e-17\n",
      "    0.00000000e+00]\n",
      " [  0.00000000e+00  -4.87723954e-17   4.87723954e-17  -7.07106781e-01\n",
      "    7.07106781e-01]]\n"
     ]
    }
   ],
   "source": [
    "print( \"--- REDUCED ---\")\n",
    "\n",
    "Uteste, steste, VTteste = np.linalg.svd(A, full_matrices=False)\n",
    "\n",
    "print( \"U:\\n {}\".format(U))\n",
    "print( \"s:\\n {}\".format(s))\n",
    "print( \"VT:\\n {}\".format(VT))"
   ]
  },
  {
   "cell_type": "code",
   "execution_count": 8,
   "metadata": {},
   "outputs": [],
   "source": [
    "%psource np.linalg.svd\n"
   ]
  },
  {
   "cell_type": "code",
   "execution_count": 10,
   "metadata": {},
   "outputs": [
    {
     "name": "stdout",
     "output_type": "stream",
     "text": [
      "No source found for np.linalg._umath_linalg.svd_m_f\n"
     ]
    }
   ],
   "source": [
    "%psource np.linalg._umath_linalg.svd_m_f"
   ]
  },
  {
   "cell_type": "code",
   "execution_count": null,
   "metadata": {},
   "outputs": [],
   "source": []
  },
  {
   "cell_type": "code",
   "execution_count": null,
   "metadata": {},
   "outputs": [],
   "source": []
  },
  {
   "cell_type": "code",
   "execution_count": null,
   "metadata": {},
   "outputs": [],
   "source": []
  }
 ],
 "metadata": {
  "kernelspec": {
   "display_name": "Python 3",
   "language": "python",
   "name": "python3"
  },
  "language_info": {
   "codemirror_mode": {
    "name": "ipython",
    "version": 3
   },
   "file_extension": ".py",
   "mimetype": "text/x-python",
   "name": "python",
   "nbconvert_exporter": "python",
   "pygments_lexer": "ipython3",
   "version": "3.5.2"
  }
 },
 "nbformat": 4,
 "nbformat_minor": 2
}
