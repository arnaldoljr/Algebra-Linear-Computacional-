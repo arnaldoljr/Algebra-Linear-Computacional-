{
 "cells": [
  {
   "cell_type": "markdown",
   "metadata": {},
   "source": [
    "$$\\Large{ \\textit{UNIVERSIDADE FEDERAL DO CEARÁ  } }$$\n",
    "\n",
    "$$ \\large{\\textit{Departamento de Ciências da Computação }} $$\n",
    "\n",
    "\n",
    "$$ \\large{\\textit{Mestrado e Doutorado em Ciências da Computação -  MDCC }} $$\n",
    "\n",
    "<hr/>"
   ]
  },
  {
   "cell_type": "markdown",
   "metadata": {},
   "source": [
    "\n",
    "$$\\Large{{\\textbf{ DISCIPLINA DE ÁLGEBRA LINEAR COMPUTACIONAL}}}$$\n",
    "\n",
    "$$\\large{\\texttt{Docente: Professor Creto Vidal}}$$\n",
    "\n",
    "$$\\large{\\texttt{Discente: Arnaldo Araújo}}$$\n",
    "<hr/>\n"
   ]
  },
  {
   "cell_type": "markdown",
   "metadata": {},
   "source": [
    "# Decomposição LU"
   ]
  },
  {
   "cell_type": "markdown",
   "metadata": {},
   "source": [
    "* Método visto na sala de aula.\n",
    "* \n",
    "** 1- Fazer criando as duas matrizes.**\n",
    "* \n",
    "** 2 - Fazer as modificações na própria matriz.**"
   ]
  },
  {
   "cell_type": "code",
   "execution_count": 1,
   "metadata": {
    "collapsed": true
   },
   "outputs": [],
   "source": [
    "#realizando os imports para todo o projeto\n",
    "import numpy as np\n",
    "from scipy import linalg ## testes\n",
    "from __future__ import division\n",
    "\n",
    "\n"
   ]
  },
  {
   "cell_type": "code",
   "execution_count": 3,
   "metadata": {},
   "outputs": [
    {
     "data": {
      "text/plain": [
       "'\\n#função para criar uma matriz NxN\\ndef CriarMatriz(n):\\n    Matriz = np.mat(np.random.rand(n,n))\\n    return Matriz*100\\n'"
      ]
     },
     "execution_count": 3,
     "metadata": {},
     "output_type": "execute_result"
    }
   ],
   "source": [
    "'''\n",
    "#função para criar uma matriz NxN\n",
    "def CriarMatriz(n):\n",
    "    Matriz = np.mat(np.random.rand(n,n))\n",
    "    return Matriz*100\n",
    "'''\n"
   ]
  },
  {
   "cell_type": "code",
   "execution_count": 4,
   "metadata": {},
   "outputs": [
    {
     "data": {
      "text/plain": [
       "'\\nM = []\\n#b = numpy.append(a,numpy.zeros([len(a),1]),1)\\nM = CriarMatriz(3)\\n'"
      ]
     },
     "execution_count": 4,
     "metadata": {},
     "output_type": "execute_result"
    }
   ],
   "source": [
    "'''\n",
    "M = []\n",
    "#b = numpy.append(a,numpy.zeros([len(a),1]),1)\n",
    "M = CriarMatriz(3)\n",
    "'''"
   ]
  },
  {
   "cell_type": "code",
   "execution_count": 5,
   "metadata": {},
   "outputs": [
    {
     "data": {
      "text/plain": [
       "'\\nM = M.round(2)\\nM\\n'"
      ]
     },
     "execution_count": 5,
     "metadata": {},
     "output_type": "execute_result"
    }
   ],
   "source": [
    "'''\n",
    "M = M.round(2)\n",
    "M\n",
    "'''"
   ]
  },
  {
   "cell_type": "code",
   "execution_count": 2,
   "metadata": {
    "collapsed": true
   },
   "outputs": [],
   "source": [
    "A = np.mat([[20.,  10.0,  0.0,0.0,0.0,0.0       ],\n",
    "        [ 10.0,  20.0,  10.0,0.0,0.0,0.0        ],\n",
    "            [ 0.0,10.0,  20.0,  10.0,0.0,0.0        ],\n",
    "            [ 0.0,  0,  10.0,20.0,10.0,0.0        ],\n",
    "            [ 0.0,0.0,0.0, 10.0,  20.0,  10.0        ],\n",
    "       [0.0,0.0,0.0,0.0,10.0,20.0]],dtype='f')\n"
   ]
  },
  {
   "cell_type": "code",
   "execution_count": 3,
   "metadata": {},
   "outputs": [
    {
     "data": {
      "text/plain": [
       "matrix([[ 20.,  10.,   0.,   0.,   0.,   0.],\n",
       "        [ 10.,  20.,  10.,   0.,   0.,   0.],\n",
       "        [  0.,  10.,  20.,  10.,   0.,   0.],\n",
       "        [  0.,   0.,  10.,  20.,  10.,   0.],\n",
       "        [  0.,   0.,   0.,  10.,  20.,  10.],\n",
       "        [  0.,   0.,   0.,   0.,  10.,  20.]], dtype=float32)"
      ]
     },
     "execution_count": 3,
     "metadata": {},
     "output_type": "execute_result"
    }
   ],
   "source": [
    "A"
   ]
  },
  {
   "cell_type": "code",
   "execution_count": 4,
   "metadata": {},
   "outputs": [
    {
     "data": {
      "text/plain": [
       "array([[ 20.,  10.,   0.,   0.,   0.,   0.],\n",
       "       [ 10.,  20.,  10.,   0.,   0.,   0.],\n",
       "       [  0.,  10.,  20.,  10.,   0.,   0.],\n",
       "       [  0.,   0.,  10.,  20.,  10.,   0.],\n",
       "       [  0.,   0.,   0.,  10.,  20.,  10.],\n",
       "       [  0.,   0.,   0.,   0.,  10.,  20.]], dtype=float32)"
      ]
     },
     "execution_count": 4,
     "metadata": {},
     "output_type": "execute_result"
    }
   ],
   "source": [
    "Ateste = np.copy(A)\n",
    "Ateste"
   ]
  },
  {
   "cell_type": "code",
   "execution_count": 5,
   "metadata": {},
   "outputs": [
    {
     "data": {
      "text/plain": [
       "array([[-10.],\n",
       "       [ 10.],\n",
       "       [ 20.],\n",
       "       [ 20.],\n",
       "       [ 10.],\n",
       "       [-10.]])"
      ]
     },
     "execution_count": 5,
     "metadata": {},
     "output_type": "execute_result"
    }
   ],
   "source": [
    "b = np.ones((6,1),dtype = float)\n",
    "b[0,0] = -10. \n",
    "b[1,0] = 10. \n",
    "b[2,0]= 20.\n",
    "b[3,0] = 20.\n",
    "b[4,0] = 10.\n",
    "b[5,0] = -10.\n",
    "b"
   ]
  },
  {
   "cell_type": "code",
   "execution_count": 6,
   "metadata": {},
   "outputs": [
    {
     "data": {
      "text/plain": [
       "array([[-10.],\n",
       "       [ 10.],\n",
       "       [ 20.],\n",
       "       [ 20.],\n",
       "       [ 10.],\n",
       "       [-10.]])"
      ]
     },
     "execution_count": 6,
     "metadata": {},
     "output_type": "execute_result"
    }
   ],
   "source": [
    "B = np.copy(b)\n",
    "B"
   ]
  },
  {
   "cell_type": "code",
   "execution_count": 18,
   "metadata": {
    "collapsed": true
   },
   "outputs": [],
   "source": [
    "L = []\n",
    "U = []"
   ]
  },
  {
   "cell_type": "code",
   "execution_count": 19,
   "metadata": {},
   "outputs": [
    {
     "name": "stdout",
     "output_type": "stream",
     "text": [
      "[[ 1.          0.          0.          0.          0.          0.        ]\n",
      " [ 0.5         1.          0.          0.          0.          0.        ]\n",
      " [ 0.          0.66666669  1.          0.          0.          0.        ]\n",
      " [ 0.          0.          0.75        1.          0.          0.        ]\n",
      " [ 0.          0.          0.          0.79999995  1.          0.        ]\n",
      " [ 0.          0.          0.          0.          0.83333337  1.        ]]\n"
     ]
    }
   ],
   "source": [
    "L1 = []\n",
    "U1 = []\n",
    "k,l,u = linalg.lu(A)\n",
    "print(l)"
   ]
  },
  {
   "cell_type": "code",
   "execution_count": 20,
   "metadata": {},
   "outputs": [
    {
     "data": {
      "text/plain": [
       "array([[ 20.        ,  10.        ,   0.        ,   0.        ,\n",
       "          0.        ,   0.        ],\n",
       "       [  0.        ,  15.        ,  10.        ,   0.        ,\n",
       "          0.        ,   0.        ],\n",
       "       [  0.        ,   0.        ,  13.33333302,  10.        ,\n",
       "          0.        ,   0.        ],\n",
       "       [  0.        ,   0.        ,   0.        ,  12.5       ,\n",
       "         10.        ,   0.        ],\n",
       "       [  0.        ,   0.        ,   0.        ,   0.        ,\n",
       "         12.        ,  10.        ],\n",
       "       [  0.        ,   0.        ,   0.        ,   0.        ,\n",
       "          0.        ,  11.66666603]], dtype=float32)"
      ]
     },
     "execution_count": 20,
     "metadata": {},
     "output_type": "execute_result"
    }
   ],
   "source": [
    "u"
   ]
  },
  {
   "cell_type": "code",
   "execution_count": 21,
   "metadata": {},
   "outputs": [
    {
     "data": {
      "text/plain": [
       "(array([[ 20.        ,  10.        ,   0.        ,   0.        ,\n",
       "           0.        ,   0.        ],\n",
       "        [  0.5       ,  15.        ,  10.        ,   0.        ,\n",
       "           0.        ,   0.        ],\n",
       "        [  0.        ,   0.66666669,  13.33333302,  10.        ,\n",
       "           0.        ,   0.        ],\n",
       "        [  0.        ,   0.        ,   0.75      ,  12.5       ,\n",
       "          10.        ,   0.        ],\n",
       "        [  0.        ,   0.        ,   0.        ,   0.79999995,\n",
       "          12.        ,  10.        ],\n",
       "        [  0.        ,   0.        ,   0.        ,   0.        ,\n",
       "           0.83333337,  11.66666603]], dtype=float32),\n",
       " array([0, 1, 2, 3, 4, 5], dtype=int32))"
      ]
     },
     "execution_count": 21,
     "metadata": {},
     "output_type": "execute_result"
    }
   ],
   "source": [
    "fator = linalg.lu_factor(A)\n",
    "fator"
   ]
  },
  {
   "cell_type": "code",
   "execution_count": 22,
   "metadata": {},
   "outputs": [
    {
     "data": {
      "text/plain": [
       "array([[-0.85714285],\n",
       "       [ 0.71428569],\n",
       "       [ 0.42857146],\n",
       "       [ 0.42857137],\n",
       "       [ 0.71428581],\n",
       "       [-0.85714293]])"
      ]
     },
     "execution_count": 22,
     "metadata": {},
     "output_type": "execute_result"
    }
   ],
   "source": [
    "sol = linalg.lu_solve(fator,b)\n",
    "sol"
   ]
  },
  {
   "cell_type": "markdown",
   "metadata": {},
   "source": [
    "## Função LU "
   ]
  },
  {
   "cell_type": "code",
   "execution_count": 46,
   "metadata": {
    "collapsed": true
   },
   "outputs": [],
   "source": [
    "def lu(A):\n",
    "    n = len(A)\n",
    "    L = [[0.0] * n for i in range(n)]\n",
    "    U = [[0.0] * n for i in range(n)]\n",
    "    for j in range(n):\n",
    "        L[j][j] = 1.0\n",
    "        for i in range(j+1):\n",
    "            s1 = sum(U[k][j] * L[i][k] for k in range(i))\n",
    "            U[i][j] = A[i][j] - s1\n",
    "        for i in range(j, n):\n",
    "            s2 = sum(U[k][j] * L[i][k] for k in range(j))\n",
    "            L[i][j] = (A[i][j] - s2) / U[j][j]\n",
    "    return (np.asanyarray(L), np.asanyarray(U))"
   ]
  },
  {
   "cell_type": "code",
   "execution_count": 47,
   "metadata": {},
   "outputs": [
    {
     "data": {
      "text/plain": [
       "array([[ 20.,  10.,   0.,   0.,   0.,   0.],\n",
       "       [ 10.,  20.,  10.,   0.,   0.,   0.],\n",
       "       [  0.,  10.,  20.,  10.,   0.,   0.],\n",
       "       [  0.,   0.,  10.,  20.,  10.,   0.],\n",
       "       [  0.,   0.,   0.,  10.,  20.,  10.],\n",
       "       [  0.,   0.,   0.,   0.,  10.,  20.]], dtype=float32)"
      ]
     },
     "execution_count": 47,
     "metadata": {},
     "output_type": "execute_result"
    }
   ],
   "source": [
    "Ateste"
   ]
  },
  {
   "cell_type": "code",
   "execution_count": 48,
   "metadata": {
    "collapsed": true
   },
   "outputs": [],
   "source": [
    "%%time\n",
    "L = []\n",
    "U = []\n",
    "L,U = lu(Ateste)\n"
   ]
  },
  {
   "cell_type": "code",
   "execution_count": 49,
   "metadata": {},
   "outputs": [
    {
     "data": {
      "text/plain": [
       "array([[ 1.        ,  0.        ,  0.        ,  0.        ,  0.        ,\n",
       "         0.        ],\n",
       "       [ 0.5       ,  1.        ,  0.        ,  0.        ,  0.        ,\n",
       "         0.        ],\n",
       "       [ 0.        ,  0.66666667,  1.        ,  0.        ,  0.        ,\n",
       "         0.        ],\n",
       "       [ 0.        ,  0.        ,  0.75      ,  1.        ,  0.        ,\n",
       "         0.        ],\n",
       "       [ 0.        ,  0.        ,  0.        ,  0.8       ,  1.        ,\n",
       "         0.        ],\n",
       "       [ 0.        ,  0.        ,  0.        ,  0.        ,  0.83333333,\n",
       "         1.        ]])"
      ]
     },
     "execution_count": 49,
     "metadata": {},
     "output_type": "execute_result"
    }
   ],
   "source": [
    "L"
   ]
  },
  {
   "cell_type": "code",
   "execution_count": 50,
   "metadata": {},
   "outputs": [
    {
     "data": {
      "text/plain": [
       "array([[ 20.        ,  10.        ,   0.        ,   0.        ,\n",
       "          0.        ,   0.        ],\n",
       "       [  0.        ,  15.        ,  10.        ,   0.        ,\n",
       "          0.        ,   0.        ],\n",
       "       [  0.        ,   0.        ,  13.33333333,  10.        ,\n",
       "          0.        ,   0.        ],\n",
       "       [  0.        ,   0.        ,   0.        ,  12.5       ,\n",
       "         10.        ,   0.        ],\n",
       "       [  0.        ,   0.        ,   0.        ,   0.        ,\n",
       "         12.        ,  10.        ],\n",
       "       [  0.        ,   0.        ,   0.        ,   0.        ,\n",
       "          0.        ,  11.66666667]])"
      ]
     },
     "execution_count": 50,
     "metadata": {},
     "output_type": "execute_result"
    }
   ],
   "source": [
    "U"
   ]
  },
  {
   "cell_type": "code",
   "execution_count": 51,
   "metadata": {},
   "outputs": [
    {
     "data": {
      "text/plain": [
       "array([[ 20.,  10.,   0.,   0.,   0.,   0.],\n",
       "       [ 10.,  20.,  10.,   0.,   0.,   0.],\n",
       "       [  0.,  10.,  20.,  10.,   0.,   0.],\n",
       "       [  0.,   0.,  10.,  20.,  10.,   0.],\n",
       "       [  0.,   0.,   0.,  10.,  20.,  10.],\n",
       "       [  0.,   0.,   0.,   0.,  10.,  20.]])"
      ]
     },
     "execution_count": 51,
     "metadata": {},
     "output_type": "execute_result"
    }
   ],
   "source": [
    "VOLTA = np.dot(L,U)\n",
    "VOLTA"
   ]
  },
  {
   "cell_type": "markdown",
   "metadata": {},
   "source": [
    "### Resolver um sistema de equações \n",
    "$$\\Large{Ax = b}$$\n",
    "<hr/>\n",
    "$$\\Large{LUx = b}$$\n",
    "<hr/>\n",
    "$$\\large{\\text{Primeiramente é encontrar y tal que:}}$$\n",
    "<hr/>\n",
    "$$ \\Large{Ly = b} $$\n",
    "<hr/>\n",
    "\n",
    "$$\\large{\\text{Depois encontrar x tal que:}}$$\n",
    "<hr/>\n",
    "$$ \\Large{Ux = y} $$"
   ]
  },
  {
   "cell_type": "markdown",
   "metadata": {},
   "source": [
    "## I) Ly=b "
   ]
  },
  {
   "cell_type": "code",
   "execution_count": 82,
   "metadata": {
    "collapsed": true
   },
   "outputs": [],
   "source": [
    "# Função de substituição retroativa \n",
    "\n",
    "def SubsRetrL(Mat,B):\n",
    "    y = np.zeros((6,1))#criar o vetor y\n",
    "    tamLi = Mat.shape[0]\n",
    "    for i in range(0,tamLi):\n",
    "        soma = 0\n",
    "        for k in range(0,i):\n",
    "            soma =  soma + Mat[i,k]*y[k]\n",
    "        y[i] = (B[i] - soma)\n",
    "        print(y)\n",
    "        \n",
    "    return y\n"
   ]
  },
  {
   "cell_type": "code",
   "execution_count": 83,
   "metadata": {},
   "outputs": [
    {
     "data": {
      "text/plain": [
       "array([[-10.],\n",
       "       [ 10.],\n",
       "       [ 20.],\n",
       "       [ 20.],\n",
       "       [ 10.],\n",
       "       [-10.]])"
      ]
     },
     "execution_count": 83,
     "metadata": {},
     "output_type": "execute_result"
    }
   ],
   "source": [
    "B"
   ]
  },
  {
   "cell_type": "code",
   "execution_count": 84,
   "metadata": {},
   "outputs": [
    {
     "name": "stdout",
     "output_type": "stream",
     "text": [
      "[[-10.]\n",
      " [  0.]\n",
      " [  0.]\n",
      " [  0.]\n",
      " [  0.]\n",
      " [  0.]]\n",
      "[-5.]\n",
      "[[-10.]\n",
      " [ 15.]\n",
      " [  0.]\n",
      " [  0.]\n",
      " [  0.]\n",
      " [  0.]]\n",
      "[ 0.]\n",
      "[ 10.]\n",
      "[[-10.]\n",
      " [ 15.]\n",
      " [ 10.]\n",
      " [  0.]\n",
      " [  0.]\n",
      " [  0.]]\n",
      "[ 0.]\n",
      "[ 0.]\n",
      "[ 7.5]\n",
      "[[-10. ]\n",
      " [ 15. ]\n",
      " [ 10. ]\n",
      " [ 12.5]\n",
      " [  0. ]\n",
      " [  0. ]]\n",
      "[ 0.]\n",
      "[ 0.]\n",
      "[ 0.]\n",
      "[ 10.]\n",
      "[[-10. ]\n",
      " [ 15. ]\n",
      " [ 10. ]\n",
      " [ 12.5]\n",
      " [  0. ]\n",
      " [  0. ]]\n",
      "[ 0.]\n",
      "[ 0.]\n",
      "[ 0.]\n",
      "[ 0.]\n",
      "[ 0.]\n",
      "[[-10. ]\n",
      " [ 15. ]\n",
      " [ 10. ]\n",
      " [ 12.5]\n",
      " [  0. ]\n",
      " [-10. ]]\n"
     ]
    },
    {
     "data": {
      "text/plain": [
       "array([[-10. ],\n",
       "       [ 15. ],\n",
       "       [ 10. ],\n",
       "       [ 12.5],\n",
       "       [  0. ],\n",
       "       [-10. ]])"
      ]
     },
     "execution_count": 84,
     "metadata": {},
     "output_type": "execute_result"
    }
   ],
   "source": [
    "vetorY2 = []\n",
    "vetorY2 = SubsRetrL(L,B)\n",
    "vetorY2\n"
   ]
  },
  {
   "cell_type": "markdown",
   "metadata": {},
   "source": [
    "## Agora encontrar o x tal que Ux = y"
   ]
  },
  {
   "cell_type": "code",
   "execution_count": 96,
   "metadata": {
    "collapsed": true
   },
   "outputs": [],
   "source": [
    "#acho que isso tá errado.\n",
    "def SubsRetrU(U,y):\n",
    "    x = np.zeros((6,1))#criar o vetor y\n",
    "    tamLi = U.shape[0]\n",
    "    for i in range(tamLi-1,-1,-1):\n",
    "        soma= 0\n",
    "        for k in range(i+1,tamLi):\n",
    "            soma = soma + U[i,k]*x[k]\n",
    "        x[i] = (y[i] - soma)/ U[i,i]\n",
    "    return x\n",
    "   \n",
    "    "
   ]
  },
  {
   "cell_type": "code",
   "execution_count": 97,
   "metadata": {},
   "outputs": [
    {
     "data": {
      "text/plain": [
       "array([[-10. ],\n",
       "       [ 15. ],\n",
       "       [ 10. ],\n",
       "       [ 12.5],\n",
       "       [  0. ],\n",
       "       [-10. ]])"
      ]
     },
     "execution_count": 97,
     "metadata": {},
     "output_type": "execute_result"
    }
   ],
   "source": [
    "y"
   ]
  },
  {
   "cell_type": "code",
   "execution_count": 98,
   "metadata": {},
   "outputs": [
    {
     "data": {
      "text/plain": [
       "array([[ 20.        ,  10.        ,   0.        ,   0.        ,\n",
       "          0.        ,   0.        ],\n",
       "       [  0.        ,  15.        ,  10.        ,   0.        ,\n",
       "          0.        ,   0.        ],\n",
       "       [  0.        ,   0.        ,  13.33333333,  10.        ,\n",
       "          0.        ,   0.        ],\n",
       "       [  0.        ,   0.        ,   0.        ,  12.5       ,\n",
       "         10.        ,   0.        ],\n",
       "       [  0.        ,   0.        ,   0.        ,   0.        ,\n",
       "         12.        ,  10.        ],\n",
       "       [  0.        ,   0.        ,   0.        ,   0.        ,\n",
       "          0.        ,  11.66666667]])"
      ]
     },
     "execution_count": 98,
     "metadata": {},
     "output_type": "execute_result"
    }
   ],
   "source": [
    "U"
   ]
  },
  {
   "cell_type": "code",
   "execution_count": 99,
   "metadata": {},
   "outputs": [
    {
     "data": {
      "text/plain": [
       "array([[-0.85714286],\n",
       "       [ 0.71428571],\n",
       "       [ 0.42857143],\n",
       "       [ 0.42857143],\n",
       "       [ 0.71428571],\n",
       "       [-0.85714286]])"
      ]
     },
     "execution_count": 99,
     "metadata": {},
     "output_type": "execute_result"
    }
   ],
   "source": [
    "x = SubsRetrU(U,y)\n",
    "x"
   ]
  }
 ],
 "metadata": {
  "kernelspec": {
   "display_name": "Python 3",
   "language": "python",
   "name": "python3"
  },
  "language_info": {
   "codemirror_mode": {
    "name": "ipython",
    "version": 3
   },
   "file_extension": ".py",
   "mimetype": "text/x-python",
   "name": "python",
   "nbconvert_exporter": "python",
   "pygments_lexer": "ipython3",
   "version": "3.6.2"
  }
 },
 "nbformat": 4,
 "nbformat_minor": 2
}
