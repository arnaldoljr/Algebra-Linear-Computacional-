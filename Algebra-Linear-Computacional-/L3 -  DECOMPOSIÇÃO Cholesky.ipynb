{
 "cells": [
  {
   "cell_type": "markdown",
   "metadata": {},
   "source": [
    "$$\\Large{ \\textit{UNIVERSIDADE FEDERAL DO CEARÁ  } }$$\n",
    "\n",
    "$$ \\large{\\textit{Departamento de Ciências da Computação }} $$\n",
    "\n",
    "\n",
    "$$ \\large{\\textit{Mestrado e Doutorado em Ciências da Computação -  MDCC }} $$\n",
    "\n",
    "<hr/>"
   ]
  },
  {
   "cell_type": "markdown",
   "metadata": {},
   "source": [
    "\n",
    "$$\\Large{{\\textbf{ DISCIPLINA DE ÁLGEBRA LINEAR COMPUTACIONAL}}}$$\n",
    "\n",
    "$$\\large{\\texttt{Docente: Professor Creto Vidal}}$$\n",
    "\n",
    "$$\\large{\\texttt{Discente: Arnaldo Araújo}}$$\n",
    "<hr/>\n"
   ]
  },
  {
   "cell_type": "markdown",
   "metadata": {},
   "source": [
    "# Decomposição Cholesky "
   ]
  },
  {
   "cell_type": "markdown",
   "metadata": {},
   "source": [
    "## Passos - Necessidades\n",
    "* *** Precisa ser simétrica ***\n",
    "\n",
    "* ***  Matriz Positiva  *** \n",
    "\n",
    "* $ \\text{Basicamente é decompor de modo que: } \\mathbf{A} = \\mathbf{S} \\mathbf{S}^\\top$"
   ]
  },
  {
   "cell_type": "code",
   "execution_count": 1,
   "metadata": {
    "collapsed": true
   },
   "outputs": [],
   "source": [
    "#realizando os imports para todo o projeto\n",
    "import numpy as np\n",
    "from scipy import linalg ## testes\n",
    "from __future__ import print_function \n",
    "from pprint import pprint\n",
    "from math import sqrt\n"
   ]
  },
  {
   "cell_type": "code",
   "execution_count": 2,
   "metadata": {
    "collapsed": true
   },
   "outputs": [],
   "source": [
    "#funçao para criar uma matriz simétrica\n",
    "def Simetrica(n):\n",
    "    Matriz = np.mat(np.random.rand(n,n))\n",
    "    symm = Matriz*100\n",
    "    symm = (symm + symm.T)/2\n",
    "    return symm.round(2)"
   ]
  },
  {
   "cell_type": "markdown",
   "metadata": {},
   "source": [
    "### Verificar se é Positiva Definida\n"
   ]
  },
  {
   "cell_type": "code",
   "execution_count": 3,
   "metadata": {
    "collapsed": true
   },
   "outputs": [],
   "source": [
    "def isPSD(A, tol=1e-8):\n",
    "    E,V = scipy.linalg.eigh(A)\n",
    "    return np.all(E > -tol)"
   ]
  },
  {
   "cell_type": "markdown",
   "metadata": {},
   "source": [
    "## Função Decomposicão Cholesky "
   ]
  },
  {
   "cell_type": "code",
   "execution_count": 6,
   "metadata": {
    "collapsed": true
   },
   "outputs": [],
   "source": [
    "def choleskyakdsgjasijasdgarokaanj(A):\n",
    "    L = [[0.0] * len(A) for _ in range(len(A))]\n",
    "    for i in range(len(A)):\n",
    "        for j in range(i+1):\n",
    "            s = sum(L[i][k] * L[j][k] for k in range(j))\n",
    "            L[i][j] = sqrt(A[i][i] - s) if (i == j) else \\\n",
    "                      ((1.0 / L[j][j]) * (A[i][j] - s))\n",
    "    return np.asanyarray(L)"
   ]
  },
  {
   "cell_type": "markdown",
   "metadata": {},
   "source": [
    "### Matrizes para teste "
   ]
  },
  {
   "cell_type": "code",
   "execution_count": 2,
   "metadata": {},
   "outputs": [
    {
     "data": {
      "text/plain": [
       "matrix([[ 20.,  10.,   0.,   0.,   0.,   0.],\n",
       "        [ 10.,  20.,  10.,   0.,   0.,   0.],\n",
       "        [  0.,  10.,  20.,  10.,   0.,   0.],\n",
       "        [  0.,   0.,  10.,  20.,  10.,   0.],\n",
       "        [  0.,   0.,   0.,  10.,  20.,  10.],\n",
       "        [  0.,   0.,   0.,   0.,  10.,  20.]], dtype=float32)"
      ]
     },
     "execution_count": 2,
     "metadata": {},
     "output_type": "execute_result"
    }
   ],
   "source": [
    "A = np.mat([[20.,  10.0,  0.0,0.0,0.0,0.0       ],\n",
    "        [ 10.0,  20.0,  10.0,0.0,0.0,0.0        ],\n",
    "            [ 0.0,10.0,  20.0,  10.0,0.0,0.0        ],\n",
    "            [ 0.0,  0,  10.0,20.0,10.0,0.0        ],\n",
    "            [ 0.0,0.0,0.0, 10.0,  20.0,  10.0        ],\n",
    "       [0.0,0.0,0.0,0.0,10.0,20.0]],dtype='f')\n",
    "A"
   ]
  },
  {
   "cell_type": "code",
   "execution_count": 3,
   "metadata": {},
   "outputs": [
    {
     "data": {
      "text/plain": [
       "array([[ 20.,  10.,   0.,   0.,   0.,   0.],\n",
       "       [ 10.,  20.,  10.,   0.,   0.,   0.],\n",
       "       [  0.,  10.,  20.,  10.,   0.,   0.],\n",
       "       [  0.,   0.,  10.,  20.,  10.,   0.],\n",
       "       [  0.,   0.,   0.,  10.,  20.,  10.],\n",
       "       [  0.,   0.,   0.,   0.,  10.,  20.]], dtype=float32)"
      ]
     },
     "execution_count": 3,
     "metadata": {},
     "output_type": "execute_result"
    }
   ],
   "source": [
    "Ateste = np.copy(A)\n",
    "Ateste"
   ]
  },
  {
   "cell_type": "code",
   "execution_count": 4,
   "metadata": {},
   "outputs": [
    {
     "data": {
      "text/plain": [
       "array([[-10.],\n",
       "       [ 10.],\n",
       "       [ 20.],\n",
       "       [ 20.],\n",
       "       [ 10.],\n",
       "       [-10.]])"
      ]
     },
     "execution_count": 4,
     "metadata": {},
     "output_type": "execute_result"
    }
   ],
   "source": [
    "b = np.ones((6,1),dtype = float)\n",
    "b[0,0] = -10. \n",
    "b[1,0] = 10. \n",
    "b[2,0]= 20.\n",
    "b[3,0] = 20.\n",
    "b[4,0] = 10.\n",
    "b[5,0] = -10.\n",
    "b"
   ]
  },
  {
   "cell_type": "code",
   "execution_count": 7,
   "metadata": {},
   "outputs": [
    {
     "data": {
      "text/plain": [
       "array([[ 4.47213595,  0.        ,  0.        ,  0.        ,  0.        ,\n",
       "         0.        ],\n",
       "       [ 2.23606798,  3.87298335,  0.        ,  0.        ,  0.        ,\n",
       "         0.        ],\n",
       "       [ 0.        ,  2.5819889 ,  3.65148372,  0.        ,  0.        ,\n",
       "         0.        ],\n",
       "       [ 0.        ,  0.        ,  2.73861279,  3.53553391,  0.        ,\n",
       "         0.        ],\n",
       "       [ 0.        ,  0.        ,  0.        ,  2.82842712,  3.46410162,\n",
       "         0.        ],\n",
       "       [ 0.        ,  0.        ,  0.        ,  0.        ,  2.88675135,\n",
       "         3.41565026]])"
      ]
     },
     "execution_count": 7,
     "metadata": {},
     "output_type": "execute_result"
    }
   ],
   "source": [
    "%%time\n",
    "S = choleskyakdsgjasijasdgarokaanj(Ateste)\n",
    "S"
   ]
  },
  {
   "cell_type": "markdown",
   "metadata": {},
   "source": [
    "### Achar a transposta "
   ]
  },
  {
   "cell_type": "code",
   "execution_count": 9,
   "metadata": {},
   "outputs": [
    {
     "data": {
      "text/plain": [
       "array([[ 4.47213595,  2.23606798,  0.        ,  0.        ,  0.        ,\n",
       "         0.        ],\n",
       "       [ 0.        ,  3.87298335,  2.5819889 ,  0.        ,  0.        ,\n",
       "         0.        ],\n",
       "       [ 0.        ,  0.        ,  3.65148372,  2.73861279,  0.        ,\n",
       "         0.        ],\n",
       "       [ 0.        ,  0.        ,  0.        ,  3.53553391,  2.82842712,\n",
       "         0.        ],\n",
       "       [ 0.        ,  0.        ,  0.        ,  0.        ,  3.46410162,\n",
       "         2.88675135],\n",
       "       [ 0.        ,  0.        ,  0.        ,  0.        ,  0.        ,\n",
       "         3.41565026]])"
      ]
     },
     "execution_count": 9,
     "metadata": {},
     "output_type": "execute_result"
    }
   ],
   "source": [
    "#TRANSPOR A MATRIZ \n",
    "ST = np.transpose(S)\n",
    "ST"
   ]
  },
  {
   "cell_type": "markdown",
   "metadata": {},
   "source": [
    "### Verificar se a decomposição foi bem feita"
   ]
  },
  {
   "cell_type": "code",
   "execution_count": 11,
   "metadata": {},
   "outputs": [
    {
     "data": {
      "text/plain": [
       "array([[ 20.,  10.,   0.,   0.,   0.,   0.],\n",
       "       [ 10.,  20.,  10.,   0.,   0.,   0.],\n",
       "       [  0.,  10.,  20.,  10.,   0.,   0.],\n",
       "       [  0.,   0.,  10.,  20.,  10.,   0.],\n",
       "       [  0.,   0.,   0.,  10.,  20.,  10.],\n",
       "       [  0.,   0.,   0.,   0.,  10.,  20.]])"
      ]
     },
     "execution_count": 11,
     "metadata": {},
     "output_type": "execute_result"
    }
   ],
   "source": [
    "#VERIFICAR SE A DECOMPOSIÇÃO FOI BEM FEITA\n",
    "VOLTASST = np.dot(S,ST)\n",
    "VOLTASST"
   ]
  },
  {
   "cell_type": "markdown",
   "metadata": {},
   "source": [
    "<h\\>\n",
    "********************************************************\n",
    "<h\\>\n",
    "********************************************************\n",
    "<h\\>"
   ]
  },
  {
   "cell_type": "markdown",
   "metadata": {},
   "source": [
    "## Resolvendo sistemas lineares com o Cholesky"
   ]
  },
  {
   "cell_type": "markdown",
   "metadata": {},
   "source": [
    "* passo somente a matriz e o vetor B e ele me retorna a Soluçao"
   ]
  },
  {
   "cell_type": "code",
   "execution_count": 15,
   "metadata": {},
   "outputs": [
    {
     "data": {
      "text/plain": [
       "array([[-10.],\n",
       "       [ 10.],\n",
       "       [ 20.],\n",
       "       [ 20.],\n",
       "       [ 10.],\n",
       "       [-10.]])"
      ]
     },
     "execution_count": 15,
     "metadata": {},
     "output_type": "execute_result"
    }
   ],
   "source": [
    "b = np.ones((6,1),dtype = float)\n",
    "b[0,0] = -10. \n",
    "b[1,0] = 10. \n",
    "b[2,0]= 20.\n",
    "b[3,0] = 20.\n",
    "b[4,0] = 10.\n",
    "b[5,0] = -10.\n",
    "b"
   ]
  },
  {
   "cell_type": "code",
   "execution_count": 19,
   "metadata": {},
   "outputs": [
    {
     "data": {
      "text/plain": [
       "array([[-10.],\n",
       "       [ 10.],\n",
       "       [ 20.],\n",
       "       [ 20.],\n",
       "       [ 10.],\n",
       "       [-10.]])"
      ]
     },
     "execution_count": 19,
     "metadata": {},
     "output_type": "execute_result"
    }
   ],
   "source": [
    "B = np.copy(b)\n",
    "B"
   ]
  },
  {
   "cell_type": "markdown",
   "metadata": {},
   "source": [
    "### Resolver um sistema de equações \n",
    "$$\\Large{Ax = b}$$\n",
    "<hr/>\n",
    "$$\\Large{SS^{T}x=b}$$\n",
    "<hr/>\n",
    "$$\\large{\\text{Primeiramente é encontrar y tal que:}}$$\n",
    "<hr/>\n",
    "$$ \\Large{Sy = b} $$\n",
    "<hr/>\n",
    "\n",
    "$$\\large{\\text{Depois encontrar x tal que:}}$$\n",
    "<hr/>\n",
    "$$ \\Large{S^{T}x = y} $$"
   ]
  },
  {
   "cell_type": "code",
   "execution_count": 12,
   "metadata": {},
   "outputs": [
    {
     "data": {
      "text/plain": [
       "array([ 4.47213595,  2.23606798,  0.        ,  0.        ,  0.        ,  0.        ])"
      ]
     },
     "execution_count": 12,
     "metadata": {},
     "output_type": "execute_result"
    }
   ],
   "source": [
    "S[:,0]"
   ]
  },
  {
   "cell_type": "code",
   "execution_count": 14,
   "metadata": {},
   "outputs": [
    {
     "data": {
      "text/plain": [
       "array([ 4.47213595,  0.        ,  0.        ,  0.        ,  0.        ,  0.        ])"
      ]
     },
     "execution_count": 14,
     "metadata": {},
     "output_type": "execute_result"
    }
   ],
   "source": [
    "S[0,:]# S é como se fosse uma L"
   ]
  },
  {
   "cell_type": "code",
   "execution_count": 22,
   "metadata": {
    "collapsed": true
   },
   "outputs": [],
   "source": [
    "# Função de substituição retroativa para uma triangular inferior \n",
    "\n",
    "def SubsRetrL(Mat,B):\n",
    "    y = np.zeros((6,1))#criar o vetor y\n",
    "    tamLi = Mat.shape[0]\n",
    "    for i in range(0,tamLi):\n",
    "        soma = 0\n",
    "        for k in range(0,i):\n",
    "            soma =  soma + Mat[i,k]*y[k]\n",
    "        y[i] = (B[i] - soma)/Mat[i,i]\n",
    "        \n",
    "    return y\n"
   ]
  },
  {
   "cell_type": "code",
   "execution_count": 24,
   "metadata": {},
   "outputs": [
    {
     "data": {
      "text/plain": [
       "array([[ 4.47213595,  0.        ,  0.        ,  0.        ,  0.        ,\n",
       "         0.        ],\n",
       "       [ 2.23606798,  3.87298335,  0.        ,  0.        ,  0.        ,\n",
       "         0.        ],\n",
       "       [ 0.        ,  2.5819889 ,  3.65148372,  0.        ,  0.        ,\n",
       "         0.        ],\n",
       "       [ 0.        ,  0.        ,  2.73861279,  3.53553391,  0.        ,\n",
       "         0.        ],\n",
       "       [ 0.        ,  0.        ,  0.        ,  2.82842712,  3.46410162,\n",
       "         0.        ],\n",
       "       [ 0.        ,  0.        ,  0.        ,  0.        ,  2.88675135,\n",
       "         3.41565026]])"
      ]
     },
     "execution_count": 24,
     "metadata": {},
     "output_type": "execute_result"
    }
   ],
   "source": [
    "S"
   ]
  },
  {
   "cell_type": "code",
   "execution_count": 25,
   "metadata": {},
   "outputs": [
    {
     "data": {
      "text/plain": [
       "array([[-10.],\n",
       "       [ 10.],\n",
       "       [ 20.],\n",
       "       [ 20.],\n",
       "       [ 10.],\n",
       "       [-10.]])"
      ]
     },
     "execution_count": 25,
     "metadata": {},
     "output_type": "execute_result"
    }
   ],
   "source": [
    "B"
   ]
  },
  {
   "cell_type": "code",
   "execution_count": 26,
   "metadata": {},
   "outputs": [
    {
     "data": {
      "text/plain": [
       "array([[ -2.23606798e+00],\n",
       "       [  3.87298335e+00],\n",
       "       [  2.73861279e+00],\n",
       "       [  3.53553391e+00],\n",
       "       [  1.53837015e-15],\n",
       "       [ -2.92770022e+00]])"
      ]
     },
     "execution_count": 26,
     "metadata": {},
     "output_type": "execute_result"
    }
   ],
   "source": [
    "vetorY = []\n",
    "vetorY = SubsRetrL(S,B)\n",
    "vetorY"
   ]
  },
  {
   "cell_type": "code",
   "execution_count": 27,
   "metadata": {
    "collapsed": true
   },
   "outputs": [],
   "source": [
    "# agora St * x = y\n",
    "def SubsRetrU(U,y):\n",
    "    x = np.zeros((6,1))#criar o vetor y\n",
    "    tamLi = U.shape[0]\n",
    "    for i in range(tamLi-1,-1,-1):\n",
    "        soma= 0\n",
    "        for k in range(i+1,tamLi):\n",
    "            soma = soma + U[i,k]*x[k]\n",
    "        x[i] = (y[i] - soma)/ U[i,i]\n",
    "    return x\n"
   ]
  },
  {
   "cell_type": "code",
   "execution_count": 28,
   "metadata": {},
   "outputs": [
    {
     "data": {
      "text/plain": [
       "array([[-0.85714286],\n",
       "       [ 0.71428571],\n",
       "       [ 0.42857143],\n",
       "       [ 0.42857143],\n",
       "       [ 0.71428571],\n",
       "       [-0.85714286]])"
      ]
     },
     "execution_count": 28,
     "metadata": {},
     "output_type": "execute_result"
    }
   ],
   "source": [
    "vetorX = []\n",
    "vetorX = SubsRetrU(ST,vetorY)\n",
    "vetorX"
   ]
  },
  {
   "cell_type": "code",
   "execution_count": null,
   "metadata": {
    "collapsed": true
   },
   "outputs": [],
   "source": []
  }
 ],
 "metadata": {
  "kernelspec": {
   "display_name": "Python 3",
   "language": "python",
   "name": "python3"
  },
  "language_info": {
   "codemirror_mode": {
    "name": "ipython",
    "version": 3
   },
   "file_extension": ".py",
   "mimetype": "text/x-python",
   "name": "python",
   "nbconvert_exporter": "python",
   "pygments_lexer": "ipython3",
   "version": "3.6.2"
  }
 },
 "nbformat": 4,
 "nbformat_minor": 2
}
