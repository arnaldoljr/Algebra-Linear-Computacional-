{
 "cells": [
  {
   "cell_type": "markdown",
   "metadata": {},
   "source": [
    "$$\\Large{ \\textit{UNIVERSIDADE FEDERAL DO CEARÁ  } }$$\n",
    "\n",
    "$$ \\large{\\textit{Departamento de Ciências da Computação }} $$\n",
    "\n",
    "\n",
    "$$ \\large{\\textit{Mestrado e Doutorado em Ciências da Computação -  MDCC }} $$\n",
    "\n",
    "<hr/>"
   ]
  },
  {
   "cell_type": "markdown",
   "metadata": {},
   "source": [
    "$$\\Large{{\\textbf{ DISCIPLINA DE ÁLGEBRA LINEAR COMPUTACIONAL}}}$$\n",
    "\n",
    "\n",
    "\n",
    "$$\\large{\\texttt{Docente: Professor Creto Vidal}}$$\n",
    "\n",
    "$$\\large{\\texttt{Discente: Arnaldo Araújo}}$$\n",
    "<hr/>"
   ]
  },
  {
   "cell_type": "code",
   "execution_count": 2,
   "metadata": {},
   "outputs": [],
   "source": [
    "#realizando os imports para todo o projeto\n",
    "import numpy as np\n",
    "from scipy import linalg as LA ## testes\n",
    "from __future__ import print_function \n",
    "from pprint import pprint\n",
    "from math import sqrt\n",
    "from scipy import random, linalg, dot, diag, all, allclose\n",
    "from __future__ import print_function \n",
    "from pprint import pprint\n"
   ]
  },
  {
   "cell_type": "markdown",
   "metadata": {},
   "source": [
    "$$\\Large\\text{TRIDIAGONALIZAÇÃO DE MATRIZES SIMÉTRICAS POR HOUSEHOLDER}$$"
   ]
  },
  {
   "cell_type": "code",
   "execution_count": 25,
   "metadata": {},
   "outputs": [
    {
     "data": {
      "text/plain": [
       "array([[ 1.,  2.,  6.,  8.],\n",
       "       [ 2.,  5.,  7., -3.],\n",
       "       [ 6.,  7.,  9.,  4.],\n",
       "       [ 8., -3.,  4.,  3.]])"
      ]
     },
     "execution_count": 25,
     "metadata": {},
     "output_type": "execute_result"
    }
   ],
   "source": [
    "#A deve ser simétrica\n",
    "Asimetrica =  np.array([[1.,  2.,  6.,  8.], \n",
    "[2.,  5.,  7.,  -3.],\n",
    "[6.,  7.,  9.,  4.],\n",
    "[8.,  -3., 4.,  3.]])\n",
    "Asimetrica"
   ]
  },
  {
   "cell_type": "code",
   "execution_count": null,
   "metadata": {},
   "outputs": [],
   "source": []
  },
  {
   "cell_type": "code",
   "execution_count": 26,
   "metadata": {},
   "outputs": [
    {
     "data": {
      "text/plain": [
       "array([[  1.,   5.,   2.,   8.],\n",
       "       [  2.,   5.,   5.,  -3.],\n",
       "       [  1.,   7.,   9.,   4.],\n",
       "       [  8.,   4.,  12.,   3.]])"
      ]
     },
     "execution_count": 26,
     "metadata": {},
     "output_type": "execute_result"
    }
   ],
   "source": [
    "A =  np.array([[1.,  5.,  2.,  8.], \n",
    "[2.,  5.,  5.,  -3.],\n",
    "[1.,  7.,  9.,  4.],\n",
    "[8.,  4., 12.,  3.]])\n",
    "A"
   ]
  },
  {
   "cell_type": "code",
   "execution_count": 7,
   "metadata": {},
   "outputs": [],
   "source": [
    "def householder(x):\n",
    "    x[0] = x[0] + np.sign(x[0]) * np.linalg.norm(x)\n",
    "    x /= np.linalg.norm(x)\n",
    "    return x"
   ]
  },
  {
   "cell_type": "code",
   "execution_count": 10,
   "metadata": {},
   "outputs": [],
   "source": [
    "def tridiag_qr(T):\n",
    "    R = T.copy()\n",
    "    Qt = np.eye(T.shape[0])\n",
    "\n",
    "    for i in range(T.shape[0] - 1):\n",
    "        u = householder(T[i:i+2, i])\n",
    "\n",
    "        R[i:i+2, :] = R[i:i+2, :] - 2 * np.outer(u, np.dot(u, R[i:i+2, :]))\n",
    "        Qt[i:i+2, :] = Qt[i:i+2, :] - 2 * np.outer(u, np.dot(u, Qt[i:i+2, :]))\n",
    "\n",
    "    return Qt.T, R"
   ]
  },
  {
   "cell_type": "code",
   "execution_count": 14,
   "metadata": {},
   "outputs": [],
   "source": [
    "Auvect, Diago = tridiag_qr(Asimetrica)"
   ]
  },
  {
   "cell_type": "code",
   "execution_count": 16,
   "metadata": {},
   "outputs": [
    {
     "data": {
      "text/plain": [
       "array([[-0.99,  0.14, -0.02, -0.  ],\n",
       "       [-0.14, -0.98,  0.12,  0.01],\n",
       "       [ 0.  , -0.12, -0.99, -0.05],\n",
       "       [ 0.  ,  0.  , -0.05,  1.  ]])"
      ]
     },
     "execution_count": 16,
     "metadata": {},
     "output_type": "execute_result"
    }
   ],
   "source": [
    "Auvect.round(2)"
   ]
  },
  {
   "cell_type": "code",
   "execution_count": 18,
   "metadata": {},
   "outputs": [
    {
     "data": {
      "text/plain": [
       "array([[-1.  , -2.12, -6.91, -7.51],\n",
       "       [-0.71, -0.72, -6.18,  3.57],\n",
       "       [-6.37,  0.12, -0.27, -4.61],\n",
       "       [ 7.68, -3.  ,  0.04,  2.76]])"
      ]
     },
     "execution_count": 18,
     "metadata": {},
     "output_type": "execute_result"
    }
   ],
   "source": [
    "Diago.round(2)"
   ]
  },
  {
   "cell_type": "code",
   "execution_count": 37,
   "metadata": {},
   "outputs": [
    {
     "data": {
      "text/plain": [
       "array([[  1.  , -10.2 ,   0.  ,   0.  ],\n",
       "       [-10.2 ,   9.54,   5.45,   0.  ],\n",
       "       [  0.  ,   5.45,   5.13,   6.36],\n",
       "       [  0.  ,   0.  ,   6.36,   2.33]])"
      ]
     },
     "execution_count": 37,
     "metadata": {},
     "output_type": "execute_result"
    }
   ],
   "source": [
    "linalg.hessenberg(Asimetrica).round(2)"
   ]
  },
  {
   "cell_type": "code",
   "execution_count": 74,
   "metadata": {},
   "outputs": [],
   "source": [
    "def TridHH(A):\n",
    "    Mat = np.copy(A)\n",
    "    l,c = A.shape\n",
    "    Hfinal = np.eye(l)\n",
    "    for i in range(l-2):\n",
    "        H = np.eye(l)\n",
    "        V = Mat[i+1:,i]\n",
    "        normaV = linalg.norm(V)\n",
    "        N = np.copy(V)\n",
    "        N[0] = N[0] + np.sign(N[0]) *normaV\n",
    "        N /= np.linalg.norm(N)\n",
    "        I = np.eye(N.shape[0])\n",
    "        H[i+1:,i+1:] = I - 2*(np.outer(N,N.T))\n",
    "        MT = np.dot(H,Mat)\n",
    "        MT2 = np.dot(MT,H)\n",
    "        Mat = np.copy(MT2)\n",
    "        HT = np.dot(Hfinal,H)\n",
    "        Hfinal = np.copy(HT)\n",
    "    return Mat,Hfinal\n",
    "        \n",
    "        \n",
    "        \n",
    "        "
   ]
  },
  {
   "cell_type": "code",
   "execution_count": 76,
   "metadata": {},
   "outputs": [],
   "source": [
    "Trid ,H = TridHH(Asimetrica)"
   ]
  },
  {
   "cell_type": "code",
   "execution_count": 78,
   "metadata": {},
   "outputs": [
    {
     "data": {
      "text/plain": [
       "array([[  1.  , -10.2 ,  -0.  ,  -0.  ],\n",
       "       [-10.2 ,   9.54,   5.45,   0.  ],\n",
       "       [ -0.  ,   5.45,   5.13,   6.36],\n",
       "       [ -0.  ,   0.  ,   6.36,   2.33]])"
      ]
     },
     "execution_count": 78,
     "metadata": {},
     "output_type": "execute_result"
    }
   ],
   "source": [
    "M2.round(2)"
   ]
  },
  {
   "cell_type": "code",
   "execution_count": null,
   "metadata": {},
   "outputs": [],
   "source": []
  },
  {
   "cell_type": "code",
   "execution_count": null,
   "metadata": {},
   "outputs": [],
   "source": []
  },
  {
   "cell_type": "code",
   "execution_count": null,
   "metadata": {},
   "outputs": [],
   "source": []
  }
 ],
 "metadata": {
  "kernelspec": {
   "display_name": "Python 3",
   "language": "python",
   "name": "python3"
  },
  "language_info": {
   "codemirror_mode": {
    "name": "ipython",
    "version": 3
   },
   "file_extension": ".py",
   "mimetype": "text/x-python",
   "name": "python",
   "nbconvert_exporter": "python",
   "pygments_lexer": "ipython3",
   "version": "3.5.2"
  }
 },
 "nbformat": 4,
 "nbformat_minor": 2
}
